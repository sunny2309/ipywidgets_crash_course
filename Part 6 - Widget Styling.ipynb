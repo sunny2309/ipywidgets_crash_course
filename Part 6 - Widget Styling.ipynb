{
 "cells": [
  {
   "cell_type": "markdown",
   "id": "a7296720",
   "metadata": {},
   "source": [
    "# ipywidgets Crash Course: Interactive UIs in Jupyter Notebooks\n",
    "\n",
    "## <span style=\"color:tomato;\">Part 6: Widget Styling</span>\n",
    "\n",
    "1. **Predefined Style**\n",
    "2. **\"style\" Attribute**\n",
    "    * Button Style\n",
    "    * Progress Style\n",
    "    * Slider\n",
    "    * Toggle Button\n",
    "    * Checkbox\n",
    "    * Text Box & Text Area\n",
    "    * HTML\n",
    "\n",
    "### <span style=\"color:tomato;\">Installation</span>\n",
    "\n",
    "* **pip install ipywidgets**"
   ]
  },
  {
   "cell_type": "code",
   "execution_count": 1,
   "id": "ce691032",
   "metadata": {},
   "outputs": [
    {
     "name": "stdout",
     "output_type": "stream",
     "text": [
      "8.0.6\n"
     ]
    }
   ],
   "source": [
    "import ipywidgets as widgets\n",
    "\n",
    "print(widgets.__version__)"
   ]
  },
  {
   "cell_type": "markdown",
   "id": "27c0a80b",
   "metadata": {},
   "source": [
    "## 1. Predefined Style (Button Style)"
   ]
  },
  {
   "cell_type": "code",
   "execution_count": 2,
   "id": "f45caa9e",
   "metadata": {},
   "outputs": [
    {
     "data": {
      "application/vnd.jupyter.widget-view+json": {
       "model_id": "9c675518b0a5413cb1ac95ae326dc691",
       "version_major": 2,
       "version_minor": 0
      },
      "text/plain": [
       "Button(description='Submit', style=ButtonStyle())"
      ]
     },
     "execution_count": 2,
     "metadata": {},
     "output_type": "execute_result"
    }
   ],
   "source": [
    "b1 = widgets.Button(description=\"Submit\")\n",
    "\n",
    "b1"
   ]
  },
  {
   "cell_type": "code",
   "execution_count": 3,
   "id": "34af327e",
   "metadata": {},
   "outputs": [
    {
     "data": {
      "application/vnd.jupyter.widget-view+json": {
       "model_id": "9bfdc66f50c6455ebcc4e13c8281b951",
       "version_major": 2,
       "version_minor": 0
      },
      "text/plain": [
       "Button(button_style='success', description='Submit', style=ButtonStyle())"
      ]
     },
     "execution_count": 3,
     "metadata": {},
     "output_type": "execute_result"
    }
   ],
   "source": [
    "b1 = widgets.Button(description=\"Submit\", button_style=\"success\")\n",
    "\n",
    "b1"
   ]
  },
  {
   "cell_type": "code",
   "execution_count": 4,
   "id": "b9b98247",
   "metadata": {},
   "outputs": [
    {
     "data": {
      "application/vnd.jupyter.widget-view+json": {
       "model_id": "72e7c3eaade343b0a07cb0f508212f83",
       "version_major": 2,
       "version_minor": 0
      },
      "text/plain": [
       "Button(button_style='warning', description='Submit', style=ButtonStyle())"
      ]
     },
     "execution_count": 4,
     "metadata": {},
     "output_type": "execute_result"
    }
   ],
   "source": [
    "b1 = widgets.Button(description=\"Submit\", button_style=\"warning\")\n",
    "\n",
    "b1"
   ]
  },
  {
   "cell_type": "code",
   "execution_count": 5,
   "id": "9d1d22e2",
   "metadata": {},
   "outputs": [
    {
     "data": {
      "application/vnd.jupyter.widget-view+json": {
       "model_id": "ae907727f75c48358d06c1315d170e5b",
       "version_major": 2,
       "version_minor": 0
      },
      "text/plain": [
       "Button(button_style='info', description='Submit', style=ButtonStyle())"
      ]
     },
     "execution_count": 5,
     "metadata": {},
     "output_type": "execute_result"
    }
   ],
   "source": [
    "b1 = widgets.Button(description=\"Submit\", button_style=\"info\")\n",
    "\n",
    "b1"
   ]
  },
  {
   "cell_type": "markdown",
   "id": "704caaf1",
   "metadata": {},
   "source": [
    "-----------------------------------\n",
    "\n",
    "#### List of Available Values of \"button_style\"\n",
    "\n",
    "* **success**\n",
    "* **warning**\n",
    "* **danger**\n",
    "* **primary**\n",
    "* **info**"
   ]
  },
  {
   "cell_type": "markdown",
   "id": "782bba62",
   "metadata": {},
   "source": [
    "## 2. \"style\" Attribute/Parameter"
   ]
  },
  {
   "cell_type": "markdown",
   "id": "93c6b52f",
   "metadata": {},
   "source": [
    "### 2.1 Button"
   ]
  },
  {
   "cell_type": "code",
   "execution_count": 6,
   "id": "d4d435e2",
   "metadata": {
    "scrolled": true
   },
   "outputs": [
    {
     "data": {
      "application/vnd.jupyter.widget-view+json": {
       "model_id": "00208aef8d2e492396fa805c7ca88707",
       "version_major": 2,
       "version_minor": 0
      },
      "text/plain": [
       "Button(description='Submit', style=ButtonStyle(button_color='tomato', font_size='20px', font_weight='bold'))"
      ]
     },
     "execution_count": 6,
     "metadata": {},
     "output_type": "execute_result"
    }
   ],
   "source": [
    "btn_style = widgets.ButtonStyle(button_color=\"tomato\", font_size=\"20px\", font_weight=\"bold\")\n",
    "\n",
    "b1 = widgets.Button(description=\"Submit\", style=btn_style)\n",
    "\n",
    "b1"
   ]
  },
  {
   "cell_type": "code",
   "execution_count": 7,
   "id": "33705491",
   "metadata": {},
   "outputs": [
    {
     "data": {
      "application/vnd.jupyter.widget-view+json": {
       "model_id": "4ce781e1560a4dd7a3dcf61d346f3407",
       "version_major": 2,
       "version_minor": 0
      },
      "text/plain": [
       "Button(description='Submit', style=ButtonStyle(button_color='tomato', font_size='20px', font_weight='bold', te…"
      ]
     },
     "execution_count": 7,
     "metadata": {},
     "output_type": "execute_result"
    }
   ],
   "source": [
    "b1 = widgets.Button(description=\"Submit\")\n",
    "\n",
    "b1.style.button_color = \"tomato\"\n",
    "b1.style.font_size = \"20px\"\n",
    "b1.style.font_weight = \"bold\"\n",
    "b1.style.text_color = \"white\"\n",
    "#b1.style.text_decoration = \"underline overline\" # underline, overline, line-through\n",
    "\n",
    "b1"
   ]
  },
  {
   "cell_type": "code",
   "execution_count": 8,
   "id": "191501b1",
   "metadata": {},
   "outputs": [
    {
     "data": {
      "text/plain": [
       "['_model_module',\n",
       " '_model_module_version',\n",
       " '_model_name',\n",
       " '_view_count',\n",
       " '_view_module',\n",
       " '_view_module_version',\n",
       " '_view_name',\n",
       " 'button_color',\n",
       " 'font_family',\n",
       " 'font_size',\n",
       " 'font_style',\n",
       " 'font_variant',\n",
       " 'font_weight',\n",
       " 'text_color',\n",
       " 'text_decoration']"
      ]
     },
     "execution_count": 8,
     "metadata": {},
     "output_type": "execute_result"
    }
   ],
   "source": [
    "b1.style.keys"
   ]
  },
  {
   "cell_type": "code",
   "execution_count": 9,
   "id": "a7d57351",
   "metadata": {},
   "outputs": [
    {
     "data": {
      "text/plain": [
       "['button_color',\n",
       " 'font_family',\n",
       " 'font_size',\n",
       " 'font_style',\n",
       " 'font_variant',\n",
       " 'font_weight',\n",
       " 'text_color',\n",
       " 'text_decoration']"
      ]
     },
     "execution_count": 9,
     "metadata": {},
     "output_type": "execute_result"
    }
   ],
   "source": [
    "[val for val in b1.style.keys if not val.startswith(\"_\")]"
   ]
  },
  {
   "cell_type": "code",
   "execution_count": 10,
   "id": "e5faba6a",
   "metadata": {},
   "outputs": [
    {
     "data": {
      "application/vnd.jupyter.widget-view+json": {
       "model_id": "7aaca2fadef94baeb219f0d3b2cbe696",
       "version_major": 2,
       "version_minor": 0
      },
      "text/plain": [
       "Button(description='Reset', style=ButtonStyle(button_color='tomato', font_size='20px', font_weight='bold', tex…"
      ]
     },
     "execution_count": 10,
     "metadata": {},
     "output_type": "execute_result"
    }
   ],
   "source": [
    "b2 = widgets.Button(description=\"Reset\")\n",
    "\n",
    "b2.style = b1.style\n",
    "\n",
    "b2"
   ]
  },
  {
   "cell_type": "markdown",
   "id": "a6788bfd",
   "metadata": {},
   "source": [
    "### 2.2 Progress Bar"
   ]
  },
  {
   "cell_type": "code",
   "execution_count": 11,
   "id": "c218c835",
   "metadata": {},
   "outputs": [
    {
     "data": {
      "application/vnd.jupyter.widget-view+json": {
       "model_id": "710141b023144218b106bc46d40b7820",
       "version_major": 2,
       "version_minor": 0
      },
      "text/plain": [
       "IntProgress(value=10, max=30)"
      ]
     },
     "execution_count": 11,
     "metadata": {},
     "output_type": "execute_result"
    }
   ],
   "source": [
    "progress = widgets.IntProgress(value=10, min=0, max=30, step=1)\n",
    "\n",
    "progress"
   ]
  },
  {
   "cell_type": "code",
   "execution_count": 12,
   "id": "4f490d86",
   "metadata": {},
   "outputs": [],
   "source": [
    "progress.style.bar_color = \"lime\""
   ]
  },
  {
   "cell_type": "code",
   "execution_count": 13,
   "id": "c6c0288f",
   "metadata": {},
   "outputs": [
    {
     "data": {
      "text/plain": [
       "['bar_color', 'description_width']"
      ]
     },
     "execution_count": 13,
     "metadata": {},
     "output_type": "execute_result"
    }
   ],
   "source": [
    "[val for val in progress.style.keys if not val.startswith(\"_\")]"
   ]
  },
  {
   "cell_type": "markdown",
   "id": "716d99f3",
   "metadata": {},
   "source": [
    "### 2.3 Slider"
   ]
  },
  {
   "cell_type": "code",
   "execution_count": 14,
   "id": "e8362348",
   "metadata": {},
   "outputs": [
    {
     "data": {
      "application/vnd.jupyter.widget-view+json": {
       "model_id": "c9512c854641476fa4df61c7054e87f2",
       "version_major": 2,
       "version_minor": 0
      },
      "text/plain": [
       "IntRangeSlider(value=(2, 5), max=10)"
      ]
     },
     "execution_count": 14,
     "metadata": {},
     "output_type": "execute_result"
    }
   ],
   "source": [
    "slider = widgets.IntRangeSlider(value=(2,5), min=0, max=10, step=1)\n",
    "\n",
    "slider"
   ]
  },
  {
   "cell_type": "code",
   "execution_count": 15,
   "id": "4978bdee",
   "metadata": {},
   "outputs": [
    {
     "data": {
      "text/plain": [
       "['description_width', 'handle_color']"
      ]
     },
     "execution_count": 15,
     "metadata": {},
     "output_type": "execute_result"
    }
   ],
   "source": [
    "[val for val in slider.style.keys if not val.startswith(\"_\")]"
   ]
  },
  {
   "cell_type": "code",
   "execution_count": 16,
   "id": "ab8b18d4",
   "metadata": {},
   "outputs": [],
   "source": [
    "slider.style.handle_color = \"dodgerblue\""
   ]
  },
  {
   "cell_type": "code",
   "execution_count": 17,
   "id": "6561ca72",
   "metadata": {},
   "outputs": [],
   "source": [
    "slider.style.handle_color = \"red\""
   ]
  },
  {
   "cell_type": "markdown",
   "id": "eea10017",
   "metadata": {},
   "source": [
    "### 2.4 Toggle Button"
   ]
  },
  {
   "cell_type": "code",
   "execution_count": 18,
   "id": "4e31110e",
   "metadata": {},
   "outputs": [
    {
     "data": {
      "application/vnd.jupyter.widget-view+json": {
       "model_id": "13eca9505e9f4f668cf23f2313b8a063",
       "version_major": 2,
       "version_minor": 0
      },
      "text/plain": [
       "ToggleButton(value=False, description='Save?')"
      ]
     },
     "execution_count": 18,
     "metadata": {},
     "output_type": "execute_result"
    }
   ],
   "source": [
    "save = widgets.ToggleButton(description=\"Save?\")\n",
    "\n",
    "save"
   ]
  },
  {
   "cell_type": "code",
   "execution_count": 19,
   "id": "c98dce37",
   "metadata": {},
   "outputs": [
    {
     "data": {
      "text/plain": [
       "['description_width',\n",
       " 'font_family',\n",
       " 'font_size',\n",
       " 'font_style',\n",
       " 'font_variant',\n",
       " 'font_weight',\n",
       " 'text_color',\n",
       " 'text_decoration']"
      ]
     },
     "execution_count": 19,
     "metadata": {},
     "output_type": "execute_result"
    }
   ],
   "source": [
    "[val for val in save.style.keys if not val.startswith(\"_\")]"
   ]
  },
  {
   "cell_type": "code",
   "execution_count": 20,
   "id": "7de0fe57",
   "metadata": {},
   "outputs": [],
   "source": [
    "save.style.text_color = \"red\"\n",
    "save.style.font_size = \"20px\"\n",
    "save.style.font_weight = \"bold\""
   ]
  },
  {
   "cell_type": "markdown",
   "id": "2c7beac4",
   "metadata": {},
   "source": [
    "### 2.5 Toggle Buttons"
   ]
  },
  {
   "cell_type": "code",
   "execution_count": 21,
   "id": "002120c1",
   "metadata": {},
   "outputs": [
    {
     "data": {
      "application/vnd.jupyter.widget-view+json": {
       "model_id": "cb34a1e101634b27a9c220b1a10a5ab8",
       "version_major": 2,
       "version_minor": 0
      },
      "text/plain": [
       "ToggleButtons(options=('Male', 'Female', 'Other'), value='Male')"
      ]
     },
     "execution_count": 21,
     "metadata": {},
     "output_type": "execute_result"
    }
   ],
   "source": [
    "gender = widgets.ToggleButtons(options=[\"Male\", \"Female\", \"Other\"])\n",
    "\n",
    "gender"
   ]
  },
  {
   "cell_type": "code",
   "execution_count": 22,
   "id": "c4c63711",
   "metadata": {},
   "outputs": [
    {
     "data": {
      "text/plain": [
       "['button_width', 'description_width', 'font_weight']"
      ]
     },
     "execution_count": 22,
     "metadata": {},
     "output_type": "execute_result"
    }
   ],
   "source": [
    "[val for val in gender.style.keys if not val.startswith(\"_\")]"
   ]
  },
  {
   "cell_type": "code",
   "execution_count": 23,
   "id": "a6370833",
   "metadata": {},
   "outputs": [],
   "source": [
    "gender.style.font_weight = \"bold\"\n",
    "gender.style.button_width = \"250px\""
   ]
  },
  {
   "cell_type": "markdown",
   "id": "c7a69e3c",
   "metadata": {},
   "source": [
    "### 2.6 CheckBox "
   ]
  },
  {
   "cell_type": "code",
   "execution_count": 24,
   "id": "8bc9e8a0",
   "metadata": {},
   "outputs": [
    {
     "data": {
      "application/vnd.jupyter.widget-view+json": {
       "model_id": "8191ac529e544bd293513838c1277bc4",
       "version_major": 2,
       "version_minor": 0
      },
      "text/plain": [
       "Checkbox(value=False, description='Save Model?')"
      ]
     },
     "execution_count": 24,
     "metadata": {},
     "output_type": "execute_result"
    }
   ],
   "source": [
    "save = widgets.Checkbox(description=\"Save Model?\")\n",
    "\n",
    "save"
   ]
  },
  {
   "cell_type": "code",
   "execution_count": 25,
   "id": "ca2dd700",
   "metadata": {},
   "outputs": [
    {
     "data": {
      "text/plain": [
       "['background', 'description_width']"
      ]
     },
     "execution_count": 25,
     "metadata": {},
     "output_type": "execute_result"
    }
   ],
   "source": [
    "[val for val in save.style.keys if not val.startswith(\"_\")]"
   ]
  },
  {
   "cell_type": "code",
   "execution_count": 26,
   "id": "471b05fd",
   "metadata": {},
   "outputs": [],
   "source": [
    "save.style.background = \"tomato\""
   ]
  },
  {
   "cell_type": "markdown",
   "id": "c338de5f",
   "metadata": {},
   "source": [
    "### 2.6 Text Box & Text Area"
   ]
  },
  {
   "cell_type": "code",
   "execution_count": 27,
   "id": "24fc82a4",
   "metadata": {},
   "outputs": [
    {
     "data": {
      "application/vnd.jupyter.widget-view+json": {
       "model_id": "8e8736ebefa54055acf9962b4c5f299c",
       "version_major": 2,
       "version_minor": 0
      },
      "text/plain": [
       "Text(value='John Wick', description='Enter Name')"
      ]
     },
     "execution_count": 27,
     "metadata": {},
     "output_type": "execute_result"
    }
   ],
   "source": [
    "name = widgets.Text(description=\"Enter Name\", value=\"John Wick\")\n",
    "\n",
    "name"
   ]
  },
  {
   "cell_type": "code",
   "execution_count": 28,
   "id": "ea477b3a",
   "metadata": {},
   "outputs": [
    {
     "data": {
      "text/plain": [
       "['background', 'description_width', 'font_size', 'text_color']"
      ]
     },
     "execution_count": 28,
     "metadata": {},
     "output_type": "execute_result"
    }
   ],
   "source": [
    "[val for val in name.style.keys if not val.startswith(\"_\")]"
   ]
  },
  {
   "cell_type": "code",
   "execution_count": 29,
   "id": "0af97cb1",
   "metadata": {},
   "outputs": [],
   "source": [
    "name.style.background = \"lime\"\n",
    "name.style.font_size = \"20px\"\n",
    "name.style.text_color = \"tomato\""
   ]
  },
  {
   "cell_type": "code",
   "execution_count": 30,
   "id": "dbe99afc",
   "metadata": {},
   "outputs": [
    {
     "data": {
      "application/vnd.jupyter.widget-view+json": {
       "model_id": "1bea9f5d7ab34398921ff73b9fcbdb74",
       "version_major": 2,
       "version_minor": 0
      },
      "text/plain": [
       "Textarea(value='John Wick', description='Enter Name')"
      ]
     },
     "execution_count": 30,
     "metadata": {},
     "output_type": "execute_result"
    }
   ],
   "source": [
    "address = widgets.Textarea(description=\"Enter Name\", value=\"John Wick\")\n",
    "\n",
    "address"
   ]
  },
  {
   "cell_type": "code",
   "execution_count": 31,
   "id": "853a5ff2",
   "metadata": {},
   "outputs": [
    {
     "data": {
      "text/plain": [
       "['background', 'description_width', 'font_size', 'text_color']"
      ]
     },
     "execution_count": 31,
     "metadata": {},
     "output_type": "execute_result"
    }
   ],
   "source": [
    "[val for val in address.style.keys if not val.startswith(\"_\")]"
   ]
  },
  {
   "cell_type": "code",
   "execution_count": 32,
   "id": "779a7b13",
   "metadata": {},
   "outputs": [],
   "source": [
    "address.style.background = \"lime\"\n",
    "address.style.font_size = \"20px\"\n",
    "address.style.text_color = \"tomato\""
   ]
  },
  {
   "cell_type": "markdown",
   "id": "d99430b1",
   "metadata": {},
   "source": [
    "### 2.7 HTML"
   ]
  },
  {
   "cell_type": "code",
   "execution_count": 33,
   "id": "bd286a91",
   "metadata": {},
   "outputs": [
    {
     "data": {
      "application/vnd.jupyter.widget-view+json": {
       "model_id": "96fc9a7bdd1f454e8511e78f04d517d2",
       "version_major": 2,
       "version_minor": 0
      },
      "text/plain": [
       "HTML(value='<h1>Welcome to CoderzColumn</h1>')"
      ]
     },
     "execution_count": 33,
     "metadata": {},
     "output_type": "execute_result"
    }
   ],
   "source": [
    "header = widgets.HTML(\"<h1>Welcome to CoderzColumn</h1>\")\n",
    "\n",
    "header"
   ]
  },
  {
   "cell_type": "code",
   "execution_count": 34,
   "id": "f5ff3911",
   "metadata": {},
   "outputs": [
    {
     "data": {
      "text/plain": [
       "['background', 'description_width', 'font_size', 'text_color']"
      ]
     },
     "execution_count": 34,
     "metadata": {},
     "output_type": "execute_result"
    }
   ],
   "source": [
    "[val for val in header.style.keys if not val.startswith(\"_\")]"
   ]
  },
  {
   "cell_type": "code",
   "execution_count": 35,
   "id": "a8212a32",
   "metadata": {},
   "outputs": [],
   "source": [
    "header.style.background = \"lime\"\n",
    "header.style.font_size = \"20px\"\n",
    "header.style.text_color = \"tomato\""
   ]
  },
  {
   "cell_type": "code",
   "execution_count": 36,
   "id": "019ce58c",
   "metadata": {},
   "outputs": [
    {
     "data": {
      "application/vnd.jupyter.widget-view+json": {
       "model_id": "52b1505ff40e4425a78b80d3ae5d4d29",
       "version_major": 2,
       "version_minor": 0
      },
      "text/plain": [
       "HTML(value=\"<h1 style='color:tomato;background-color:lime;font-size:40px;font-weight:bold;font-style:italic;'>…"
      ]
     },
     "execution_count": 36,
     "metadata": {},
     "output_type": "execute_result"
    }
   ],
   "source": [
    "header = widgets.HTML(\"<h1 style='color:tomato;background-color:lime;font-size:40px;font-weight:bold;font-style:italic;'>Welcome to CoderzColumn</h1>\")\n",
    "\n",
    "header"
   ]
  },
  {
   "cell_type": "markdown",
   "id": "1a992fc5",
   "metadata": {},
   "source": [
    "## Summary\n",
    "\n",
    "In today's video, I explained how to style widget in Jupyter notebook. Please feel free to let us know in the comments section if you have any doubts.\n",
    "\n",
    "Visit **https://coderzcolumn.com** for more **Python Tutorials**."
   ]
  }
 ],
 "metadata": {
  "kernelspec": {
   "display_name": "Python 3 (ipykernel)",
   "language": "python",
   "name": "python3"
  },
  "language_info": {
   "codemirror_mode": {
    "name": "ipython",
    "version": 3
   },
   "file_extension": ".py",
   "mimetype": "text/x-python",
   "name": "python",
   "nbconvert_exporter": "python",
   "pygments_lexer": "ipython3",
   "version": "3.10.9"
  }
 },
 "nbformat": 4,
 "nbformat_minor": 5
}
