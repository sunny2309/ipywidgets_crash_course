{
 "cells": [
  {
   "cell_type": "markdown",
   "metadata": {},
   "source": [
    "# ipywidgets Crash Course: Interactive UIs in Jupyter Notebooks\n",
    "\n",
    "## <span style=\"color:tomato;\">Part 3: Link Widget with Other Widgets</span>\n",
    "\n",
    "1. **[Python Linking]()**\n",
    "    * Two Way Link\n",
    "    * One Way Link\n",
    "2. **[Javascript Linking]()**\n",
    "\n",
    "### <span style=\"color:tomato;\">Installation</span>\n",
    "\n",
    "* **pip install ipywidgets**"
   ]
  },
  {
   "cell_type": "code",
   "execution_count": 1,
   "metadata": {},
   "outputs": [
    {
     "name": "stdout",
     "output_type": "stream",
     "text": [
      "8.0.6\n"
     ]
    }
   ],
   "source": [
    "import ipywidgets as widgets\n",
    "\n",
    "print(widgets.__version__)"
   ]
  },
  {
   "cell_type": "markdown",
   "metadata": {},
   "source": [
    "## 1. Python Linking"
   ]
  },
  {
   "cell_type": "markdown",
   "metadata": {},
   "source": [
    "### 1.1 Two Way Linking\n",
    "\n",
    "* **link(source, target, transform=None)** - Link traits from different objects together so they remain in sync."
   ]
  },
  {
   "cell_type": "code",
   "execution_count": 2,
   "metadata": {},
   "outputs": [
    {
     "data": {
      "application/vnd.jupyter.widget-view+json": {
       "model_id": "e40d657a297e49acb2ad4487cdf41745",
       "version_major": 2,
       "version_minor": 0
      },
      "text/plain": [
       "IntText(value=5, description='Int Text Box:')"
      ]
     },
     "metadata": {},
     "output_type": "display_data"
    },
    {
     "data": {
      "application/vnd.jupyter.widget-view+json": {
       "model_id": "183985a06f684982b1ec90780df03a4c",
       "version_major": 2,
       "version_minor": 0
      },
      "text/plain": [
       "IntSlider(value=5, description='Int Slider:')"
      ]
     },
     "metadata": {},
     "output_type": "display_data"
    }
   ],
   "source": [
    "x = widgets.IntText(description=\"Int Text Box:\", value=5)\n",
    "y = widgets.IntSlider(description=\"Int Slider:\")\n",
    "\n",
    "two_way_link_python = widgets.link((x, 'value'), (y, 'value'))\n",
    "\n",
    "display(x, y)"
   ]
  },
  {
   "cell_type": "code",
   "execution_count": 3,
   "metadata": {},
   "outputs": [],
   "source": [
    "x.value = 12"
   ]
  },
  {
   "cell_type": "code",
   "execution_count": 4,
   "metadata": {},
   "outputs": [],
   "source": [
    "y.value = 13"
   ]
  },
  {
   "cell_type": "code",
   "execution_count": 5,
   "metadata": {},
   "outputs": [
    {
     "data": {
      "application/vnd.jupyter.widget-view+json": {
       "model_id": "810bd99739934f9eb3153213eff2db17",
       "version_major": 2,
       "version_minor": 0
      },
      "text/plain": [
       "Dropdown(description='Dropdown:', options=(('Option1', 0), ('Option2', 1), ('Option3', 2)), value=0)"
      ]
     },
     "metadata": {},
     "output_type": "display_data"
    },
    {
     "data": {
      "application/vnd.jupyter.widget-view+json": {
       "model_id": "abd1506c207a4000a2e85b23f07ff6d1",
       "version_major": 2,
       "version_minor": 0
      },
      "text/plain": [
       "IntSlider(value=0, description='Int Slider:', max=2)"
      ]
     },
     "metadata": {},
     "output_type": "display_data"
    }
   ],
   "source": [
    "x = widgets.Dropdown(description=\"Dropdown:\", options=[(\"Option1\", 0), (\"Option2\", 1), (\"Option3\", 2)])\n",
    "y = widgets.IntSlider(description=\"Int Slider:\", min=0, max=2)\n",
    "\n",
    "two_way_link_python12 = widgets.link((x, 'value'), (y, 'value'))\n",
    "\n",
    "display(x, y)"
   ]
  },
  {
   "cell_type": "code",
   "execution_count": 6,
   "metadata": {},
   "outputs": [
    {
     "data": {
      "application/vnd.jupyter.widget-view+json": {
       "model_id": "31cb177532194308b196baa181c179f3",
       "version_major": 2,
       "version_minor": 0
      },
      "text/plain": [
       "IntText(value=0, description='Minimum:')"
      ]
     },
     "metadata": {},
     "output_type": "display_data"
    },
    {
     "data": {
      "application/vnd.jupyter.widget-view+json": {
       "model_id": "11f1266fd8cd449ea5dbf1664c091e4d",
       "version_major": 2,
       "version_minor": 0
      },
      "text/plain": [
       "IntText(value=10, description='Maximum:')"
      ]
     },
     "metadata": {},
     "output_type": "display_data"
    },
    {
     "data": {
      "application/vnd.jupyter.widget-view+json": {
       "model_id": "431575ad8cc0454389803b81857447b0",
       "version_major": 2,
       "version_minor": 0
      },
      "text/plain": [
       "IntText(value=1, description='Step:')"
      ]
     },
     "metadata": {},
     "output_type": "display_data"
    },
    {
     "data": {
      "application/vnd.jupyter.widget-view+json": {
       "model_id": "e80dd5d58eb74b0fa78ef1630d1a4289",
       "version_major": 2,
       "version_minor": 0
      },
      "text/plain": [
       "Text(value='Weight', description='Label:')"
      ]
     },
     "metadata": {},
     "output_type": "display_data"
    },
    {
     "data": {
      "application/vnd.jupyter.widget-view+json": {
       "model_id": "fb4a984d7713492fb05daf4dc5eb7c82",
       "version_major": 2,
       "version_minor": 0
      },
      "text/plain": [
       "IntSlider(value=0, description='Weight', max=10)"
      ]
     },
     "metadata": {},
     "output_type": "display_data"
    }
   ],
   "source": [
    "x1 = widgets.IntText(description=\"Minimum:\", value=0)\n",
    "x2 = widgets.IntText(description=\"Maximum:\", value=10)\n",
    "x3 = widgets.IntText(description=\"Step:\", value=1)\n",
    "x4 = widgets.Text(description=\"Label:\", value=\"Weight\")\n",
    "\n",
    "y = widgets.IntSlider(description=\"Int Slider:\")\n",
    "\n",
    "two_way_link_python1 = widgets.link((x1, 'value'), (y, 'min'))\n",
    "two_way_link_python2 = widgets.link((x2, 'value'), (y, 'max'))\n",
    "two_way_link_python3 = widgets.link((x3, 'value'), (y, 'step'))\n",
    "two_way_link_python4 = widgets.link((x4, 'value'), (y, 'description'))\n",
    "\n",
    "display(x1, x2, x3, x4, y)"
   ]
  },
  {
   "cell_type": "markdown",
   "metadata": {},
   "source": [
    "### 1.2 One Way Linking\n",
    "\n",
    "* **dlink(source, target, transform=None)** - Link the trait of a source object with traits of target objects."
   ]
  },
  {
   "cell_type": "code",
   "execution_count": 7,
   "metadata": {},
   "outputs": [
    {
     "data": {
      "application/vnd.jupyter.widget-view+json": {
       "model_id": "95202799e2724cc893b25703ad1cab3d",
       "version_major": 2,
       "version_minor": 0
      },
      "text/plain": [
       "IntText(value=5, description='Int Text Box:')"
      ]
     },
     "metadata": {},
     "output_type": "display_data"
    },
    {
     "data": {
      "application/vnd.jupyter.widget-view+json": {
       "model_id": "54773104bd414c9191c3ebf7e73c1aba",
       "version_major": 2,
       "version_minor": 0
      },
      "text/plain": [
       "IntSlider(value=5, description='Int Slider:')"
      ]
     },
     "metadata": {},
     "output_type": "display_data"
    }
   ],
   "source": [
    "x = widgets.IntText(description=\"Int Text Box:\", value=5)\n",
    "y = widgets.IntSlider(description=\"Int Slider:\")\n",
    "\n",
    "one_way_link_python = widgets.dlink((x, 'value'), (y, 'value'))\n",
    "\n",
    "display(x, y)"
   ]
  },
  {
   "cell_type": "code",
   "execution_count": 8,
   "metadata": {},
   "outputs": [
    {
     "data": {
      "application/vnd.jupyter.widget-view+json": {
       "model_id": "05b69c990f4547eabcd67384f7fd0ac7",
       "version_major": 2,
       "version_minor": 0
      },
      "text/plain": [
       "IntText(value=0, description='Minimum:')"
      ]
     },
     "metadata": {},
     "output_type": "display_data"
    },
    {
     "data": {
      "application/vnd.jupyter.widget-view+json": {
       "model_id": "4d4d655d79a64369bb26e3d948f8921d",
       "version_major": 2,
       "version_minor": 0
      },
      "text/plain": [
       "IntText(value=10, description='Maximum:')"
      ]
     },
     "metadata": {},
     "output_type": "display_data"
    },
    {
     "data": {
      "application/vnd.jupyter.widget-view+json": {
       "model_id": "6cf575689a274c43acf22515bbe9bdc1",
       "version_major": 2,
       "version_minor": 0
      },
      "text/plain": [
       "IntText(value=1, description='Step:')"
      ]
     },
     "metadata": {},
     "output_type": "display_data"
    },
    {
     "data": {
      "application/vnd.jupyter.widget-view+json": {
       "model_id": "4a932e3a8b4a4debb0f467ae5b953d20",
       "version_major": 2,
       "version_minor": 0
      },
      "text/plain": [
       "Text(value='Weight', description='Label:')"
      ]
     },
     "metadata": {},
     "output_type": "display_data"
    },
    {
     "data": {
      "application/vnd.jupyter.widget-view+json": {
       "model_id": "0df576cd94d9452b8410b4b6b1a6dd32",
       "version_major": 2,
       "version_minor": 0
      },
      "text/plain": [
       "IntSlider(value=0, description='Weight', max=10)"
      ]
     },
     "metadata": {},
     "output_type": "display_data"
    }
   ],
   "source": [
    "x1 = widgets.IntText(description=\"Minimum:\", value=0)\n",
    "x2 = widgets.IntText(description=\"Maximum:\", value=10)\n",
    "x3 = widgets.IntText(description=\"Step:\", value=1)\n",
    "x4 = widgets.Text(description=\"Label:\", value=\"Weight\")\n",
    "\n",
    "y = widgets.IntSlider(description=\"Int Slider:\")\n",
    "\n",
    "one_way_link_python1 = widgets.dlink((x1, 'value'), (y, 'min'))\n",
    "one_way_link_python2 = widgets.dlink((x2, 'value'), (y, 'max'))\n",
    "one_way_link_python3 = widgets.dlink((x3, 'value'), (y, 'step'))\n",
    "one_way_link_python4 = widgets.dlink((x4, 'value'), (y, 'description'))\n",
    "\n",
    "display(x1, x2, x3, x4, y)"
   ]
  },
  {
   "cell_type": "code",
   "execution_count": 9,
   "metadata": {},
   "outputs": [
    {
     "data": {
      "application/vnd.jupyter.widget-view+json": {
       "model_id": "afcb12d903bd4ecdb6c52adde2521687",
       "version_major": 2,
       "version_minor": 0
      },
      "text/plain": [
       "Checkbox(value=False, description='Disable?')"
      ]
     },
     "metadata": {},
     "output_type": "display_data"
    },
    {
     "data": {
      "application/vnd.jupyter.widget-view+json": {
       "model_id": "7bdc95e6204044b98e5e736a352317ca",
       "version_major": 2,
       "version_minor": 0
      },
      "text/plain": [
       "Button(description='Button', style=ButtonStyle())"
      ]
     },
     "metadata": {},
     "output_type": "display_data"
    }
   ],
   "source": [
    "x = widgets.Checkbox(description=\"Disable?\")\n",
    "y = widgets.Button(description=\"Button\")\n",
    "\n",
    "widgets.dlink((x, \"value\"), (y, \"disabled\"))\n",
    "\n",
    "display(x,y)"
   ]
  },
  {
   "cell_type": "markdown",
   "metadata": {},
   "source": [
    "### 1.3 Unlink Widgets"
   ]
  },
  {
   "cell_type": "code",
   "execution_count": 10,
   "metadata": {},
   "outputs": [],
   "source": [
    "two_way_link_python.unlink()"
   ]
  },
  {
   "cell_type": "code",
   "execution_count": 11,
   "metadata": {},
   "outputs": [],
   "source": [
    "one_way_link_python.unlink()"
   ]
  },
  {
   "cell_type": "markdown",
   "metadata": {},
   "source": [
    "## 2. Javascript Linking\n",
    "\n",
    "### 2.1 Two Way Linking"
   ]
  },
  {
   "cell_type": "code",
   "execution_count": 12,
   "metadata": {},
   "outputs": [
    {
     "data": {
      "application/vnd.jupyter.widget-view+json": {
       "model_id": "ab85b39c263742ebb02491aa6c357aaf",
       "version_major": 2,
       "version_minor": 0
      },
      "text/plain": [
       "IntText(value=5, description='Int Text Box:')"
      ]
     },
     "metadata": {},
     "output_type": "display_data"
    },
    {
     "data": {
      "application/vnd.jupyter.widget-view+json": {
       "model_id": "7877a7fb8b764e6faabb3d54a0b1ccf4",
       "version_major": 2,
       "version_minor": 0
      },
      "text/plain": [
       "IntSlider(value=0, description='Int Slider:')"
      ]
     },
     "metadata": {},
     "output_type": "display_data"
    }
   ],
   "source": [
    "x = widgets.IntText(description=\"Int Text Box:\", value=5)\n",
    "y = widgets.IntSlider(description=\"Int Slider:\")\n",
    "\n",
    "two_way_link_javascript = widgets.jslink((x, 'value'), (y, 'value'))\n",
    "\n",
    "display(x, y)"
   ]
  },
  {
   "cell_type": "markdown",
   "metadata": {},
   "source": [
    "### 2.2 One Way Linking"
   ]
  },
  {
   "cell_type": "code",
   "execution_count": 13,
   "metadata": {},
   "outputs": [
    {
     "data": {
      "application/vnd.jupyter.widget-view+json": {
       "model_id": "47bb93ae48a549efbacccce7e1400d44",
       "version_major": 2,
       "version_minor": 0
      },
      "text/plain": [
       "IntText(value=5, description='Int Text Box:')"
      ]
     },
     "metadata": {},
     "output_type": "display_data"
    },
    {
     "data": {
      "application/vnd.jupyter.widget-view+json": {
       "model_id": "28c6ea664d334464aac6dfb4f8f18c8e",
       "version_major": 2,
       "version_minor": 0
      },
      "text/plain": [
       "IntSlider(value=0, description='Int Slider:')"
      ]
     },
     "metadata": {},
     "output_type": "display_data"
    }
   ],
   "source": [
    "x = widgets.IntText(description=\"Int Text Box:\", value=5)\n",
    "y = widgets.IntSlider(description=\"Int Slider:\")\n",
    "\n",
    "one_way_link_js = widgets.jsdlink((x, 'value'), (y, 'value'))\n",
    "\n",
    "display(x, y)"
   ]
  },
  {
   "cell_type": "markdown",
   "metadata": {},
   "source": [
    "### 1.3 Unlink Widgets"
   ]
  },
  {
   "cell_type": "code",
   "execution_count": 14,
   "metadata": {},
   "outputs": [],
   "source": [
    "two_way_link_javascript.unlink()"
   ]
  },
  {
   "cell_type": "code",
   "execution_count": 15,
   "metadata": {},
   "outputs": [],
   "source": [
    "one_way_link_js.unlink()"
   ]
  },
  {
   "cell_type": "markdown",
   "metadata": {},
   "source": [
    "## References\n",
    "\n",
    "* **[ipywidgets: An In-depth Guide](https://coderzcolumn.com/tutorials/python/interactive-widgets-in-jupyter-notebook-using-ipywidgets#2)**"
   ]
  }
 ],
 "metadata": {
  "kernelspec": {
   "display_name": "Python 3 (ipykernel)",
   "language": "python",
   "name": "python3"
  },
  "language_info": {
   "codemirror_mode": {
    "name": "ipython",
    "version": 3
   },
   "file_extension": ".py",
   "mimetype": "text/x-python",
   "name": "python",
   "nbconvert_exporter": "python",
   "pygments_lexer": "ipython3",
   "version": "3.11.3"
  },
  "widgets": {
   "application/vnd.jupyter.widget-state+json": {
    "state": {
     "0067b3564a964508912a7a8e5243e227": {
      "model_module": "@jupyter-widgets/controls",
      "model_module_version": "2.0.0",
      "model_name": "ColorPickerModel",
      "state": {
       "disabled": false,
       "layout": "IPY_MODEL_d596e1a4484742cbbb316115531a3c05",
       "style": "IPY_MODEL_e2dcdda7f8d24688886437fddc016b7c"
      }
     },
     "01424b3cc97b4f6dbd94f67a59ddb5c2": {
      "model_module": "@jupyter-widgets/base",
      "model_module_version": "2.0.0",
      "model_name": "LayoutModel",
      "state": {}
     },
     "015b37f73b524dbead4fbd344a2b6312": {
      "model_module": "@jupyter-widgets/controls",
      "model_module_version": "2.0.0",
      "model_name": "DropdownModel",
      "state": {
       "_options_labels": [
        "Option1",
        "Option2",
        "Option3"
       ],
       "description": "Int Text Box:",
       "index": 2,
       "layout": "IPY_MODEL_bd796febd93f4a0dbc6c37ea8157663b",
       "style": "IPY_MODEL_26a91e50527e4b9e9585bdba0be2e07b"
      }
     },
     "02853f60280548daa2efffd38ef8fefe": {
      "model_module": "@jupyter-widgets/base",
      "model_module_version": "2.0.0",
      "model_name": "LayoutModel",
      "state": {}
     },
     "0325ea1a743e406b84164e4b28babb76": {
      "model_module": "@jupyter-widgets/base",
      "model_module_version": "2.0.0",
      "model_name": "LayoutModel",
      "state": {}
     },
     "047d918fb5f64a309ba0a9d40207f7c3": {
      "model_module": "@jupyter-widgets/base",
      "model_module_version": "2.0.0",
      "model_name": "LayoutModel",
      "state": {}
     },
     "0534b95131a54965be3fa0fc7776eef4": {
      "model_module": "@jupyter-widgets/controls",
      "model_module_version": "2.0.0",
      "model_name": "ButtonModel",
      "state": {
       "description": "Button",
       "layout": "IPY_MODEL_a75f286d8b0541b48b49b88ec8acefe8",
       "style": "IPY_MODEL_bce14ff739e5426888e7190881c41730",
       "tooltip": null
      }
     },
     "058d9ff4314647809186a87c723f9eda": {
      "model_module": "@jupyter-widgets/controls",
      "model_module_version": "2.0.0",
      "model_name": "SliderStyleModel",
      "state": {
       "description_width": ""
      }
     },
     "06dff7fdb1b94ad2a5b81c1c9daba27e": {
      "model_module": "@jupyter-widgets/base",
      "model_module_version": "2.0.0",
      "model_name": "LayoutModel",
      "state": {}
     },
     "09c6d5b81add4673b1c1073da23aec75": {
      "model_module": "@jupyter-widgets/base",
      "model_module_version": "2.0.0",
      "model_name": "LayoutModel",
      "state": {}
     },
     "0a63321f3c9d40ef8b2f3ef919eb84fa": {
      "model_module": "@jupyter-widgets/controls",
      "model_module_version": "2.0.0",
      "model_name": "CheckboxStyleModel",
      "state": {
       "description_width": ""
      }
     },
     "0b601b5e09044718808e93976700bdb5": {
      "model_module": "@jupyter-widgets/controls",
      "model_module_version": "2.0.0",
      "model_name": "ButtonStyleModel",
      "state": {
       "font_family": null,
       "font_size": null,
       "font_style": null,
       "font_variant": null,
       "font_weight": null,
       "text_color": null,
       "text_decoration": null
      }
     },
     "0c1bf797193f41f29ce6b3644929f1e7": {
      "model_module": "@jupyter-widgets/controls",
      "model_module_version": "2.0.0",
      "model_name": "DescriptionStyleModel",
      "state": {
       "description_width": ""
      }
     },
     "0c68f867e5d04f1283cc2fc2c947fe0b": {
      "model_module": "@jupyter-widgets/base",
      "model_module_version": "2.0.0",
      "model_name": "LayoutModel",
      "state": {}
     },
     "0d63955a94a54b2e9a8f740e57799ab6": {
      "model_module": "@jupyter-widgets/controls",
      "model_module_version": "2.0.0",
      "model_name": "TextStyleModel",
      "state": {
       "description_width": "",
       "font_size": null,
       "text_color": null
      }
     },
     "0e4156df252448de9c38d6319d2b60f2": {
      "model_module": "@jupyter-widgets/controls",
      "model_module_version": "2.0.0",
      "model_name": "CheckboxModel",
      "state": {
       "description": "Disable?",
       "disabled": false,
       "layout": "IPY_MODEL_24870fec6027464fa7af9e594667e531",
       "style": "IPY_MODEL_b0a578951f134b638b1389257c44b46c",
       "value": false
      }
     },
     "0ee0795eea9d4c30ba565af32a054ba6": {
      "model_module": "@jupyter-widgets/base",
      "model_module_version": "2.0.0",
      "model_name": "LayoutModel",
      "state": {}
     },
     "0f855186590148f496906ea79af3a5a4": {
      "model_module": "@jupyter-widgets/controls",
      "model_module_version": "2.0.0",
      "model_name": "ButtonStyleModel",
      "state": {
       "font_family": null,
       "font_size": null,
       "font_style": null,
       "font_variant": null,
       "font_weight": null,
       "text_color": null,
       "text_decoration": null
      }
     },
     "1021092173c64b75bd24905ef9458b02": {
      "model_module": "@jupyter-widgets/controls",
      "model_module_version": "2.0.0",
      "model_name": "DescriptionStyleModel",
      "state": {
       "description_width": ""
      }
     },
     "1187ea9a5f234fadb5274beeecc8cda7": {
      "model_module": "@jupyter-widgets/controls",
      "model_module_version": "2.0.0",
      "model_name": "IntSliderModel",
      "state": {
       "behavior": "drag-tap",
       "description": "Weight",
       "layout": "IPY_MODEL_5b412745e18f4edebd4652d1a513100f",
       "max": 10,
       "style": "IPY_MODEL_c5ba881e22b54436af5e18827c564c1a"
      }
     },
     "12fb975ff8ee4f88b40a1b4dfbca42c7": {
      "model_module": "@jupyter-widgets/controls",
      "model_module_version": "2.0.0",
      "model_name": "TextModel",
      "state": {
       "description": "Dropdown:",
       "layout": "IPY_MODEL_0c68f867e5d04f1283cc2fc2c947fe0b",
       "style": "IPY_MODEL_b5efd30db6854508aefb1ea055594d2c",
       "value": "Weight"
      }
     },
     "1318775538184814b3385fc99343e142": {
      "model_module": "@jupyter-widgets/base",
      "model_module_version": "2.0.0",
      "model_name": "LayoutModel",
      "state": {}
     },
     "13cbe1b511c94f9bb325443f91f04e10": {
      "model_module": "@jupyter-widgets/controls",
      "model_module_version": "2.0.0",
      "model_name": "DescriptionStyleModel",
      "state": {
       "description_width": ""
      }
     },
     "14ae937094d441cc814dfe9f6d987649": {
      "model_module": "@jupyter-widgets/base",
      "model_module_version": "2.0.0",
      "model_name": "LayoutModel",
      "state": {}
     },
     "158b850253a34a438c3cfd7d9f042749": {
      "model_module": "@jupyter-widgets/controls",
      "model_module_version": "2.0.0",
      "model_name": "DescriptionStyleModel",
      "state": {
       "description_width": ""
      }
     },
     "15cf6523b626440696f68f4219040780": {
      "model_module": "@jupyter-widgets/controls",
      "model_module_version": "2.0.0",
      "model_name": "ColorPickerModel",
      "state": {
       "disabled": false,
       "layout": "IPY_MODEL_ccf64c1a16ba437586ecc858fcf5ec71",
       "style": "IPY_MODEL_bc391f48f29d43d69bccb2fcbb12a221",
       "value": "#d12323"
      }
     },
     "163a306e392d478aadae0a3b5aac39ac": {
      "model_module": "@jupyter-widgets/controls",
      "model_module_version": "2.0.0",
      "model_name": "IntSliderModel",
      "state": {
       "behavior": "drag-tap",
       "description": "Int Slider:",
       "layout": "IPY_MODEL_d521ade2a9cd407391738a5ecc4de2bb",
       "style": "IPY_MODEL_3c0e1a5233f241e99e2d33907df6dbff",
       "value": 17
      }
     },
     "165da3f308d34998bfad4604fa3babdf": {
      "model_module": "@jupyter-widgets/controls",
      "model_module_version": "2.0.0",
      "model_name": "IntSliderModel",
      "state": {
       "behavior": "drag-tap",
       "description": "Weight",
       "layout": "IPY_MODEL_a0ea75172405487d87aa34d39a39236d",
       "max": 10,
       "style": "IPY_MODEL_1acc2363db2c430eb9f7287df6b2e19f"
      }
     },
     "16ff112b75034a13be7ccc6980fde7da": {
      "model_module": "@jupyter-widgets/controls",
      "model_module_version": "2.0.0",
      "model_name": "IntTextModel",
      "state": {
       "description": "Dropdown:",
       "layout": "IPY_MODEL_1318775538184814b3385fc99343e142",
       "step": 1,
       "style": "IPY_MODEL_7c6ab0bb63cd4b2c9dafeb4a134b55eb",
       "value": 15
      }
     },
     "172ad8389c964567b27de9e45c2a9485": {
      "model_module": "@jupyter-widgets/base",
      "model_module_version": "2.0.0",
      "model_name": "LayoutModel",
      "state": {}
     },
     "18480e2ccda44c769fdeb5598543fca8": {
      "model_module": "@jupyter-widgets/controls",
      "model_module_version": "2.0.0",
      "model_name": "DescriptionStyleModel",
      "state": {
       "description_width": ""
      }
     },
     "19cb0a0ad84245f9ae785027242026f7": {
      "model_module": "@jupyter-widgets/controls",
      "model_module_version": "2.0.0",
      "model_name": "SliderStyleModel",
      "state": {
       "description_width": ""
      }
     },
     "1ac67a38b580445e8dd13af9a72e97a2": {
      "model_module": "@jupyter-widgets/controls",
      "model_module_version": "2.0.0",
      "model_name": "DescriptionStyleModel",
      "state": {
       "description_width": ""
      }
     },
     "1acc2363db2c430eb9f7287df6b2e19f": {
      "model_module": "@jupyter-widgets/controls",
      "model_module_version": "2.0.0",
      "model_name": "SliderStyleModel",
      "state": {
       "description_width": ""
      }
     },
     "1b7d01af3ef0426f9a11264930d0a21a": {
      "model_module": "@jupyter-widgets/base",
      "model_module_version": "2.0.0",
      "model_name": "LayoutModel",
      "state": {}
     },
     "1b99a158d2e84e9aa99bc138a4cc6c14": {
      "model_module": "@jupyter-widgets/controls",
      "model_module_version": "2.0.0",
      "model_name": "DescriptionStyleModel",
      "state": {
       "description_width": ""
      }
     },
     "1d680ac5931146fbb0a254e59b60b3e7": {
      "model_module": "@jupyter-widgets/controls",
      "model_module_version": "2.0.0",
      "model_name": "IntTextModel",
      "state": {
       "description": "Int Text Box:",
       "layout": "IPY_MODEL_5b432bc132b04b4088331a6d7d47e088",
       "step": 1,
       "style": "IPY_MODEL_c593c92bd5af48dda24ec0adb8a09281",
       "value": 34
      }
     },
     "20f432965fc54c29824410c997c578db": {
      "model_module": "@jupyter-widgets/controls",
      "model_module_version": "2.0.0",
      "model_name": "IntTextModel",
      "state": {
       "description": "Dropdown:",
       "layout": "IPY_MODEL_5eda5756ccb14ad398df35a78ba2832a",
       "step": 1,
       "style": "IPY_MODEL_1b99a158d2e84e9aa99bc138a4cc6c14",
       "value": 10
      }
     },
     "21bbe3dad9b64d469b183e547a44d509": {
      "model_module": "@jupyter-widgets/controls",
      "model_module_version": "2.0.0",
      "model_name": "IntTextModel",
      "state": {
       "description": "Dropdown:",
       "layout": "IPY_MODEL_e34fc7432ad34ca9a39afdfa60f9b66c",
       "step": 1,
       "style": "IPY_MODEL_d70099658c7c4fd2a9bd7063fd0b8d7c",
       "value": 1
      }
     },
     "226d896366a54e7e86594fe0831812bf": {
      "model_module": "@jupyter-widgets/controls",
      "model_module_version": "2.0.0",
      "model_name": "ColorPickerModel",
      "state": {
       "disabled": false,
       "layout": "IPY_MODEL_cea26febb4524140ade51375993001e2",
       "style": "IPY_MODEL_6a8328ae8c6b4752ad6dfe2b5383531e",
       "value": "#d11f1f"
      }
     },
     "234ddd564c784d38bff56c343e42f599": {
      "model_module": "@jupyter-widgets/controls",
      "model_module_version": "2.0.0",
      "model_name": "ButtonModel",
      "state": {
       "description": "Button",
       "layout": "IPY_MODEL_516d3cce2ce149ff9214fbe03e7ecd03",
       "style": "IPY_MODEL_b3a7190483d94e3392e8e646f99b5360",
       "tooltip": null
      }
     },
     "23872add665347608a51d05d9904eb83": {
      "model_module": "@jupyter-widgets/controls",
      "model_module_version": "2.0.0",
      "model_name": "SliderStyleModel",
      "state": {
       "description_width": ""
      }
     },
     "2393f886743f4bfa9299e8e2d401c2a7": {
      "model_module": "@jupyter-widgets/controls",
      "model_module_version": "2.0.0",
      "model_name": "DropdownModel",
      "state": {
       "_options_labels": [
        "red",
        "green",
        "blue",
        "yellow",
        "black"
       ],
       "description": "Color:",
       "index": 0,
       "layout": "IPY_MODEL_5d872cec7e0944a7b2b20167d7b14250",
       "style": "IPY_MODEL_dc3df75af1434cbfb85133b5faf23934"
      }
     },
     "24870fec6027464fa7af9e594667e531": {
      "model_module": "@jupyter-widgets/base",
      "model_module_version": "2.0.0",
      "model_name": "LayoutModel",
      "state": {}
     },
     "2611e396aadb4b79be851b7c40d733b4": {
      "model_module": "@jupyter-widgets/controls",
      "model_module_version": "2.0.0",
      "model_name": "TextModel",
      "state": {
       "description": "Label:",
       "layout": "IPY_MODEL_dfd4d72b9af7479cb6cb98da42edefb1",
       "style": "IPY_MODEL_f81225bf5027432c867b6a831f435d47",
       "value": "Weight"
      }
     },
     "26a91e50527e4b9e9585bdba0be2e07b": {
      "model_module": "@jupyter-widgets/controls",
      "model_module_version": "2.0.0",
      "model_name": "DescriptionStyleModel",
      "state": {
       "description_width": ""
      }
     },
     "26d8ee5f8e30402e8517b0f059cabc3e": {
      "model_module": "@jupyter-widgets/controls",
      "model_module_version": "2.0.0",
      "model_name": "DescriptionStyleModel",
      "state": {
       "description_width": ""
      }
     },
     "27871fe864b244c39cc2fc0002d8d16d": {
      "model_module": "@jupyter-widgets/controls",
      "model_module_version": "2.0.0",
      "model_name": "ButtonStyleModel",
      "state": {
       "font_family": null,
       "font_size": null,
       "font_style": null,
       "font_variant": null,
       "font_weight": null,
       "text_color": null,
       "text_decoration": null
      }
     },
     "28c119b953984002b4edca01f8ec3f9c": {
      "model_module": "@jupyter-widgets/base",
      "model_module_version": "2.0.0",
      "model_name": "LayoutModel",
      "state": {}
     },
     "29129b4b37334d18bc881879c5a4a41a": {
      "model_module": "@jupyter-widgets/base",
      "model_module_version": "2.0.0",
      "model_name": "LayoutModel",
      "state": {}
     },
     "29b772b38ff64902b8b17bccf617d72c": {
      "model_module": "@jupyter-widgets/controls",
      "model_module_version": "2.0.0",
      "model_name": "TextStyleModel",
      "state": {
       "description_width": "",
       "font_size": null,
       "text_color": null
      }
     },
     "2a4ff8c09d7f442694c5e20ed1ce59dd": {
      "model_module": "@jupyter-widgets/controls",
      "model_module_version": "2.0.0",
      "model_name": "SliderStyleModel",
      "state": {
       "description_width": ""
      }
     },
     "2a64e431090a45489b75f2177c813b58": {
      "model_module": "@jupyter-widgets/base",
      "model_module_version": "2.0.0",
      "model_name": "LayoutModel",
      "state": {}
     },
     "2ac797278a50497aade172d9a844c570": {
      "model_module": "@jupyter-widgets/controls",
      "model_module_version": "2.0.0",
      "model_name": "IntTextModel",
      "state": {
       "description": "Maximum:",
       "layout": "IPY_MODEL_85f8dcb55d42498fa2094a610e4e7ac1",
       "step": 1,
       "style": "IPY_MODEL_3f896db21fa24382b0584783b058c9cf",
       "value": 10
      }
     },
     "2b0fbf10aeac455083c6c807691d9975": {
      "model_module": "@jupyter-widgets/controls",
      "model_module_version": "2.0.0",
      "model_name": "SliderStyleModel",
      "state": {
       "description_width": ""
      }
     },
     "2cb593f16e334c1693827dd6b18b027c": {
      "model_module": "@jupyter-widgets/base",
      "model_module_version": "2.0.0",
      "model_name": "LayoutModel",
      "state": {}
     },
     "2df16aab66de4b18b3b2ab9ba0533dbf": {
      "model_module": "@jupyter-widgets/controls",
      "model_module_version": "2.0.0",
      "model_name": "DescriptionStyleModel",
      "state": {
       "description_width": ""
      }
     },
     "2e45f6ad6d6047a79158eb1702f8c8e5": {
      "model_module": "@jupyter-widgets/base",
      "model_module_version": "2.0.0",
      "model_name": "LayoutModel",
      "state": {}
     },
     "2e53284822b34a39804325b407eff9d4": {
      "model_module": "@jupyter-widgets/controls",
      "model_module_version": "2.0.0",
      "model_name": "IntTextModel",
      "state": {
       "description": "Int Text Box:",
       "layout": "IPY_MODEL_64579464750e42dd826c4e21d8cf8f1b",
       "step": 1,
       "style": "IPY_MODEL_13cbe1b511c94f9bb325443f91f04e10",
       "value": 5
      }
     },
     "2f147288b4b040098c942a90884fa829": {
      "model_module": "@jupyter-widgets/base",
      "model_module_version": "2.0.0",
      "model_name": "LayoutModel",
      "state": {}
     },
     "2f1e491648e44bd4956cdf018da75e62": {
      "model_module": "@jupyter-widgets/base",
      "model_module_version": "2.0.0",
      "model_name": "LayoutModel",
      "state": {}
     },
     "30031e34d0824b33ac2c03aec84f9650": {
      "model_module": "@jupyter-widgets/controls",
      "model_module_version": "2.0.0",
      "model_name": "DescriptionStyleModel",
      "state": {
       "description_width": ""
      }
     },
     "302746e0cd62424b95f79fbe811d4a94": {
      "model_module": "@jupyter-widgets/controls",
      "model_module_version": "2.0.0",
      "model_name": "SliderStyleModel",
      "state": {
       "description_width": ""
      }
     },
     "324885e927fa494f91efe81c54cce6ad": {
      "model_module": "@jupyter-widgets/base",
      "model_module_version": "2.0.0",
      "model_name": "LayoutModel",
      "state": {}
     },
     "32d9c6850ae042d28c8bc6f818325206": {
      "model_module": "@jupyter-widgets/controls",
      "model_module_version": "2.0.0",
      "model_name": "IntTextModel",
      "state": {
       "description": "Int Text Box:",
       "layout": "IPY_MODEL_7d27cf9f4c32469494ddc927765eef33",
       "step": 1,
       "style": "IPY_MODEL_64a9089e3d504d519c93eccd32366589",
       "value": 5
      }
     },
     "3453e34a3a6b4dfd9110ec599bd908a7": {
      "model_module": "@jupyter-widgets/base",
      "model_module_version": "2.0.0",
      "model_name": "LayoutModel",
      "state": {}
     },
     "353ec06f913247729c1491d5f73deb0f": {
      "model_module": "@jupyter-widgets/controls",
      "model_module_version": "2.0.0",
      "model_name": "DescriptionStyleModel",
      "state": {
       "description_width": ""
      }
     },
     "35b11f341e2041f793fea8d02b010679": {
      "model_module": "@jupyter-widgets/base",
      "model_module_version": "2.0.0",
      "model_name": "LayoutModel",
      "state": {}
     },
     "360e52e245244512a236e37410f26da6": {
      "model_module": "@jupyter-widgets/controls",
      "model_module_version": "2.0.0",
      "model_name": "TextStyleModel",
      "state": {
       "description_width": "",
       "font_size": null,
       "text_color": null
      }
     },
     "36fb5b7902a54909b8541fbf80cfc004": {
      "model_module": "@jupyter-widgets/controls",
      "model_module_version": "2.0.0",
      "model_name": "IntTextModel",
      "state": {
       "description": "Int Text Box:",
       "layout": "IPY_MODEL_35b11f341e2041f793fea8d02b010679",
       "step": 1,
       "style": "IPY_MODEL_74fdcc6cb2114baa9674fd465710b009",
       "value": 17
      }
     },
     "38d48c5587b7442f86c97db1497a35dc": {
      "model_module": "@jupyter-widgets/controls",
      "model_module_version": "2.0.0",
      "model_name": "ButtonModel",
      "state": {
       "description": "Button",
       "layout": "IPY_MODEL_403c5ccf2a6244eea4c00ecdb5da175a",
       "style": "IPY_MODEL_9fff15f6638f4b038fbba5ced167cce5",
       "tooltip": null
      }
     },
     "390f768ed1da4386ae4b97c80ce92603": {
      "model_module": "@jupyter-widgets/base",
      "model_module_version": "2.0.0",
      "model_name": "LayoutModel",
      "state": {}
     },
     "39bd2b900ee2464c937de52c149cf703": {
      "model_module": "@jupyter-widgets/base",
      "model_module_version": "2.0.0",
      "model_name": "LayoutModel",
      "state": {}
     },
     "3a7311c6f34a4864a0105458505aea46": {
      "model_module": "@jupyter-widgets/controls",
      "model_module_version": "2.0.0",
      "model_name": "ColorPickerModel",
      "state": {
       "disabled": false,
       "layout": "IPY_MODEL_5e08bbd0786b41c0ac52a924412d5270",
       "style": "IPY_MODEL_85e8b49d8f12475c8871f273021729e5",
       "value": "#d55858"
      }
     },
     "3c0e1a5233f241e99e2d33907df6dbff": {
      "model_module": "@jupyter-widgets/controls",
      "model_module_version": "2.0.0",
      "model_name": "SliderStyleModel",
      "state": {
       "description_width": ""
      }
     },
     "3c169cb41f804c09b65f1316264ede17": {
      "model_module": "@jupyter-widgets/controls",
      "model_module_version": "2.0.0",
      "model_name": "IntTextModel",
      "state": {
       "description": "Dropdown:",
       "layout": "IPY_MODEL_7e95b9f944494541ae9036fa03509788",
       "step": 1,
       "style": "IPY_MODEL_898d9836280e45c48cb4b8dbd98b77be",
       "value": 5
      }
     },
     "3d0cc7cd26764a66b98a9e22f0525716": {
      "model_module": "@jupyter-widgets/controls",
      "model_module_version": "2.0.0",
      "model_name": "DescriptionStyleModel",
      "state": {
       "description_width": ""
      }
     },
     "3e3584b15a114e9fa1e9546aec883f7d": {
      "model_module": "@jupyter-widgets/base",
      "model_module_version": "2.0.0",
      "model_name": "LayoutModel",
      "state": {}
     },
     "3e74352477ec439298619a78f6a6622c": {
      "model_module": "@jupyter-widgets/controls",
      "model_module_version": "2.0.0",
      "model_name": "IntSliderModel",
      "state": {
       "behavior": "drag-tap",
       "description": "Int Slider:",
       "layout": "IPY_MODEL_b9cdc1be729f4d01964b1b1b6ec105cf",
       "style": "IPY_MODEL_ab72f25e490f4853a7e70abaef1dd479",
       "value": 41
      }
     },
     "3e7b2ba48b6546a0a3b33afecba02fe6": {
      "model_module": "@jupyter-widgets/base",
      "model_module_version": "2.0.0",
      "model_name": "LayoutModel",
      "state": {}
     },
     "3ef5001982dc40f5865b9a2d3891e6ef": {
      "model_module": "@jupyter-widgets/controls",
      "model_module_version": "2.0.0",
      "model_name": "SliderStyleModel",
      "state": {
       "description_width": ""
      }
     },
     "3f15fa90dc2e4f5487531239076937ca": {
      "model_module": "@jupyter-widgets/base",
      "model_module_version": "2.0.0",
      "model_name": "LayoutModel",
      "state": {}
     },
     "3f896db21fa24382b0584783b058c9cf": {
      "model_module": "@jupyter-widgets/controls",
      "model_module_version": "2.0.0",
      "model_name": "DescriptionStyleModel",
      "state": {
       "description_width": ""
      }
     },
     "3fb1cb3fa0f5431eb271c3c53dedcf01": {
      "model_module": "@jupyter-widgets/base",
      "model_module_version": "2.0.0",
      "model_name": "LayoutModel",
      "state": {}
     },
     "401d2e277b2d4891ac7c8f66d4e21229": {
      "model_module": "@jupyter-widgets/base",
      "model_module_version": "2.0.0",
      "model_name": "LayoutModel",
      "state": {}
     },
     "403c5ccf2a6244eea4c00ecdb5da175a": {
      "model_module": "@jupyter-widgets/base",
      "model_module_version": "2.0.0",
      "model_name": "LayoutModel",
      "state": {}
     },
     "4060047a03e4476b8777a9745789d02c": {
      "model_module": "@jupyter-widgets/controls",
      "model_module_version": "2.0.0",
      "model_name": "IntTextModel",
      "state": {
       "description": "Int Text Box:",
       "layout": "IPY_MODEL_7b5215ff54b24656bcc8ac51a5ed6079",
       "step": 1,
       "style": "IPY_MODEL_18480e2ccda44c769fdeb5598543fca8",
       "value": 32
      }
     },
     "40c781777cb145e596a9872a3f0a1ff1": {
      "model_module": "@jupyter-widgets/base",
      "model_module_version": "2.0.0",
      "model_name": "LayoutModel",
      "state": {}
     },
     "42e51a697e0e4a3fab4c2072a5a4ebb4": {
      "model_module": "@jupyter-widgets/controls",
      "model_module_version": "2.0.0",
      "model_name": "ButtonModel",
      "state": {
       "description": "Button",
       "layout": "IPY_MODEL_14ae937094d441cc814dfe9f6d987649",
       "style": "IPY_MODEL_931bc628c62647ff9e4368c43d84c5d6",
       "tooltip": null
      }
     },
     "432bde5f633e4690b16c668b80670eba": {
      "model_module": "@jupyter-widgets/controls",
      "model_module_version": "2.0.0",
      "model_name": "ButtonStyleModel",
      "state": {
       "font_family": null,
       "font_size": null,
       "font_style": null,
       "font_variant": null,
       "font_weight": null,
       "text_color": null,
       "text_decoration": null
      }
     },
     "43e50d0a7dea4a9f8092055e41875dd0": {
      "model_module": "@jupyter-widgets/controls",
      "model_module_version": "2.0.0",
      "model_name": "CheckboxStyleModel",
      "state": {
       "description_width": ""
      }
     },
     "441f7b8b92d24cde86afb1ba4f9f3340": {
      "model_module": "@jupyter-widgets/controls",
      "model_module_version": "2.0.0",
      "model_name": "SliderStyleModel",
      "state": {
       "description_width": ""
      }
     },
     "45048d145800461bb123bca74cf88e1b": {
      "model_module": "@jupyter-widgets/controls",
      "model_module_version": "2.0.0",
      "model_name": "IntTextModel",
      "state": {
       "description": "Int Text Box:",
       "layout": "IPY_MODEL_6095196be7d94e0fbe87496cca7d6eca",
       "step": 1,
       "style": "IPY_MODEL_dd846cd6051a45159101116f4339fb2e"
      }
     },
     "477e3b7e26304128a713783bf666e3d4": {
      "model_module": "@jupyter-widgets/base",
      "model_module_version": "2.0.0",
      "model_name": "LayoutModel",
      "state": {}
     },
     "479216a2f6214d60a7bca89cafd9b518": {
      "model_module": "@jupyter-widgets/controls",
      "model_module_version": "2.0.0",
      "model_name": "CheckboxStyleModel",
      "state": {
       "description_width": ""
      }
     },
     "4ac5d946eb1548e8b6b2878569c79383": {
      "model_module": "@jupyter-widgets/base",
      "model_module_version": "2.0.0",
      "model_name": "LayoutModel",
      "state": {}
     },
     "4afbc539611e4b6d96da177cfa8b0e65": {
      "model_module": "@jupyter-widgets/controls",
      "model_module_version": "2.0.0",
      "model_name": "IntTextModel",
      "state": {
       "description": "Dropdown:",
       "layout": "IPY_MODEL_a4547e1b65b94fd4b5ef490de209cb0f",
       "step": 1,
       "style": "IPY_MODEL_0c1bf797193f41f29ce6b3644929f1e7",
       "value": 10
      }
     },
     "4cb1536389e74a628d80890f2de164bb": {
      "model_module": "@jupyter-widgets/controls",
      "model_module_version": "2.0.0",
      "model_name": "SliderStyleModel",
      "state": {
       "description_width": ""
      }
     },
     "4e44b0bee2e743a9aac99a0b4d223125": {
      "model_module": "@jupyter-widgets/base",
      "model_module_version": "2.0.0",
      "model_name": "LayoutModel",
      "state": {}
     },
     "4f5aa94b44d14abc9c5ee6f479673cc6": {
      "model_module": "@jupyter-widgets/controls",
      "model_module_version": "2.0.0",
      "model_name": "IntSliderModel",
      "state": {
       "behavior": "drag-tap",
       "layout": "IPY_MODEL_7b30461bf8c5430791c0a89bc6c056ce",
       "style": "IPY_MODEL_4cb1536389e74a628d80890f2de164bb"
      }
     },
     "4ff63227b5c047dbbeed3bcbd2665665": {
      "model_module": "@jupyter-widgets/base",
      "model_module_version": "2.0.0",
      "model_name": "LayoutModel",
      "state": {}
     },
     "516d3cce2ce149ff9214fbe03e7ecd03": {
      "model_module": "@jupyter-widgets/base",
      "model_module_version": "2.0.0",
      "model_name": "LayoutModel",
      "state": {}
     },
     "518bc0a08e4f45a0b1f5b3128b57645d": {
      "model_module": "@jupyter-widgets/controls",
      "model_module_version": "2.0.0",
      "model_name": "IntTextModel",
      "state": {
       "description": "Step:",
       "layout": "IPY_MODEL_92bdd76c8fb1418790c6d063a580db9f",
       "step": 1,
       "style": "IPY_MODEL_faaac3ced01b4e66bda075e99fa79b9d",
       "value": 1
      }
     },
     "530f0fb6f7a0472592f6250f467d80d5": {
      "model_module": "@jupyter-widgets/controls",
      "model_module_version": "2.0.0",
      "model_name": "TextModel",
      "state": {
       "description": "Label:",
       "layout": "IPY_MODEL_477e3b7e26304128a713783bf666e3d4",
       "style": "IPY_MODEL_29b772b38ff64902b8b17bccf617d72c",
       "value": "Hello"
      }
     },
     "53e2d48c752c4bada15e6f5ed6a37fae": {
      "model_module": "@jupyter-widgets/base",
      "model_module_version": "2.0.0",
      "model_name": "LayoutModel",
      "state": {}
     },
     "55f7a09cc2cd42aa9c61838c3cb7dd3a": {
      "model_module": "@jupyter-widgets/base",
      "model_module_version": "2.0.0",
      "model_name": "LayoutModel",
      "state": {}
     },
     "5746116b284647358f4190a9dd569358": {
      "model_module": "@jupyter-widgets/controls",
      "model_module_version": "2.0.0",
      "model_name": "ButtonModel",
      "state": {
       "description": "Button",
       "layout": "IPY_MODEL_d75eb48b336d483389144fccefd378bf",
       "style": "IPY_MODEL_641176a5720d435f93d1d4ba5af06061",
       "tooltip": null
      }
     },
     "5783c3f0baf141beb2fee4d4a60a0a9a": {
      "model_module": "@jupyter-widgets/controls",
      "model_module_version": "2.0.0",
      "model_name": "IntSliderModel",
      "state": {
       "behavior": "drag-tap",
       "description": "Int Slider:",
       "layout": "IPY_MODEL_dfb9bf0db3c04190baa894c8fc2895d6",
       "style": "IPY_MODEL_e743843d3d68499e921fb200c845f658"
      }
     },
     "5854252f51894f7bbd760c0b38c55bc1": {
      "model_module": "@jupyter-widgets/base",
      "model_module_version": "2.0.0",
      "model_name": "LayoutModel",
      "state": {}
     },
     "59115c479c1b4251a587d16f88d96c42": {
      "model_module": "@jupyter-widgets/base",
      "model_module_version": "2.0.0",
      "model_name": "LayoutModel",
      "state": {}
     },
     "59ad4e6f0f474ae8ab1af4d15d0c37e6": {
      "model_module": "@jupyter-widgets/base",
      "model_module_version": "2.0.0",
      "model_name": "LayoutModel",
      "state": {}
     },
     "59ca942ab2c746f787cb59b5ba6c1723": {
      "model_module": "@jupyter-widgets/controls",
      "model_module_version": "2.0.0",
      "model_name": "TextStyleModel",
      "state": {
       "description_width": "",
       "font_size": null,
       "text_color": null
      }
     },
     "5ab9919684e348758ce1256705d4a85f": {
      "model_module": "@jupyter-widgets/controls",
      "model_module_version": "2.0.0",
      "model_name": "IntTextModel",
      "state": {
       "description": "Int Text Box:",
       "layout": "IPY_MODEL_ab5e70025b7340269fa691d35fd47310",
       "step": 1,
       "style": "IPY_MODEL_70536092858b43acaf2041388ad21016",
       "value": 38
      }
     },
     "5b412745e18f4edebd4652d1a513100f": {
      "model_module": "@jupyter-widgets/base",
      "model_module_version": "2.0.0",
      "model_name": "LayoutModel",
      "state": {}
     },
     "5b432bc132b04b4088331a6d7d47e088": {
      "model_module": "@jupyter-widgets/base",
      "model_module_version": "2.0.0",
      "model_name": "LayoutModel",
      "state": {}
     },
     "5b73ab94a7ec4bd682ffc0c0ba1ac0a7": {
      "model_module": "@jupyter-widgets/base",
      "model_module_version": "2.0.0",
      "model_name": "LayoutModel",
      "state": {}
     },
     "5cd7659b680c408587f4aa3b6b9fd043": {
      "model_module": "@jupyter-widgets/controls",
      "model_module_version": "2.0.0",
      "model_name": "IntSliderModel",
      "state": {
       "behavior": "drag-tap",
       "description": "Int Slider:",
       "layout": "IPY_MODEL_7d21b7b1c81b43ae8a856bcd186f5be3",
       "max": 2,
       "style": "IPY_MODEL_441f7b8b92d24cde86afb1ba4f9f3340"
      }
     },
     "5d872cec7e0944a7b2b20167d7b14250": {
      "model_module": "@jupyter-widgets/base",
      "model_module_version": "2.0.0",
      "model_name": "LayoutModel",
      "state": {}
     },
     "5d90b054ed1e4946bd544f069aa3fc8f": {
      "model_module": "@jupyter-widgets/controls",
      "model_module_version": "2.0.0",
      "model_name": "IntSliderModel",
      "state": {
       "behavior": "drag-tap",
       "description": "Int Slider:",
       "layout": "IPY_MODEL_d1c5f22517a8440fa838b3ee28608fdb",
       "style": "IPY_MODEL_9abf832f26fd4b47bc1e9552c7e07461",
       "value": 13
      }
     },
     "5e08bbd0786b41c0ac52a924412d5270": {
      "model_module": "@jupyter-widgets/base",
      "model_module_version": "2.0.0",
      "model_name": "LayoutModel",
      "state": {}
     },
     "5e16587c9a7a407f92e1441be152e048": {
      "model_module": "@jupyter-widgets/controls",
      "model_module_version": "2.0.0",
      "model_name": "ButtonStyleModel",
      "state": {
       "font_family": null,
       "font_size": null,
       "font_style": null,
       "font_variant": null,
       "font_weight": null,
       "text_color": null,
       "text_decoration": null
      }
     },
     "5eda5756ccb14ad398df35a78ba2832a": {
      "model_module": "@jupyter-widgets/base",
      "model_module_version": "2.0.0",
      "model_name": "LayoutModel",
      "state": {}
     },
     "5fcd8fe2d65b4802b095e87788b61fc4": {
      "model_module": "@jupyter-widgets/controls",
      "model_module_version": "2.0.0",
      "model_name": "DescriptionStyleModel",
      "state": {
       "description_width": ""
      }
     },
     "6095196be7d94e0fbe87496cca7d6eca": {
      "model_module": "@jupyter-widgets/base",
      "model_module_version": "2.0.0",
      "model_name": "LayoutModel",
      "state": {}
     },
     "616eee7f70c84a5cac1eacfb43af267f": {
      "model_module": "@jupyter-widgets/controls",
      "model_module_version": "2.0.0",
      "model_name": "IntTextModel",
      "state": {
       "description": "Dropdown:",
       "layout": "IPY_MODEL_3e7b2ba48b6546a0a3b33afecba02fe6",
       "step": 1,
       "style": "IPY_MODEL_30031e34d0824b33ac2c03aec84f9650",
       "value": 10
      }
     },
     "62d451fa5c8c480ab1cf4edbcab1dbeb": {
      "model_module": "@jupyter-widgets/base",
      "model_module_version": "2.0.0",
      "model_name": "LayoutModel",
      "state": {}
     },
     "6326ef4b53064aebbdce3dce7ceb3373": {
      "model_module": "@jupyter-widgets/controls",
      "model_module_version": "2.0.0",
      "model_name": "IntTextModel",
      "state": {
       "description": "Int Text Box:",
       "layout": "IPY_MODEL_bc3895c1a7d5410ca08e8d120e24edaa",
       "step": 1,
       "style": "IPY_MODEL_f877ece996fc488cb8de3e63834da6b0",
       "value": 41
      }
     },
     "6372f962a0764a96b8d04a4a104e3158": {
      "model_module": "@jupyter-widgets/controls",
      "model_module_version": "2.0.0",
      "model_name": "SliderStyleModel",
      "state": {
       "description_width": ""
      }
     },
     "63cf5cc6b92744f0bcd0f3a542c7bc46": {
      "model_module": "@jupyter-widgets/base",
      "model_module_version": "2.0.0",
      "model_name": "LayoutModel",
      "state": {}
     },
     "641176a5720d435f93d1d4ba5af06061": {
      "model_module": "@jupyter-widgets/controls",
      "model_module_version": "2.0.0",
      "model_name": "ButtonStyleModel",
      "state": {
       "font_family": null,
       "font_size": null,
       "font_style": null,
       "font_variant": null,
       "font_weight": null,
       "text_color": null,
       "text_decoration": null
      }
     },
     "64579464750e42dd826c4e21d8cf8f1b": {
      "model_module": "@jupyter-widgets/base",
      "model_module_version": "2.0.0",
      "model_name": "LayoutModel",
      "state": {}
     },
     "64a9089e3d504d519c93eccd32366589": {
      "model_module": "@jupyter-widgets/controls",
      "model_module_version": "2.0.0",
      "model_name": "DescriptionStyleModel",
      "state": {
       "description_width": ""
      }
     },
     "65a35b8805fe45b2a834ed66199f28c7": {
      "model_module": "@jupyter-widgets/base",
      "model_module_version": "2.0.0",
      "model_name": "LayoutModel",
      "state": {}
     },
     "664dd3a91c214cb7995bcc14fc20b07f": {
      "model_module": "@jupyter-widgets/base",
      "model_module_version": "2.0.0",
      "model_name": "LayoutModel",
      "state": {}
     },
     "6667502184294855accf621ffad89b78": {
      "model_module": "@jupyter-widgets/controls",
      "model_module_version": "2.0.0",
      "model_name": "IntTextModel",
      "state": {
       "description": "Step:",
       "layout": "IPY_MODEL_6faac786aab84f4b98bcb1e43487c2a3",
       "step": 1,
       "style": "IPY_MODEL_3d0cc7cd26764a66b98a9e22f0525716",
       "value": 1
      }
     },
     "66bf60e9331d41eba37554d1412eb218": {
      "model_module": "@jupyter-widgets/controls",
      "model_module_version": "2.0.0",
      "model_name": "DescriptionStyleModel",
      "state": {
       "description_width": ""
      }
     },
     "66c9d1506b464176a01a1d47904f5e58": {
      "model_module": "@jupyter-widgets/controls",
      "model_module_version": "2.0.0",
      "model_name": "DescriptionStyleModel",
      "state": {
       "description_width": ""
      }
     },
     "675722f757ae4c18a32176d12b43d7b1": {
      "model_module": "@jupyter-widgets/base",
      "model_module_version": "2.0.0",
      "model_name": "LayoutModel",
      "state": {}
     },
     "6853b6f13c924e6daa7aed46305f1f11": {
      "model_module": "@jupyter-widgets/controls",
      "model_module_version": "2.0.0",
      "model_name": "IntTextModel",
      "state": {
       "description": "Int Text Box:",
       "layout": "IPY_MODEL_4ff63227b5c047dbbeed3bcbd2665665",
       "step": 1,
       "style": "IPY_MODEL_a04564698981481c84930a3ae9f2ca93",
       "value": 5
      }
     },
     "68cee01711cf47c697c035d4c45f0573": {
      "model_module": "@jupyter-widgets/controls",
      "model_module_version": "2.0.0",
      "model_name": "CheckboxStyleModel",
      "state": {
       "description_width": ""
      }
     },
     "6958941a5acf4ba684c348601decda96": {
      "model_module": "@jupyter-widgets/base",
      "model_module_version": "2.0.0",
      "model_name": "LayoutModel",
      "state": {}
     },
     "6a8328ae8c6b4752ad6dfe2b5383531e": {
      "model_module": "@jupyter-widgets/controls",
      "model_module_version": "2.0.0",
      "model_name": "DescriptionStyleModel",
      "state": {
       "description_width": ""
      }
     },
     "6b0ab8f3d6c0451680ffba41c4bdaa5d": {
      "model_module": "@jupyter-widgets/controls",
      "model_module_version": "2.0.0",
      "model_name": "DescriptionStyleModel",
      "state": {
       "description_width": ""
      }
     },
     "6b9d461a9fda4a5cbe0809a204d881ce": {
      "model_module": "@jupyter-widgets/base",
      "model_module_version": "2.0.0",
      "model_name": "LayoutModel",
      "state": {}
     },
     "6bf25a13feab456991cfe1ffbe05b207": {
      "model_module": "@jupyter-widgets/controls",
      "model_module_version": "2.0.0",
      "model_name": "ButtonStyleModel",
      "state": {
       "font_family": null,
       "font_size": null,
       "font_style": null,
       "font_variant": null,
       "font_weight": null,
       "text_color": null,
       "text_decoration": null
      }
     },
     "6c17511264314da2862ac57133040de6": {
      "model_module": "@jupyter-widgets/controls",
      "model_module_version": "2.0.0",
      "model_name": "SliderStyleModel",
      "state": {
       "description_width": ""
      }
     },
     "6c72a5bebd9f4f99a607dd328a0aad83": {
      "model_module": "@jupyter-widgets/controls",
      "model_module_version": "2.0.0",
      "model_name": "IntSliderModel",
      "state": {
       "behavior": "drag-tap",
       "description": "Hello",
       "layout": "IPY_MODEL_ed45b5972c9645e2bbce8482cfd5c853",
       "max": 15,
       "min": 5,
       "step": 2,
       "style": "IPY_MODEL_bcea84f8434d420da0d3258fe86a98a6",
       "value": 9
      }
     },
     "6d5a142f74914dab8a8aed9e563d66ec": {
      "model_module": "@jupyter-widgets/base",
      "model_module_version": "2.0.0",
      "model_name": "LayoutModel",
      "state": {}
     },
     "6d6ca7b427c84edd98bf26009edf1d92": {
      "model_module": "@jupyter-widgets/base",
      "model_module_version": "2.0.0",
      "model_name": "LayoutModel",
      "state": {}
     },
     "6faac786aab84f4b98bcb1e43487c2a3": {
      "model_module": "@jupyter-widgets/base",
      "model_module_version": "2.0.0",
      "model_name": "LayoutModel",
      "state": {}
     },
     "70230d9b1d0b4943bcf533dbee677b2f": {
      "model_module": "@jupyter-widgets/controls",
      "model_module_version": "2.0.0",
      "model_name": "IntSliderModel",
      "state": {
       "behavior": "drag-tap",
       "description": "Weight",
       "layout": "IPY_MODEL_8893e7116ac44eada1c522d178f2745a",
       "max": 10,
       "style": "IPY_MODEL_2b0fbf10aeac455083c6c807691d9975"
      }
     },
     "70536092858b43acaf2041388ad21016": {
      "model_module": "@jupyter-widgets/controls",
      "model_module_version": "2.0.0",
      "model_name": "DescriptionStyleModel",
      "state": {
       "description_width": ""
      }
     },
     "708f0cf9f21d4920bb0f01e141aff522": {
      "model_module": "@jupyter-widgets/controls",
      "model_module_version": "2.0.0",
      "model_name": "DescriptionStyleModel",
      "state": {
       "description_width": ""
      }
     },
     "70d752c3252f40a48e5468acdbae2410": {
      "model_module": "@jupyter-widgets/controls",
      "model_module_version": "2.0.0",
      "model_name": "DescriptionStyleModel",
      "state": {
       "description_width": ""
      }
     },
     "710c3da79c9c4c19a02c5fc977305e0e": {
      "model_module": "@jupyter-widgets/controls",
      "model_module_version": "2.0.0",
      "model_name": "CheckboxModel",
      "state": {
       "description": "Disable?",
       "disabled": false,
       "layout": "IPY_MODEL_6958941a5acf4ba684c348601decda96",
       "style": "IPY_MODEL_479216a2f6214d60a7bca89cafd9b518",
       "value": false
      }
     },
     "71b22c0c208e492a9395523d751f3f33": {
      "model_module": "@jupyter-widgets/controls",
      "model_module_version": "2.0.0",
      "model_name": "IntTextModel",
      "state": {
       "layout": "IPY_MODEL_06dff7fdb1b94ad2a5b81c1c9daba27e",
       "step": 1,
       "style": "IPY_MODEL_708f0cf9f21d4920bb0f01e141aff522"
      }
     },
     "7223423c053e4d39a7a276f7442bc997": {
      "model_module": "@jupyter-widgets/controls",
      "model_module_version": "2.0.0",
      "model_name": "ButtonModel",
      "state": {
       "description": "Button",
       "layout": "IPY_MODEL_29129b4b37334d18bc881879c5a4a41a",
       "style": "IPY_MODEL_27871fe864b244c39cc2fc0002d8d16d",
       "tooltip": null
      }
     },
     "72f61ab7237545618eee68c84e19c202": {
      "model_module": "@jupyter-widgets/controls",
      "model_module_version": "2.0.0",
      "model_name": "DropdownModel",
      "state": {
       "_options_labels": [
        "Option1",
        "Option2",
        "Option3"
       ],
       "description": "Int Text Box:",
       "index": 2,
       "layout": "IPY_MODEL_f5226866bee04091abe5e62749b6571c",
       "style": "IPY_MODEL_abf5ac04191f4a5d9d1d4130d0375389"
      }
     },
     "730bd02a53aa4e809965b467220f145f": {
      "model_module": "@jupyter-widgets/base",
      "model_module_version": "2.0.0",
      "model_name": "LayoutModel",
      "state": {}
     },
     "74fdcc6cb2114baa9674fd465710b009": {
      "model_module": "@jupyter-widgets/controls",
      "model_module_version": "2.0.0",
      "model_name": "DescriptionStyleModel",
      "state": {
       "description_width": ""
      }
     },
     "75762e47e84d45d785074e4d29c93be4": {
      "model_module": "@jupyter-widgets/controls",
      "model_module_version": "2.0.0",
      "model_name": "IntSliderModel",
      "state": {
       "behavior": "drag-tap",
       "description": "Int Slider:",
       "layout": "IPY_MODEL_55f7a09cc2cd42aa9c61838c3cb7dd3a",
       "style": "IPY_MODEL_7babac05060f404ca58ce8c7ff568800",
       "value": 5
      }
     },
     "76469f0e83c446b9932422462e24b077": {
      "model_module": "@jupyter-widgets/controls",
      "model_module_version": "2.0.0",
      "model_name": "IntTextModel",
      "state": {
       "description": "Dropdown:",
       "layout": "IPY_MODEL_78d53fbbceb748e596b370fbec816f7a",
       "step": 1,
       "style": "IPY_MODEL_cc35431bb3924b62a92a6ce0caea7e8d",
       "value": 1
      }
     },
     "7692d5b2a0e24b6f92a1dc0cd863ec0e": {
      "model_module": "@jupyter-widgets/controls",
      "model_module_version": "2.0.0",
      "model_name": "IntSliderModel",
      "state": {
       "behavior": "drag-tap",
       "description": "Int Slider:",
       "layout": "IPY_MODEL_82a1dd94061f4deb86533c68d6902c2e",
       "style": "IPY_MODEL_6372f962a0764a96b8d04a4a104e3158",
       "value": 38
      }
     },
     "77fb2936af434afd929e468a41b43cc7": {
      "model_module": "@jupyter-widgets/base",
      "model_module_version": "2.0.0",
      "model_name": "LayoutModel",
      "state": {}
     },
     "786ec69403974fd09677672ba57bc6bc": {
      "model_module": "@jupyter-widgets/base",
      "model_module_version": "2.0.0",
      "model_name": "LayoutModel",
      "state": {}
     },
     "78d53fbbceb748e596b370fbec816f7a": {
      "model_module": "@jupyter-widgets/base",
      "model_module_version": "2.0.0",
      "model_name": "LayoutModel",
      "state": {}
     },
     "7959306090bd4af5acaee0e6c5aa1696": {
      "model_module": "@jupyter-widgets/controls",
      "model_module_version": "2.0.0",
      "model_name": "DropdownModel",
      "state": {
       "_options_labels": [
        "Option1",
        "Option2",
        "Option3"
       ],
       "description": "Dropdown:",
       "index": 0,
       "layout": "IPY_MODEL_047d918fb5f64a309ba0a9d40207f7c3",
       "style": "IPY_MODEL_ecaf342216214c0babab38d35721b242"
      }
     },
     "7b30461bf8c5430791c0a89bc6c056ce": {
      "model_module": "@jupyter-widgets/base",
      "model_module_version": "2.0.0",
      "model_name": "LayoutModel",
      "state": {}
     },
     "7b5215ff54b24656bcc8ac51a5ed6079": {
      "model_module": "@jupyter-widgets/base",
      "model_module_version": "2.0.0",
      "model_name": "LayoutModel",
      "state": {}
     },
     "7babac05060f404ca58ce8c7ff568800": {
      "model_module": "@jupyter-widgets/controls",
      "model_module_version": "2.0.0",
      "model_name": "SliderStyleModel",
      "state": {
       "description_width": ""
      }
     },
     "7c6ab0bb63cd4b2c9dafeb4a134b55eb": {
      "model_module": "@jupyter-widgets/controls",
      "model_module_version": "2.0.0",
      "model_name": "DescriptionStyleModel",
      "state": {
       "description_width": ""
      }
     },
     "7c9b4d4c72ac47a8880a1f7aecaa7cb8": {
      "model_module": "@jupyter-widgets/controls",
      "model_module_version": "2.0.0",
      "model_name": "ButtonModel",
      "state": {
       "description": "Button",
       "layout": "IPY_MODEL_390f768ed1da4386ae4b97c80ce92603",
       "style": "IPY_MODEL_6bf25a13feab456991cfe1ffbe05b207",
       "tooltip": null
      }
     },
     "7d21b7b1c81b43ae8a856bcd186f5be3": {
      "model_module": "@jupyter-widgets/base",
      "model_module_version": "2.0.0",
      "model_name": "LayoutModel",
      "state": {}
     },
     "7d27cf9f4c32469494ddc927765eef33": {
      "model_module": "@jupyter-widgets/base",
      "model_module_version": "2.0.0",
      "model_name": "LayoutModel",
      "state": {}
     },
     "7d2e0b4780da4466b91b23ef3df2a615": {
      "model_module": "@jupyter-widgets/controls",
      "model_module_version": "2.0.0",
      "model_name": "ColorPickerModel",
      "state": {
       "disabled": false,
       "layout": "IPY_MODEL_59115c479c1b4251a587d16f88d96c42",
       "style": "IPY_MODEL_1ac67a38b580445e8dd13af9a72e97a2",
       "value": "#c52626"
      }
     },
     "7e95b9f944494541ae9036fa03509788": {
      "model_module": "@jupyter-widgets/base",
      "model_module_version": "2.0.0",
      "model_name": "LayoutModel",
      "state": {}
     },
     "7f42103cdec54be3a76b9fbd8539be77": {
      "model_module": "@jupyter-widgets/base",
      "model_module_version": "2.0.0",
      "model_name": "LayoutModel",
      "state": {}
     },
     "7fc6795191c84b259ee1bc41c8086706": {
      "model_module": "@jupyter-widgets/controls",
      "model_module_version": "2.0.0",
      "model_name": "IntSliderModel",
      "state": {
       "behavior": "drag-tap",
       "description": "Int Slider:",
       "layout": "IPY_MODEL_ae2cf0c73d2f41cd805c48d0ac554e06",
       "style": "IPY_MODEL_058d9ff4314647809186a87c723f9eda"
      }
     },
     "80e0cad248a34b7dbc0f1fdb360d5722": {
      "model_module": "@jupyter-widgets/controls",
      "model_module_version": "2.0.0",
      "model_name": "DescriptionStyleModel",
      "state": {
       "description_width": ""
      }
     },
     "82a1dd94061f4deb86533c68d6902c2e": {
      "model_module": "@jupyter-widgets/base",
      "model_module_version": "2.0.0",
      "model_name": "LayoutModel",
      "state": {}
     },
     "8321d703991b4f6ab13aff7eaf645507": {
      "model_module": "@jupyter-widgets/controls",
      "model_module_version": "2.0.0",
      "model_name": "DescriptionStyleModel",
      "state": {
       "description_width": ""
      }
     },
     "83f6ac2ff4644bf0be6992fd09a4cded": {
      "model_module": "@jupyter-widgets/controls",
      "model_module_version": "2.0.0",
      "model_name": "ColorPickerModel",
      "state": {
       "disabled": false,
       "layout": "IPY_MODEL_2f1e491648e44bd4956cdf018da75e62",
       "style": "IPY_MODEL_5fcd8fe2d65b4802b095e87788b61fc4"
      }
     },
     "84e6b7ab10304ef4960358fb1b6c5c55": {
      "model_module": "@jupyter-widgets/base",
      "model_module_version": "2.0.0",
      "model_name": "LayoutModel",
      "state": {}
     },
     "856ea77feb36467ba73536cf88ff4916": {
      "model_module": "@jupyter-widgets/controls",
      "model_module_version": "2.0.0",
      "model_name": "IntTextModel",
      "state": {
       "description": "Int Text Box:",
       "layout": "IPY_MODEL_0325ea1a743e406b84164e4b28babb76",
       "step": 1,
       "style": "IPY_MODEL_1021092173c64b75bd24905ef9458b02",
       "value": 11
      }
     },
     "85c690e2d8f349a8b1addbe5fd0dd436": {
      "model_module": "@jupyter-widgets/controls",
      "model_module_version": "2.0.0",
      "model_name": "IntSliderModel",
      "state": {
       "behavior": "drag-tap",
       "description": "Int Slider:",
       "layout": "IPY_MODEL_f53dd63fcac149bd8ea99e64d78c7330",
       "max": 10,
       "style": "IPY_MODEL_b92a7f269d6d43b4a3e32a1038fc846b"
      }
     },
     "85e8b49d8f12475c8871f273021729e5": {
      "model_module": "@jupyter-widgets/controls",
      "model_module_version": "2.0.0",
      "model_name": "DescriptionStyleModel",
      "state": {
       "description_width": ""
      }
     },
     "85f8dcb55d42498fa2094a610e4e7ac1": {
      "model_module": "@jupyter-widgets/base",
      "model_module_version": "2.0.0",
      "model_name": "LayoutModel",
      "state": {}
     },
     "8677ad48e2954845b5de806caca140a4": {
      "model_module": "@jupyter-widgets/controls",
      "model_module_version": "2.0.0",
      "model_name": "SliderStyleModel",
      "state": {
       "description_width": ""
      }
     },
     "868a34425f9c4738a4c5504045e06c5c": {
      "model_module": "@jupyter-widgets/controls",
      "model_module_version": "2.0.0",
      "model_name": "SliderStyleModel",
      "state": {
       "description_width": ""
      }
     },
     "8831c070b9204c71a7fd444dc1e9ec10": {
      "model_module": "@jupyter-widgets/controls",
      "model_module_version": "2.0.0",
      "model_name": "TextModel",
      "state": {
       "description": "Dropdown:",
       "layout": "IPY_MODEL_6b9d461a9fda4a5cbe0809a204d881ce",
       "style": "IPY_MODEL_0d63955a94a54b2e9a8f740e57799ab6",
       "value": "Weight"
      }
     },
     "8893e7116ac44eada1c522d178f2745a": {
      "model_module": "@jupyter-widgets/base",
      "model_module_version": "2.0.0",
      "model_name": "LayoutModel",
      "state": {}
     },
     "898d9836280e45c48cb4b8dbd98b77be": {
      "model_module": "@jupyter-widgets/controls",
      "model_module_version": "2.0.0",
      "model_name": "DescriptionStyleModel",
      "state": {
       "description_width": ""
      }
     },
     "898eae319f7d45a09f8f04688e31678a": {
      "model_module": "@jupyter-widgets/controls",
      "model_module_version": "2.0.0",
      "model_name": "DescriptionStyleModel",
      "state": {
       "description_width": ""
      }
     },
     "8bf4754190f947ba8d7e8e321a60d512": {
      "model_module": "@jupyter-widgets/controls",
      "model_module_version": "2.0.0",
      "model_name": "IntSliderModel",
      "state": {
       "behavior": "drag-tap",
       "layout": "IPY_MODEL_fd8994401222486c977fd27de1efecf9",
       "style": "IPY_MODEL_3ef5001982dc40f5865b9a2d3891e6ef"
      }
     },
     "8c069376b6064cebb7931f34f55f21e3": {
      "model_module": "@jupyter-widgets/base",
      "model_module_version": "2.0.0",
      "model_name": "LayoutModel",
      "state": {}
     },
     "8cdf5ab49f6047afab3f32c35e3f6d2d": {
      "model_module": "@jupyter-widgets/controls",
      "model_module_version": "2.0.0",
      "model_name": "ButtonStyleModel",
      "state": {
       "font_family": null,
       "font_size": null,
       "font_style": null,
       "font_variant": null,
       "font_weight": null,
       "text_color": null,
       "text_decoration": null
      }
     },
     "8cecc491a5fe4853b40fb4ade6d11f17": {
      "model_module": "@jupyter-widgets/controls",
      "model_module_version": "2.0.0",
      "model_name": "IntSliderModel",
      "state": {
       "behavior": "drag-tap",
       "description": "Int Slider:",
       "layout": "IPY_MODEL_01424b3cc97b4f6dbd94f67a59ddb5c2",
       "style": "IPY_MODEL_302746e0cd62424b95f79fbe811d4a94",
       "value": 5
      }
     },
     "8dea8c7be344436fa95301ce47e71c4e": {
      "model_module": "@jupyter-widgets/controls",
      "model_module_version": "2.0.0",
      "model_name": "IntTextModel",
      "state": {
       "description": "Int Text Box:",
       "layout": "IPY_MODEL_a8402bdb731b453dbe77f06271ccf5d6",
       "step": 1,
       "style": "IPY_MODEL_6b0ab8f3d6c0451680ffba41c4bdaa5d",
       "value": 13
      }
     },
     "90807f45d52e4b1da7176fa122382897": {
      "model_module": "@jupyter-widgets/controls",
      "model_module_version": "2.0.0",
      "model_name": "DescriptionStyleModel",
      "state": {
       "description_width": ""
      }
     },
     "908c31570b064236b59f23a9b5822038": {
      "model_module": "@jupyter-widgets/controls",
      "model_module_version": "2.0.0",
      "model_name": "ButtonModel",
      "state": {
       "description": "Button",
       "layout": "IPY_MODEL_da3cd0e642ce437ca481f68937bdf8a4",
       "style": "IPY_MODEL_0b601b5e09044718808e93976700bdb5",
       "tooltip": null
      }
     },
     "921f0c0e096346fb9b87e6818ec840c9": {
      "model_module": "@jupyter-widgets/controls",
      "model_module_version": "2.0.0",
      "model_name": "DescriptionStyleModel",
      "state": {
       "description_width": ""
      }
     },
     "92bdd76c8fb1418790c6d063a580db9f": {
      "model_module": "@jupyter-widgets/base",
      "model_module_version": "2.0.0",
      "model_name": "LayoutModel",
      "state": {}
     },
     "92f5edf0caa8444ebb38fc3593ba42db": {
      "model_module": "@jupyter-widgets/base",
      "model_module_version": "2.0.0",
      "model_name": "LayoutModel",
      "state": {}
     },
     "931bc628c62647ff9e4368c43d84c5d6": {
      "model_module": "@jupyter-widgets/controls",
      "model_module_version": "2.0.0",
      "model_name": "ButtonStyleModel",
      "state": {
       "font_family": null,
       "font_size": null,
       "font_style": null,
       "font_variant": null,
       "font_weight": null,
       "text_color": null,
       "text_decoration": null
      }
     },
     "93cad9400cc04bf2a721ceae77e13e59": {
      "model_module": "@jupyter-widgets/base",
      "model_module_version": "2.0.0",
      "model_name": "LayoutModel",
      "state": {}
     },
     "9586635fab914f1597a6d530d1f2aeaa": {
      "model_module": "@jupyter-widgets/controls",
      "model_module_version": "2.0.0",
      "model_name": "IntSliderModel",
      "state": {
       "behavior": "drag-tap",
       "description": "Weight",
       "layout": "IPY_MODEL_324885e927fa494f91efe81c54cce6ad",
       "max": 10,
       "style": "IPY_MODEL_f3c468cf8a4b4f4c9d9a6ed8330ce32c"
      }
     },
     "95ad9e9768634788b79c9fc74f4922aa": {
      "model_module": "@jupyter-widgets/controls",
      "model_module_version": "2.0.0",
      "model_name": "ButtonStyleModel",
      "state": {
       "font_family": null,
       "font_size": null,
       "font_style": null,
       "font_variant": null,
       "font_weight": null,
       "text_color": null,
       "text_decoration": null
      }
     },
     "964913342a4048929d3bb7efd3dc7bf1": {
      "model_module": "@jupyter-widgets/base",
      "model_module_version": "2.0.0",
      "model_name": "LayoutModel",
      "state": {}
     },
     "979e9a03d9544885aad4b4e9224c0c88": {
      "model_module": "@jupyter-widgets/controls",
      "model_module_version": "2.0.0",
      "model_name": "SliderStyleModel",
      "state": {
       "description_width": ""
      }
     },
     "984d9233c37447cf8b2ef58eb203860e": {
      "model_module": "@jupyter-widgets/base",
      "model_module_version": "2.0.0",
      "model_name": "LayoutModel",
      "state": {}
     },
     "99c38246d3b34573987e6fc24d84cd39": {
      "model_module": "@jupyter-widgets/controls",
      "model_module_version": "2.0.0",
      "model_name": "IntTextModel",
      "state": {
       "description": "Minimum:",
       "layout": "IPY_MODEL_40c781777cb145e596a9872a3f0a1ff1",
       "step": 1,
       "style": "IPY_MODEL_66bf60e9331d41eba37554d1412eb218",
       "value": 5
      }
     },
     "9abf832f26fd4b47bc1e9552c7e07461": {
      "model_module": "@jupyter-widgets/controls",
      "model_module_version": "2.0.0",
      "model_name": "SliderStyleModel",
      "state": {
       "description_width": ""
      }
     },
     "9ae17bacee7a40329956e7ea0b5733e4": {
      "model_module": "@jupyter-widgets/controls",
      "model_module_version": "2.0.0",
      "model_name": "IntTextModel",
      "state": {
       "description": "Maximum:",
       "layout": "IPY_MODEL_786ec69403974fd09677672ba57bc6bc",
       "step": 1,
       "style": "IPY_MODEL_fbbe5e17e9554820ac8749f9196823ad",
       "value": 15
      }
     },
     "9ea205543b684874ab3cef474b8cca0c": {
      "model_module": "@jupyter-widgets/controls",
      "model_module_version": "2.0.0",
      "model_name": "DescriptionStyleModel",
      "state": {
       "description_width": ""
      }
     },
     "9fff15f6638f4b038fbba5ced167cce5": {
      "model_module": "@jupyter-widgets/controls",
      "model_module_version": "2.0.0",
      "model_name": "ButtonStyleModel",
      "state": {
       "font_family": null,
       "font_size": null,
       "font_style": null,
       "font_variant": null,
       "font_weight": null,
       "text_color": null,
       "text_decoration": null
      }
     },
     "a04564698981481c84930a3ae9f2ca93": {
      "model_module": "@jupyter-widgets/controls",
      "model_module_version": "2.0.0",
      "model_name": "DescriptionStyleModel",
      "state": {
       "description_width": ""
      }
     },
     "a0ea75172405487d87aa34d39a39236d": {
      "model_module": "@jupyter-widgets/base",
      "model_module_version": "2.0.0",
      "model_name": "LayoutModel",
      "state": {}
     },
     "a160664fef0f47aeb0c4074e8f01ae33": {
      "model_module": "@jupyter-widgets/base",
      "model_module_version": "2.0.0",
      "model_name": "LayoutModel",
      "state": {}
     },
     "a20d002969674b96bb1aff2e073cbd47": {
      "model_module": "@jupyter-widgets/controls",
      "model_module_version": "2.0.0",
      "model_name": "IntTextModel",
      "state": {
       "description": "Int Text Box:",
       "layout": "IPY_MODEL_ed661ed6af3340eda488b23f1365ba36",
       "step": 1,
       "style": "IPY_MODEL_9ea205543b684874ab3cef474b8cca0c",
       "value": 5
      }
     },
     "a2c08e14364040e580e344517732cd1f": {
      "model_module": "@jupyter-widgets/base",
      "model_module_version": "2.0.0",
      "model_name": "LayoutModel",
      "state": {}
     },
     "a366912ac4174ee48aaaf11a7fc151a1": {
      "model_module": "@jupyter-widgets/controls",
      "model_module_version": "2.0.0",
      "model_name": "DescriptionStyleModel",
      "state": {
       "description_width": ""
      }
     },
     "a4547e1b65b94fd4b5ef490de209cb0f": {
      "model_module": "@jupyter-widgets/base",
      "model_module_version": "2.0.0",
      "model_name": "LayoutModel",
      "state": {}
     },
     "a74c47d2a4924f88b31028c22866d0c9": {
      "model_module": "@jupyter-widgets/base",
      "model_module_version": "2.0.0",
      "model_name": "LayoutModel",
      "state": {}
     },
     "a75f286d8b0541b48b49b88ec8acefe8": {
      "model_module": "@jupyter-widgets/base",
      "model_module_version": "2.0.0",
      "model_name": "LayoutModel",
      "state": {}
     },
     "a78fc8bf35844ff7b03b1a2249bc8cd2": {
      "model_module": "@jupyter-widgets/controls",
      "model_module_version": "2.0.0",
      "model_name": "CheckboxModel",
      "state": {
       "disabled": false,
       "layout": "IPY_MODEL_2f147288b4b040098c942a90884fa829",
       "style": "IPY_MODEL_d0a7e973292c4e9e80ead3822a8c7fa5",
       "value": false
      }
     },
     "a8025da3951047269aedda8d1ea3cb8b": {
      "model_module": "@jupyter-widgets/controls",
      "model_module_version": "2.0.0",
      "model_name": "IntTextModel",
      "state": {
       "description": "Minimum:",
       "layout": "IPY_MODEL_babd64279f43417db1f841bd94a604f8",
       "step": 1,
       "style": "IPY_MODEL_158b850253a34a438c3cfd7d9f042749"
      }
     },
     "a8402bdb731b453dbe77f06271ccf5d6": {
      "model_module": "@jupyter-widgets/base",
      "model_module_version": "2.0.0",
      "model_name": "LayoutModel",
      "state": {}
     },
     "a8926ae344c149eab69be64fc697dc8d": {
      "model_module": "@jupyter-widgets/base",
      "model_module_version": "2.0.0",
      "model_name": "LayoutModel",
      "state": {}
     },
     "ab5e70025b7340269fa691d35fd47310": {
      "model_module": "@jupyter-widgets/base",
      "model_module_version": "2.0.0",
      "model_name": "LayoutModel",
      "state": {}
     },
     "ab72f25e490f4853a7e70abaef1dd479": {
      "model_module": "@jupyter-widgets/controls",
      "model_module_version": "2.0.0",
      "model_name": "SliderStyleModel",
      "state": {
       "description_width": ""
      }
     },
     "abf5ac04191f4a5d9d1d4130d0375389": {
      "model_module": "@jupyter-widgets/controls",
      "model_module_version": "2.0.0",
      "model_name": "DescriptionStyleModel",
      "state": {
       "description_width": ""
      }
     },
     "ac2aa8708e3d4f2c9730f497b6948304": {
      "model_module": "@jupyter-widgets/base",
      "model_module_version": "2.0.0",
      "model_name": "LayoutModel",
      "state": {}
     },
     "ad67d8023cad4d1dab1fb475e8aa50a0": {
      "model_module": "@jupyter-widgets/base",
      "model_module_version": "2.0.0",
      "model_name": "LayoutModel",
      "state": {}
     },
     "ada91b7b1b5c450fad6c69143bc55c0e": {
      "model_module": "@jupyter-widgets/controls",
      "model_module_version": "2.0.0",
      "model_name": "IntTextModel",
      "state": {
       "layout": "IPY_MODEL_964913342a4048929d3bb7efd3dc7bf1",
       "step": 1,
       "style": "IPY_MODEL_a366912ac4174ee48aaaf11a7fc151a1"
      }
     },
     "adf3d159b32a41ecb46bf7b48402f53f": {
      "model_module": "@jupyter-widgets/base",
      "model_module_version": "2.0.0",
      "model_name": "LayoutModel",
      "state": {}
     },
     "ae2cf0c73d2f41cd805c48d0ac554e06": {
      "model_module": "@jupyter-widgets/base",
      "model_module_version": "2.0.0",
      "model_name": "LayoutModel",
      "state": {}
     },
     "ae6b2fcb4977445cbdec0741fe47dde2": {
      "model_module": "@jupyter-widgets/controls",
      "model_module_version": "2.0.0",
      "model_name": "IntSliderModel",
      "state": {
       "behavior": "drag-tap",
       "description": "Int Slider:",
       "layout": "IPY_MODEL_8c069376b6064cebb7931f34f55f21e3",
       "style": "IPY_MODEL_23872add665347608a51d05d9904eb83",
       "value": 18
      }
     },
     "ae76dfc92cdf4461a238833fa9168546": {
      "model_module": "@jupyter-widgets/controls",
      "model_module_version": "2.0.0",
      "model_name": "DescriptionStyleModel",
      "state": {
       "description_width": ""
      }
     },
     "b0a578951f134b638b1389257c44b46c": {
      "model_module": "@jupyter-widgets/controls",
      "model_module_version": "2.0.0",
      "model_name": "CheckboxStyleModel",
      "state": {
       "description_width": ""
      }
     },
     "b3a7190483d94e3392e8e646f99b5360": {
      "model_module": "@jupyter-widgets/controls",
      "model_module_version": "2.0.0",
      "model_name": "ButtonStyleModel",
      "state": {
       "font_family": null,
       "font_size": null,
       "font_style": null,
       "font_variant": null,
       "font_weight": null,
       "text_color": null,
       "text_decoration": null
      }
     },
     "b55bd3505d454ccd8d7acfbc2a5a6fbc": {
      "model_module": "@jupyter-widgets/base",
      "model_module_version": "2.0.0",
      "model_name": "LayoutModel",
      "state": {}
     },
     "b5efd30db6854508aefb1ea055594d2c": {
      "model_module": "@jupyter-widgets/controls",
      "model_module_version": "2.0.0",
      "model_name": "TextStyleModel",
      "state": {
       "description_width": "",
       "font_size": null,
       "text_color": null
      }
     },
     "b91bdfeba564484bb68c31290f76b923": {
      "model_module": "@jupyter-widgets/controls",
      "model_module_version": "2.0.0",
      "model_name": "IntTextModel",
      "state": {
       "description": "Dropdown:",
       "layout": "IPY_MODEL_7f42103cdec54be3a76b9fbd8539be77",
       "step": 1,
       "style": "IPY_MODEL_ae76dfc92cdf4461a238833fa9168546"
      }
     },
     "b92a7f269d6d43b4a3e32a1038fc846b": {
      "model_module": "@jupyter-widgets/controls",
      "model_module_version": "2.0.0",
      "model_name": "SliderStyleModel",
      "state": {
       "description_width": ""
      }
     },
     "b98fdb029f9548d79d4b85b9523ca95b": {
      "model_module": "@jupyter-widgets/controls",
      "model_module_version": "2.0.0",
      "model_name": "TextModel",
      "state": {
       "description": "Dropdown:",
       "layout": "IPY_MODEL_664dd3a91c214cb7995bcc14fc20b07f",
       "style": "IPY_MODEL_360e52e245244512a236e37410f26da6",
       "value": "Weight"
      }
     },
     "b9cdc1be729f4d01964b1b1b6ec105cf": {
      "model_module": "@jupyter-widgets/base",
      "model_module_version": "2.0.0",
      "model_name": "LayoutModel",
      "state": {}
     },
     "ba6cb0ed21f446e78790aee4068bafd5": {
      "model_module": "@jupyter-widgets/controls",
      "model_module_version": "2.0.0",
      "model_name": "DescriptionStyleModel",
      "state": {
       "description_width": ""
      }
     },
     "babd64279f43417db1f841bd94a604f8": {
      "model_module": "@jupyter-widgets/base",
      "model_module_version": "2.0.0",
      "model_name": "LayoutModel",
      "state": {}
     },
     "bc3895c1a7d5410ca08e8d120e24edaa": {
      "model_module": "@jupyter-widgets/base",
      "model_module_version": "2.0.0",
      "model_name": "LayoutModel",
      "state": {}
     },
     "bc391f48f29d43d69bccb2fcbb12a221": {
      "model_module": "@jupyter-widgets/controls",
      "model_module_version": "2.0.0",
      "model_name": "DescriptionStyleModel",
      "state": {
       "description_width": ""
      }
     },
     "bc83fc1a378845ef8f7a8c627adf7041": {
      "model_module": "@jupyter-widgets/controls",
      "model_module_version": "2.0.0",
      "model_name": "DescriptionStyleModel",
      "state": {
       "description_width": ""
      }
     },
     "bce14ff739e5426888e7190881c41730": {
      "model_module": "@jupyter-widgets/controls",
      "model_module_version": "2.0.0",
      "model_name": "ButtonStyleModel",
      "state": {
       "font_family": null,
       "font_size": null,
       "font_style": null,
       "font_variant": null,
       "font_weight": null,
       "text_color": null,
       "text_decoration": null
      }
     },
     "bcea84f8434d420da0d3258fe86a98a6": {
      "model_module": "@jupyter-widgets/controls",
      "model_module_version": "2.0.0",
      "model_name": "SliderStyleModel",
      "state": {
       "description_width": ""
      }
     },
     "bd1eadf9d73f4c6c83eec4e9fc344f1b": {
      "model_module": "@jupyter-widgets/controls",
      "model_module_version": "2.0.0",
      "model_name": "CheckboxModel",
      "state": {
       "description": "Disable?",
       "disabled": false,
       "layout": "IPY_MODEL_c53ca0e7f9ae4906b1aad158900e7e77",
       "style": "IPY_MODEL_68cee01711cf47c697c035d4c45f0573",
       "value": false
      }
     },
     "bd2f775369ad41e5a7462a0b9ac1a136": {
      "model_module": "@jupyter-widgets/base",
      "model_module_version": "2.0.0",
      "model_name": "LayoutModel",
      "state": {}
     },
     "bd796febd93f4a0dbc6c37ea8157663b": {
      "model_module": "@jupyter-widgets/base",
      "model_module_version": "2.0.0",
      "model_name": "LayoutModel",
      "state": {}
     },
     "beb0c0812c2740fbb66674ff8581eba0": {
      "model_module": "@jupyter-widgets/controls",
      "model_module_version": "2.0.0",
      "model_name": "IntTextModel",
      "state": {
       "description": "Dropdown:",
       "layout": "IPY_MODEL_ac2aa8708e3d4f2c9730f497b6948304",
       "step": 1,
       "style": "IPY_MODEL_921f0c0e096346fb9b87e6818ec840c9",
       "value": 1
      }
     },
     "bfbc7987c49b4bec9bff9bdbe506dd16": {
      "model_module": "@jupyter-widgets/controls",
      "model_module_version": "2.0.0",
      "model_name": "IntSliderModel",
      "state": {
       "behavior": "drag-tap",
       "description": "Weight",
       "layout": "IPY_MODEL_a74c47d2a4924f88b31028c22866d0c9",
       "max": 10,
       "style": "IPY_MODEL_dc01fcefffaa462fa1bc1d24be61cb87"
      }
     },
     "c0768348ffe3415a9cf99d68baeae160": {
      "model_module": "@jupyter-widgets/controls",
      "model_module_version": "2.0.0",
      "model_name": "ButtonModel",
      "state": {
       "description": "Button",
       "layout": "IPY_MODEL_3453e34a3a6b4dfd9110ec599bd908a7",
       "style": "IPY_MODEL_95ad9e9768634788b79c9fc74f4922aa",
       "tooltip": null
      }
     },
     "c18e916059694fcbb38cec64937d4ff2": {
      "model_module": "@jupyter-widgets/controls",
      "model_module_version": "2.0.0",
      "model_name": "IntTextModel",
      "state": {
       "description": "Maximum:",
       "layout": "IPY_MODEL_ebc8b748bfaf4bb0afc455985b24ba7d",
       "step": 1,
       "style": "IPY_MODEL_8321d703991b4f6ab13aff7eaf645507",
       "value": 10
      }
     },
     "c2582bc2558f4751b024700fcc29a2b3": {
      "model_module": "@jupyter-widgets/controls",
      "model_module_version": "2.0.0",
      "model_name": "IntTextModel",
      "state": {
       "description": "Dropdown:",
       "layout": "IPY_MODEL_65a35b8805fe45b2a834ed66199f28c7",
       "step": 1,
       "style": "IPY_MODEL_26d8ee5f8e30402e8517b0f059cabc3e"
      }
     },
     "c30ffbe2f03b4161887638c962d1d5ce": {
      "model_module": "@jupyter-widgets/controls",
      "model_module_version": "2.0.0",
      "model_name": "DescriptionStyleModel",
      "state": {
       "description_width": ""
      }
     },
     "c4f6baaecbaf49ae8dbde456ddf4f968": {
      "model_module": "@jupyter-widgets/base",
      "model_module_version": "2.0.0",
      "model_name": "LayoutModel",
      "state": {}
     },
     "c53ca0e7f9ae4906b1aad158900e7e77": {
      "model_module": "@jupyter-widgets/base",
      "model_module_version": "2.0.0",
      "model_name": "LayoutModel",
      "state": {}
     },
     "c593c92bd5af48dda24ec0adb8a09281": {
      "model_module": "@jupyter-widgets/controls",
      "model_module_version": "2.0.0",
      "model_name": "DescriptionStyleModel",
      "state": {
       "description_width": ""
      }
     },
     "c5ba881e22b54436af5e18827c564c1a": {
      "model_module": "@jupyter-widgets/controls",
      "model_module_version": "2.0.0",
      "model_name": "SliderStyleModel",
      "state": {
       "description_width": ""
      }
     },
     "c5efa083d73748eb97af665f3ff4b728": {
      "model_module": "@jupyter-widgets/base",
      "model_module_version": "2.0.0",
      "model_name": "LayoutModel",
      "state": {}
     },
     "c7fec045f07b46e2b2d436a112b82f6a": {
      "model_module": "@jupyter-widgets/controls",
      "model_module_version": "2.0.0",
      "model_name": "IntTextModel",
      "state": {
       "description": "Dropdown:",
       "layout": "IPY_MODEL_1b7d01af3ef0426f9a11264930d0a21a",
       "step": 1,
       "style": "IPY_MODEL_353ec06f913247729c1491d5f73deb0f"
      }
     },
     "c80ad08e5dc84c468a6b89d8304fb674": {
      "model_module": "@jupyter-widgets/controls",
      "model_module_version": "2.0.0",
      "model_name": "ColorPickerModel",
      "state": {
       "disabled": false,
       "layout": "IPY_MODEL_ad67d8023cad4d1dab1fb475e8aa50a0",
       "style": "IPY_MODEL_898eae319f7d45a09f8f04688e31678a"
      }
     },
     "cc35431bb3924b62a92a6ce0caea7e8d": {
      "model_module": "@jupyter-widgets/controls",
      "model_module_version": "2.0.0",
      "model_name": "DescriptionStyleModel",
      "state": {
       "description_width": ""
      }
     },
     "ccf64c1a16ba437586ecc858fcf5ec71": {
      "model_module": "@jupyter-widgets/base",
      "model_module_version": "2.0.0",
      "model_name": "LayoutModel",
      "state": {}
     },
     "cda451add146478095542dc96934477a": {
      "model_module": "@jupyter-widgets/controls",
      "model_module_version": "2.0.0",
      "model_name": "ButtonModel",
      "state": {
       "description": "Button",
       "layout": "IPY_MODEL_09c6d5b81add4673b1c1073da23aec75",
       "style": "IPY_MODEL_432bde5f633e4690b16c668b80670eba",
       "tooltip": null
      }
     },
     "cea26febb4524140ade51375993001e2": {
      "model_module": "@jupyter-widgets/base",
      "model_module_version": "2.0.0",
      "model_name": "LayoutModel",
      "state": {}
     },
     "cefaffe190034fdea60782ba59b96189": {
      "model_module": "@jupyter-widgets/controls",
      "model_module_version": "2.0.0",
      "model_name": "ButtonModel",
      "state": {
       "description": "Button",
       "layout": "IPY_MODEL_62d451fa5c8c480ab1cf4edbcab1dbeb",
       "style": "IPY_MODEL_8cdf5ab49f6047afab3f32c35e3f6d2d",
       "tooltip": null
      }
     },
     "d05dd7cc1ec4427c8f9ffbca5d6e0502": {
      "model_module": "@jupyter-widgets/controls",
      "model_module_version": "2.0.0",
      "model_name": "IntSliderModel",
      "state": {
       "behavior": "drag-tap",
       "description": "Int Slider:",
       "layout": "IPY_MODEL_f49c06b7ae9749f4b2ec0c1f5e70ac7e",
       "max": 15,
       "min": 5,
       "style": "IPY_MODEL_19cb0a0ad84245f9ae785027242026f7",
       "value": 5
      }
     },
     "d0a7e973292c4e9e80ead3822a8c7fa5": {
      "model_module": "@jupyter-widgets/controls",
      "model_module_version": "2.0.0",
      "model_name": "CheckboxStyleModel",
      "state": {
       "description_width": ""
      }
     },
     "d1c5f22517a8440fa838b3ee28608fdb": {
      "model_module": "@jupyter-widgets/base",
      "model_module_version": "2.0.0",
      "model_name": "LayoutModel",
      "state": {}
     },
     "d3c10dd0e2914410abd4e6c0c7b8a286": {
      "model_module": "@jupyter-widgets/controls",
      "model_module_version": "2.0.0",
      "model_name": "IntSliderModel",
      "state": {
       "behavior": "drag-tap",
       "layout": "IPY_MODEL_0ee0795eea9d4c30ba565af32a054ba6",
       "style": "IPY_MODEL_8677ad48e2954845b5de806caca140a4"
      }
     },
     "d471c9a1a5fc4eb2965b6a005391c4f3": {
      "model_module": "@jupyter-widgets/controls",
      "model_module_version": "2.0.0",
      "model_name": "ButtonStyleModel",
      "state": {
       "font_family": null,
       "font_size": null,
       "font_style": null,
       "font_variant": null,
       "font_weight": null,
       "text_color": null,
       "text_decoration": null
      }
     },
     "d521ade2a9cd407391738a5ecc4de2bb": {
      "model_module": "@jupyter-widgets/base",
      "model_module_version": "2.0.0",
      "model_name": "LayoutModel",
      "state": {}
     },
     "d596e1a4484742cbbb316115531a3c05": {
      "model_module": "@jupyter-widgets/base",
      "model_module_version": "2.0.0",
      "model_name": "LayoutModel",
      "state": {}
     },
     "d70099658c7c4fd2a9bd7063fd0b8d7c": {
      "model_module": "@jupyter-widgets/controls",
      "model_module_version": "2.0.0",
      "model_name": "DescriptionStyleModel",
      "state": {
       "description_width": ""
      }
     },
     "d75eb48b336d483389144fccefd378bf": {
      "model_module": "@jupyter-widgets/base",
      "model_module_version": "2.0.0",
      "model_name": "LayoutModel",
      "state": {}
     },
     "d7b54b9d1af349c7b68c4b07c1782543": {
      "model_module": "@jupyter-widgets/controls",
      "model_module_version": "2.0.0",
      "model_name": "IntSliderModel",
      "state": {
       "behavior": "drag-tap",
       "description": "Int Slider:",
       "layout": "IPY_MODEL_5b73ab94a7ec4bd682ffc0c0ba1ac0a7",
       "style": "IPY_MODEL_2a4ff8c09d7f442694c5e20ed1ce59dd",
       "value": 32
      }
     },
     "d98e809b2a81423b8a753a4d05e40f57": {
      "model_module": "@jupyter-widgets/controls",
      "model_module_version": "2.0.0",
      "model_name": "ButtonModel",
      "state": {
       "description": "Button",
       "layout": "IPY_MODEL_6d5a142f74914dab8a8aed9e563d66ec",
       "style": "IPY_MODEL_5e16587c9a7a407f92e1441be152e048",
       "tooltip": null
      }
     },
     "d9ecc0aff3ea4be481db0b7e058d5ade": {
      "model_module": "@jupyter-widgets/base",
      "model_module_version": "2.0.0",
      "model_name": "LayoutModel",
      "state": {}
     },
     "da3cd0e642ce437ca481f68937bdf8a4": {
      "model_module": "@jupyter-widgets/base",
      "model_module_version": "2.0.0",
      "model_name": "LayoutModel",
      "state": {}
     },
     "da447d90935d4563985b9f33d46b991f": {
      "model_module": "@jupyter-widgets/controls",
      "model_module_version": "2.0.0",
      "model_name": "CheckboxModel",
      "state": {
       "description": "Disable:",
       "disabled": false,
       "layout": "IPY_MODEL_92f5edf0caa8444ebb38fc3593ba42db",
       "style": "IPY_MODEL_0a63321f3c9d40ef8b2f3ef919eb84fa",
       "value": false
      }
     },
     "daf05332ab924c84b6282211e2b03abc": {
      "model_module": "@jupyter-widgets/controls",
      "model_module_version": "2.0.0",
      "model_name": "TextModel",
      "state": {
       "description": "Label:",
       "layout": "IPY_MODEL_3e3584b15a114e9fa1e9546aec883f7d",
       "style": "IPY_MODEL_59ca942ab2c746f787cb59b5ba6c1723",
       "value": "Weight"
      }
     },
     "db7b68155ad54f78a4365ac6b12b97cb": {
      "model_module": "@jupyter-widgets/base",
      "model_module_version": "2.0.0",
      "model_name": "LayoutModel",
      "state": {}
     },
     "dba681156e004a52bd22e51a62a5331f": {
      "model_module": "@jupyter-widgets/controls",
      "model_module_version": "2.0.0",
      "model_name": "IntTextModel",
      "state": {
       "layout": "IPY_MODEL_dfe723135f1242f99c7dec364691d6f2",
       "step": 1,
       "style": "IPY_MODEL_bc83fc1a378845ef8f7a8c627adf7041"
      }
     },
     "dbf4aaceb9f14ecf82926b61ba7a5395": {
      "model_module": "@jupyter-widgets/controls",
      "model_module_version": "2.0.0",
      "model_name": "ButtonModel",
      "state": {
       "description": "Button",
       "layout": "IPY_MODEL_3fb1cb3fa0f5431eb271c3c53dedcf01",
       "style": "IPY_MODEL_d471c9a1a5fc4eb2965b6a005391c4f3",
       "tooltip": null
      }
     },
     "dc01fcefffaa462fa1bc1d24be61cb87": {
      "model_module": "@jupyter-widgets/controls",
      "model_module_version": "2.0.0",
      "model_name": "SliderStyleModel",
      "state": {
       "description_width": ""
      }
     },
     "dc1f54e812ac4abcb09965a401163e04": {
      "model_module": "@jupyter-widgets/controls",
      "model_module_version": "2.0.0",
      "model_name": "IntTextModel",
      "state": {
       "description": "Minimum:",
       "layout": "IPY_MODEL_84e6b7ab10304ef4960358fb1b6c5c55",
       "step": 1,
       "style": "IPY_MODEL_ba6cb0ed21f446e78790aee4068bafd5"
      }
     },
     "dc3df75af1434cbfb85133b5faf23934": {
      "model_module": "@jupyter-widgets/controls",
      "model_module_version": "2.0.0",
      "model_name": "DescriptionStyleModel",
      "state": {
       "description_width": ""
      }
     },
     "dd846cd6051a45159101116f4339fb2e": {
      "model_module": "@jupyter-widgets/controls",
      "model_module_version": "2.0.0",
      "model_name": "DescriptionStyleModel",
      "state": {
       "description_width": ""
      }
     },
     "ddad284c464540b081c904c8e35094e6": {
      "model_module": "@jupyter-widgets/controls",
      "model_module_version": "2.0.0",
      "model_name": "IntSliderModel",
      "state": {
       "behavior": "drag-tap",
       "description": "Int Slider:",
       "layout": "IPY_MODEL_c4f6baaecbaf49ae8dbde456ddf4f968",
       "style": "IPY_MODEL_ea7658fa31be459b8e171cc71f226f9a"
      }
     },
     "de04149f5c2c4f7c883e349c26434a1d": {
      "model_module": "@jupyter-widgets/controls",
      "model_module_version": "2.0.0",
      "model_name": "IntTextModel",
      "state": {
       "description": "Int Text Box:",
       "layout": "IPY_MODEL_a2c08e14364040e580e344517732cd1f",
       "step": 1,
       "style": "IPY_MODEL_df80da6b66ad4a5d83191110b38e3be1",
       "value": 5
      }
     },
     "df80da6b66ad4a5d83191110b38e3be1": {
      "model_module": "@jupyter-widgets/controls",
      "model_module_version": "2.0.0",
      "model_name": "DescriptionStyleModel",
      "state": {
       "description_width": ""
      }
     },
     "dfb9bf0db3c04190baa894c8fc2895d6": {
      "model_module": "@jupyter-widgets/base",
      "model_module_version": "2.0.0",
      "model_name": "LayoutModel",
      "state": {}
     },
     "dfd4d72b9af7479cb6cb98da42edefb1": {
      "model_module": "@jupyter-widgets/base",
      "model_module_version": "2.0.0",
      "model_name": "LayoutModel",
      "state": {}
     },
     "dfe723135f1242f99c7dec364691d6f2": {
      "model_module": "@jupyter-widgets/base",
      "model_module_version": "2.0.0",
      "model_name": "LayoutModel",
      "state": {}
     },
     "e289bb843b754c798b146d27aa8abd1b": {
      "model_module": "@jupyter-widgets/controls",
      "model_module_version": "2.0.0",
      "model_name": "IntTextModel",
      "state": {
       "description": "Maximum:",
       "layout": "IPY_MODEL_c5efa083d73748eb97af665f3ff4b728",
       "step": 1,
       "style": "IPY_MODEL_70d752c3252f40a48e5468acdbae2410",
       "value": 10
      }
     },
     "e2dcdda7f8d24688886437fddc016b7c": {
      "model_module": "@jupyter-widgets/controls",
      "model_module_version": "2.0.0",
      "model_name": "DescriptionStyleModel",
      "state": {
       "description_width": ""
      }
     },
     "e34fc7432ad34ca9a39afdfa60f9b66c": {
      "model_module": "@jupyter-widgets/base",
      "model_module_version": "2.0.0",
      "model_name": "LayoutModel",
      "state": {}
     },
     "e389ee5b11ca4904a2ed709ad6fcb635": {
      "model_module": "@jupyter-widgets/controls",
      "model_module_version": "2.0.0",
      "model_name": "SliderStyleModel",
      "state": {
       "description_width": ""
      }
     },
     "e5a51fcfaacb4c7abecf77158aac549a": {
      "model_module": "@jupyter-widgets/controls",
      "model_module_version": "2.0.0",
      "model_name": "IntTextModel",
      "state": {
       "description": "Step:",
       "layout": "IPY_MODEL_a160664fef0f47aeb0c4074e8f01ae33",
       "step": 1,
       "style": "IPY_MODEL_66c9d1506b464176a01a1d47904f5e58",
       "value": 2
      }
     },
     "e743843d3d68499e921fb200c845f658": {
      "model_module": "@jupyter-widgets/controls",
      "model_module_version": "2.0.0",
      "model_name": "SliderStyleModel",
      "state": {
       "description_width": ""
      }
     },
     "e82f07001c1948c8a58d0f0d06acfc58": {
      "model_module": "@jupyter-widgets/controls",
      "model_module_version": "2.0.0",
      "model_name": "CheckboxModel",
      "state": {
       "disabled": false,
       "layout": "IPY_MODEL_a8926ae344c149eab69be64fc697dc8d",
       "style": "IPY_MODEL_43e50d0a7dea4a9f8092055e41875dd0",
       "value": false
      }
     },
     "e870f28224bd4265aa5ff19eab771d50": {
      "model_module": "@jupyter-widgets/controls",
      "model_module_version": "2.0.0",
      "model_name": "IntSliderModel",
      "state": {
       "behavior": "drag-tap",
       "description": "Int Slider:",
       "layout": "IPY_MODEL_f2af0f36708447b2a4fd6abd2adca376",
       "style": "IPY_MODEL_979e9a03d9544885aad4b4e9224c0c88",
       "value": 34
      }
     },
     "e8749f06d1984abc83dc67992fc18a11": {
      "model_module": "@jupyter-widgets/controls",
      "model_module_version": "2.0.0",
      "model_name": "DropdownModel",
      "state": {
       "_options_labels": [
        "red",
        "green",
        "blue",
        "yellow",
        "black"
       ],
       "description": "Color:",
       "index": 0,
       "layout": "IPY_MODEL_f4d9f19be70441bfa885db18dd317b50",
       "style": "IPY_MODEL_f0c85d41e1294e8192ba5a7e2a96373b"
      }
     },
     "ea22e7c1c4474ec0aae951c82bee2b73": {
      "model_module": "@jupyter-widgets/controls",
      "model_module_version": "2.0.0",
      "model_name": "IntTextModel",
      "state": {
       "description": "Minimum:",
       "layout": "IPY_MODEL_984d9233c37447cf8b2ef58eb203860e",
       "step": 1,
       "style": "IPY_MODEL_80e0cad248a34b7dbc0f1fdb360d5722"
      }
     },
     "ea7658fa31be459b8e171cc71f226f9a": {
      "model_module": "@jupyter-widgets/controls",
      "model_module_version": "2.0.0",
      "model_name": "SliderStyleModel",
      "state": {
       "description_width": ""
      }
     },
     "eb7fff98e95c4f2fb290a277e1bda97f": {
      "model_module": "@jupyter-widgets/controls",
      "model_module_version": "2.0.0",
      "model_name": "TextModel",
      "state": {
       "description": "Label:",
       "layout": "IPY_MODEL_63cf5cc6b92744f0bcd0f3a542c7bc46",
       "style": "IPY_MODEL_f6b72e00fef24359a9dc27a28852bee0",
       "value": "Weight"
      }
     },
     "ebc8b748bfaf4bb0afc455985b24ba7d": {
      "model_module": "@jupyter-widgets/base",
      "model_module_version": "2.0.0",
      "model_name": "LayoutModel",
      "state": {}
     },
     "ecaf342216214c0babab38d35721b242": {
      "model_module": "@jupyter-widgets/controls",
      "model_module_version": "2.0.0",
      "model_name": "DescriptionStyleModel",
      "state": {
       "description_width": ""
      }
     },
     "ed45b5972c9645e2bbce8482cfd5c853": {
      "model_module": "@jupyter-widgets/base",
      "model_module_version": "2.0.0",
      "model_name": "LayoutModel",
      "state": {}
     },
     "ed661ed6af3340eda488b23f1365ba36": {
      "model_module": "@jupyter-widgets/base",
      "model_module_version": "2.0.0",
      "model_name": "LayoutModel",
      "state": {}
     },
     "edf978e033524f67b550d57a0f63f544": {
      "model_module": "@jupyter-widgets/base",
      "model_module_version": "2.0.0",
      "model_name": "LayoutModel",
      "state": {}
     },
     "eed01e66aec84e77bfdd691e80a8056c": {
      "model_module": "@jupyter-widgets/controls",
      "model_module_version": "2.0.0",
      "model_name": "IntTextModel",
      "state": {
       "description": "Step:",
       "layout": "IPY_MODEL_d9ecc0aff3ea4be481db0b7e058d5ade",
       "step": 1,
       "style": "IPY_MODEL_90807f45d52e4b1da7176fa122382897",
       "value": 1
      }
     },
     "efe8f3d32d7b4db5b2e4e3c3b4cee5fa": {
      "model_module": "@jupyter-widgets/controls",
      "model_module_version": "2.0.0",
      "model_name": "IntSliderModel",
      "state": {
       "behavior": "drag-tap",
       "description": "Int Slider:",
       "layout": "IPY_MODEL_3f15fa90dc2e4f5487531239076937ca",
       "style": "IPY_MODEL_e389ee5b11ca4904a2ed709ad6fcb635",
       "value": 32
      }
     },
     "f0c85d41e1294e8192ba5a7e2a96373b": {
      "model_module": "@jupyter-widgets/controls",
      "model_module_version": "2.0.0",
      "model_name": "DescriptionStyleModel",
      "state": {
       "description_width": ""
      }
     },
     "f1329733a2444a10a1c218ee3fa85104": {
      "model_module": "@jupyter-widgets/controls",
      "model_module_version": "2.0.0",
      "model_name": "ColorPickerModel",
      "state": {
       "disabled": false,
       "layout": "IPY_MODEL_675722f757ae4c18a32176d12b43d7b1",
       "style": "IPY_MODEL_2df16aab66de4b18b3b2ab9ba0533dbf"
      }
     },
     "f22b4aabd63d4b2eb41ba8785b24e9e8": {
      "model_module": "@jupyter-widgets/controls",
      "model_module_version": "2.0.0",
      "model_name": "SliderStyleModel",
      "state": {
       "description_width": ""
      }
     },
     "f23972d3cc004964bb3c9a03007f9add": {
      "model_module": "@jupyter-widgets/controls",
      "model_module_version": "2.0.0",
      "model_name": "IntSliderModel",
      "state": {
       "behavior": "drag-tap",
       "description": "Int Slider:",
       "layout": "IPY_MODEL_db7b68155ad54f78a4365ac6b12b97cb",
       "max": 2,
       "style": "IPY_MODEL_868a34425f9c4738a4c5504045e06c5c",
       "value": 1
      }
     },
     "f2af0f36708447b2a4fd6abd2adca376": {
      "model_module": "@jupyter-widgets/base",
      "model_module_version": "2.0.0",
      "model_name": "LayoutModel",
      "state": {}
     },
     "f3c468cf8a4b4f4c9d9a6ed8330ce32c": {
      "model_module": "@jupyter-widgets/controls",
      "model_module_version": "2.0.0",
      "model_name": "SliderStyleModel",
      "state": {
       "description_width": ""
      }
     },
     "f49c06b7ae9749f4b2ec0c1f5e70ac7e": {
      "model_module": "@jupyter-widgets/base",
      "model_module_version": "2.0.0",
      "model_name": "LayoutModel",
      "state": {}
     },
     "f4d9f19be70441bfa885db18dd317b50": {
      "model_module": "@jupyter-widgets/base",
      "model_module_version": "2.0.0",
      "model_name": "LayoutModel",
      "state": {}
     },
     "f5226866bee04091abe5e62749b6571c": {
      "model_module": "@jupyter-widgets/base",
      "model_module_version": "2.0.0",
      "model_name": "LayoutModel",
      "state": {}
     },
     "f53dd63fcac149bd8ea99e64d78c7330": {
      "model_module": "@jupyter-widgets/base",
      "model_module_version": "2.0.0",
      "model_name": "LayoutModel",
      "state": {}
     },
     "f5d010cc18064df6a4443814a62647fb": {
      "model_module": "@jupyter-widgets/controls",
      "model_module_version": "2.0.0",
      "model_name": "ButtonModel",
      "state": {
       "description": "Button",
       "layout": "IPY_MODEL_401d2e277b2d4891ac7c8f66d4e21229",
       "style": "IPY_MODEL_0f855186590148f496906ea79af3a5a4",
       "tooltip": null
      }
     },
     "f6b72e00fef24359a9dc27a28852bee0": {
      "model_module": "@jupyter-widgets/controls",
      "model_module_version": "2.0.0",
      "model_name": "TextStyleModel",
      "state": {
       "description_width": "",
       "font_size": null,
       "text_color": null
      }
     },
     "f81225bf5027432c867b6a831f435d47": {
      "model_module": "@jupyter-widgets/controls",
      "model_module_version": "2.0.0",
      "model_name": "TextStyleModel",
      "state": {
       "description_width": "",
       "font_size": null,
       "text_color": null
      }
     },
     "f877ece996fc488cb8de3e63834da6b0": {
      "model_module": "@jupyter-widgets/controls",
      "model_module_version": "2.0.0",
      "model_name": "DescriptionStyleModel",
      "state": {
       "description_width": ""
      }
     },
     "f9d6239ad04f4e03985b2bc830678cba": {
      "model_module": "@jupyter-widgets/controls",
      "model_module_version": "2.0.0",
      "model_name": "IntSliderModel",
      "state": {
       "behavior": "drag-tap",
       "description": "Int Slider:",
       "layout": "IPY_MODEL_2a64e431090a45489b75f2177c813b58",
       "style": "IPY_MODEL_6c17511264314da2862ac57133040de6",
       "value": 5
      }
     },
     "faaac3ced01b4e66bda075e99fa79b9d": {
      "model_module": "@jupyter-widgets/controls",
      "model_module_version": "2.0.0",
      "model_name": "DescriptionStyleModel",
      "state": {
       "description_width": ""
      }
     },
     "fbbe5e17e9554820ac8749f9196823ad": {
      "model_module": "@jupyter-widgets/controls",
      "model_module_version": "2.0.0",
      "model_name": "DescriptionStyleModel",
      "state": {
       "description_width": ""
      }
     },
     "fc392bc3e06644ab82bc3a4b71eb9d95": {
      "model_module": "@jupyter-widgets/controls",
      "model_module_version": "2.0.0",
      "model_name": "IntTextModel",
      "state": {
       "description": "Int Text Box:",
       "layout": "IPY_MODEL_93cad9400cc04bf2a721ceae77e13e59",
       "step": 1,
       "style": "IPY_MODEL_c30ffbe2f03b4161887638c962d1d5ce",
       "value": 9
      }
     },
     "fd8994401222486c977fd27de1efecf9": {
      "model_module": "@jupyter-widgets/base",
      "model_module_version": "2.0.0",
      "model_name": "LayoutModel",
      "state": {}
     },
     "fdde8e244775436fb3ce0f8c26e2b491": {
      "model_module": "@jupyter-widgets/controls",
      "model_module_version": "2.0.0",
      "model_name": "LinkModel",
      "state": {
       "source": [
        "IPY_MODEL_5ab9919684e348758ce1256705d4a85f",
        "value"
       ],
       "target": [
        "IPY_MODEL_7692d5b2a0e24b6f92a1dc0cd863ec0e",
        "value"
       ]
      }
     },
     "ff8504c4af754cb483bb0ea32f15aa11": {
      "model_module": "@jupyter-widgets/controls",
      "model_module_version": "2.0.0",
      "model_name": "IntSliderModel",
      "state": {
       "behavior": "drag-tap",
       "description": "Int Slider:",
       "layout": "IPY_MODEL_bd2f775369ad41e5a7462a0b9ac1a136",
       "style": "IPY_MODEL_f22b4aabd63d4b2eb41ba8785b24e9e8",
       "value": 35
      }
     }
    },
    "version_major": 2,
    "version_minor": 0
   }
  }
 },
 "nbformat": 4,
 "nbformat_minor": 2
}
