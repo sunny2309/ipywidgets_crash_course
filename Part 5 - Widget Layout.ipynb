{
 "cells": [
  {
   "cell_type": "markdown",
   "id": "07f72414",
   "metadata": {},
   "source": [
    "# ipywidgets Crash Course: Interactive UIs in Jupyter Notebooks\n",
    "\n",
    "## <span style=\"color:tomato;\">Part 5: Widget Layout</span>\n",
    "\n",
    "1. **Individual Widget Layout Setting**\n",
    "2. **HBox & VBox Layout**\n",
    "3. **Flex Box Layout**\n",
    "4. **Grid Box Layout**\n",
    "5. **Grid Spec Layout**\n",
    "6. **App Layout**\n",
    "7. **Two By Two Layout**\n",
    "\n",
    "\n",
    "### <span style=\"color:tomato;\">Installation</span>\n",
    "\n",
    "* **pip install ipywidgets**"
   ]
  },
  {
   "cell_type": "code",
   "execution_count": 1,
   "id": "c2c69de5",
   "metadata": {},
   "outputs": [
    {
     "name": "stdout",
     "output_type": "stream",
     "text": [
      "8.0.6\n"
     ]
    }
   ],
   "source": [
    "import ipywidgets as widgets\n",
    "\n",
    "print(widgets.__version__)"
   ]
  },
  {
   "cell_type": "markdown",
   "id": "f4da1a72",
   "metadata": {},
   "source": [
    "## 1. Individual Widget Layout Setting"
   ]
  },
  {
   "cell_type": "code",
   "execution_count": 2,
   "id": "06f7de51",
   "metadata": {},
   "outputs": [
    {
     "data": {
      "application/vnd.jupyter.widget-view+json": {
       "model_id": "f45d91232e4f43cf8c1d43350c6265e8",
       "version_major": 2,
       "version_minor": 0
      },
      "text/plain": [
       "Button(description='Submit', style=ButtonStyle())"
      ]
     },
     "execution_count": 2,
     "metadata": {},
     "output_type": "execute_result"
    }
   ],
   "source": [
    "widgets.Button(description=\"Submit\")"
   ]
  },
  {
   "cell_type": "code",
   "execution_count": 3,
   "id": "39da5c2e",
   "metadata": {},
   "outputs": [
    {
     "data": {
      "application/vnd.jupyter.widget-view+json": {
       "model_id": "32bd91ca628f4327b545c7f4248db21e",
       "version_major": 2,
       "version_minor": 0
      },
      "text/plain": [
       "Button(description='Submit', layout=Layout(height='100px', width='250px'), style=ButtonStyle())"
      ]
     },
     "execution_count": 3,
     "metadata": {},
     "output_type": "execute_result"
    }
   ],
   "source": [
    "widgets.Button(description=\"Submit\", layout= widgets.Layout(width=\"250px\", height=\"100px\"))"
   ]
  },
  {
   "cell_type": "code",
   "execution_count": 4,
   "id": "7a511c1a",
   "metadata": {},
   "outputs": [
    {
     "data": {
      "application/vnd.jupyter.widget-view+json": {
       "model_id": "433204cec25f487ca7fb3b75bb4530b6",
       "version_major": 2,
       "version_minor": 0
      },
      "text/plain": [
       "Button(description='Submit', layout=Layout(height='100%', width='40%'), style=ButtonStyle())"
      ]
     },
     "execution_count": 4,
     "metadata": {},
     "output_type": "execute_result"
    }
   ],
   "source": [
    "widgets.Button(description=\"Submit\", layout= widgets.Layout(width=\"40%\", height=\"100%\"))"
   ]
  },
  {
   "cell_type": "code",
   "execution_count": 5,
   "id": "6c97cbba",
   "metadata": {},
   "outputs": [
    {
     "data": {
      "application/vnd.jupyter.widget-view+json": {
       "model_id": "91672b111e6c44f5be94803dddac3d06",
       "version_major": 2,
       "version_minor": 0
      },
      "text/plain": [
       "Button(description='Submit', layout=Layout(display='flex', height='100%', width='40%'), style=ButtonStyle())"
      ]
     },
     "execution_count": 5,
     "metadata": {},
     "output_type": "execute_result"
    }
   ],
   "source": [
    "widgets.Button(description=\"Submit\", layout= widgets.Layout(width=\"40%\", height=\"100%\", display=\"flex\"))"
   ]
  },
  {
   "cell_type": "code",
   "execution_count": 6,
   "id": "a0251580",
   "metadata": {},
   "outputs": [
    {
     "data": {
      "application/vnd.jupyter.widget-view+json": {
       "model_id": "73e2612885524601be61a0b68d7ed0c3",
       "version_major": 2,
       "version_minor": 0
      },
      "text/plain": [
       "Button(description='Submit', layout=Layout(border_bottom='2px solid red', border_left='2px solid red', border_…"
      ]
     },
     "execution_count": 6,
     "metadata": {},
     "output_type": "execute_result"
    }
   ],
   "source": [
    "widgets.Button(description=\"Submit\", layout= widgets.Layout(width=\"40%\", height=\"100%\", border=\"2px solid red\"))"
   ]
  },
  {
   "cell_type": "code",
   "execution_count": 7,
   "id": "066f0a9d",
   "metadata": {},
   "outputs": [
    {
     "data": {
      "application/vnd.jupyter.widget-view+json": {
       "model_id": "f29d99162b3b4605b9f1520d68e38c94",
       "version_major": 2,
       "version_minor": 0
      },
      "text/plain": [
       "Button(description='Submit', layout=Layout(height='100%', margin='25px', padding='25px', width='40%'), style=B…"
      ]
     },
     "execution_count": 7,
     "metadata": {},
     "output_type": "execute_result"
    }
   ],
   "source": [
    "widgets.Button(description=\"Submit\", layout= widgets.Layout(width=\"40%\", height=\"100%\", \n",
    "                                                           margin=\"25px\", padding=\"25px\"))"
   ]
  },
  {
   "cell_type": "code",
   "execution_count": 8,
   "id": "bf667ad3",
   "metadata": {},
   "outputs": [
    {
     "data": {
      "application/vnd.jupyter.widget-view+json": {
       "model_id": "524e5ff82b6e42b2ae0b45dda3c56834",
       "version_major": 2,
       "version_minor": 0
      },
      "text/plain": [
       "Button(description='Submit', layout=Layout(height='100%', margin='25px 25px 25px 25px', padding='25px 20px 15p…"
      ]
     },
     "execution_count": 8,
     "metadata": {},
     "output_type": "execute_result"
    }
   ],
   "source": [
    "widgets.Button(description=\"Submit\", layout= widgets.Layout(width=\"40%\", height=\"100%\", \n",
    "                                                           margin=\"25px 25px 25px 25px\",\n",
    "                                                            padding=\"25px 20px 15px 10px\"))"
   ]
  },
  {
   "cell_type": "markdown",
   "id": "e8e2a04a",
   "metadata": {},
   "source": [
    "-------------------------------------------------\n",
    "\n",
    "### Important Layout Attributes\n",
    "\n",
    "<img src=\"layout_attr_1.png\"/>"
   ]
  },
  {
   "cell_type": "markdown",
   "id": "bb236173",
   "metadata": {},
   "source": [
    "## 2. HBox & VBox (Layout Widgets Horizontally & Vertically)"
   ]
  },
  {
   "cell_type": "code",
   "execution_count": 9,
   "id": "1887a5ea",
   "metadata": {},
   "outputs": [
    {
     "data": {
      "application/vnd.jupyter.widget-view+json": {
       "model_id": "8f45d613fa0440e4be240b80802662ed",
       "version_major": 2,
       "version_minor": 0
      },
      "text/plain": [
       "HBox(children=(Button(description='Button1', style=ButtonStyle()), Button(description='Button2', style=ButtonS…"
      ]
     },
     "execution_count": 9,
     "metadata": {},
     "output_type": "execute_result"
    }
   ],
   "source": [
    "b1 = widgets.Button(description=\"Button1\")\n",
    "b2 = widgets.Button(description=\"Button2\")\n",
    "\n",
    "widgets.HBox([b1,b2])"
   ]
  },
  {
   "cell_type": "code",
   "execution_count": 10,
   "id": "297fc93d",
   "metadata": {},
   "outputs": [
    {
     "data": {
      "application/vnd.jupyter.widget-view+json": {
       "model_id": "ae8d7f8522e64a7598ff1c93bb423de5",
       "version_major": 2,
       "version_minor": 0
      },
      "text/plain": [
       "VBox(children=(Button(description='Button1', style=ButtonStyle()), Button(description='Button2', style=ButtonS…"
      ]
     },
     "execution_count": 10,
     "metadata": {},
     "output_type": "execute_result"
    }
   ],
   "source": [
    "b1 = widgets.Button(description=\"Button1\")\n",
    "b2 = widgets.Button(description=\"Button2\")\n",
    "\n",
    "widgets.VBox([b1,b2])"
   ]
  },
  {
   "cell_type": "code",
   "execution_count": 11,
   "id": "51532409",
   "metadata": {},
   "outputs": [
    {
     "data": {
      "application/vnd.jupyter.widget-view+json": {
       "model_id": "48bc8192497b4229bbd5a11a14bb035d",
       "version_major": 2,
       "version_minor": 0
      },
      "text/plain": [
       "HBox(children=(Button(description='Button1', style=ButtonStyle()), Button(description='Button2', style=ButtonS…"
      ]
     },
     "execution_count": 11,
     "metadata": {},
     "output_type": "execute_result"
    }
   ],
   "source": [
    "b1 = widgets.Button(description=\"Button1\")\n",
    "b2 = widgets.Button(description=\"Button2\")\n",
    "\n",
    "widgets.HBox([b1,b2, widgets.VBox([b1,b2])])"
   ]
  },
  {
   "cell_type": "code",
   "execution_count": 12,
   "id": "f3a3432d",
   "metadata": {},
   "outputs": [
    {
     "data": {
      "application/vnd.jupyter.widget-view+json": {
       "model_id": "ee40fb97497248d6b48e6f806e88a9a0",
       "version_major": 2,
       "version_minor": 0
      },
      "text/plain": [
       "VBox(children=(Button(description='Button1', style=ButtonStyle()), Button(description='Button2', style=ButtonS…"
      ]
     },
     "execution_count": 12,
     "metadata": {},
     "output_type": "execute_result"
    }
   ],
   "source": [
    "b1 = widgets.Button(description=\"Button1\")\n",
    "b2 = widgets.Button(description=\"Button2\")\n",
    "\n",
    "widgets.VBox([b1,b2, widgets.HBox([b1,b2])])"
   ]
  },
  {
   "cell_type": "markdown",
   "id": "298a2746",
   "metadata": {},
   "source": [
    "## 3. Flex Box Layout (CSS Flex for Bootstrap & Other Flex Frameworks)"
   ]
  },
  {
   "cell_type": "code",
   "execution_count": 13,
   "id": "a6df42d9",
   "metadata": {},
   "outputs": [
    {
     "data": {
      "application/vnd.jupyter.widget-view+json": {
       "model_id": "8e49763c2dc04dedaa7b4648dbd2234b",
       "version_major": 2,
       "version_minor": 0
      },
      "text/plain": [
       "Box(children=(Button(description='Button1', style=ButtonStyle()), Button(description='Button2', style=ButtonSt…"
      ]
     },
     "execution_count": 13,
     "metadata": {},
     "output_type": "execute_result"
    }
   ],
   "source": [
    "b1 = widgets.Button(description=\"Button1\")\n",
    "b2 = widgets.Button(description=\"Button2\")\n",
    "b3 = widgets.Button(description=\"Button3\")\n",
    "b4 = widgets.Button(description=\"Button4\")\n",
    "\n",
    "widgets.Box([b1,b2,b3,b4])"
   ]
  },
  {
   "cell_type": "code",
   "execution_count": 14,
   "id": "6b35e1af",
   "metadata": {},
   "outputs": [
    {
     "data": {
      "application/vnd.jupyter.widget-view+json": {
       "model_id": "9753cadac78d40f79bb452ee2403ff97",
       "version_major": 2,
       "version_minor": 0
      },
      "text/plain": [
       "Box(children=(Button(description='Button1', style=ButtonStyle()), Button(description='Button2', style=ButtonSt…"
      ]
     },
     "execution_count": 14,
     "metadata": {},
     "output_type": "execute_result"
    }
   ],
   "source": [
    "widgets.Box([b1,b2,b3,b4], layout=widgets.Layout(flex_flow=\"column\"))"
   ]
  },
  {
   "cell_type": "code",
   "execution_count": 15,
   "id": "97421f05",
   "metadata": {},
   "outputs": [
    {
     "data": {
      "application/vnd.jupyter.widget-view+json": {
       "model_id": "6a207ef5b0154060961831ae3873691d",
       "version_major": 2,
       "version_minor": 0
      },
      "text/plain": [
       "Box(children=(Button(description='Button1', layout=Layout(width='100px'), style=ButtonStyle()), Button(descrip…"
      ]
     },
     "execution_count": 15,
     "metadata": {},
     "output_type": "execute_result"
    }
   ],
   "source": [
    "b1 = widgets.Button(description=\"Button1\", layout=widgets.Layout(width=\"100px\"))\n",
    "b2 = widgets.Button(description=\"Button2\", layout=widgets.Layout(width=\"150px\"))\n",
    "b3 = widgets.Button(description=\"Button3\", layout=widgets.Layout(width=\"80px\"))\n",
    "\n",
    "widgets.Box([b1,b2,b3,], layout=widgets.Layout(justify_content=\"center\"))"
   ]
  },
  {
   "cell_type": "code",
   "execution_count": 16,
   "id": "e14ddb71",
   "metadata": {},
   "outputs": [
    {
     "data": {
      "application/vnd.jupyter.widget-view+json": {
       "model_id": "20442272d16a4057b472a9339b1ab639",
       "version_major": 2,
       "version_minor": 0
      },
      "text/plain": [
       "Box(children=(Button(description='Button1', layout=Layout(width='100px'), style=ButtonStyle()), Button(descrip…"
      ]
     },
     "execution_count": 16,
     "metadata": {},
     "output_type": "execute_result"
    }
   ],
   "source": [
    "widgets.Box([b1,b2,b3,], layout=widgets.Layout(justify_content=\"flex-end\"))"
   ]
  },
  {
   "cell_type": "code",
   "execution_count": 17,
   "id": "e2561acc",
   "metadata": {},
   "outputs": [
    {
     "data": {
      "application/vnd.jupyter.widget-view+json": {
       "model_id": "0720e8fff0b646cab5e1b745673aab5e",
       "version_major": 2,
       "version_minor": 0
      },
      "text/plain": [
       "Box(children=(Button(description='Button1', layout=Layout(width='100px'), style=ButtonStyle()), Button(descrip…"
      ]
     },
     "execution_count": 17,
     "metadata": {},
     "output_type": "execute_result"
    }
   ],
   "source": [
    "widgets.Box([b1,b2,b3,], layout=widgets.Layout(height=\"200px\", display=\"flex\", \n",
    "                                               justify_content=\"center\", align_items=\"center\",                                               \n",
    "                                              ))"
   ]
  },
  {
   "cell_type": "markdown",
   "id": "f400ece1",
   "metadata": {},
   "source": [
    "<img src=\"layout_attr_2.png\"/>"
   ]
  },
  {
   "cell_type": "markdown",
   "id": "b5cf0f8d",
   "metadata": {},
   "source": [
    "## 4. Grid Box Layout"
   ]
  },
  {
   "cell_type": "code",
   "execution_count": 18,
   "id": "17cd7da6",
   "metadata": {},
   "outputs": [
    {
     "data": {
      "application/vnd.jupyter.widget-view+json": {
       "model_id": "a48e263e587741d9af035e61b1c663da",
       "version_major": 2,
       "version_minor": 0
      },
      "text/plain": [
       "GridBox(children=(Button(description='B-1', layout=Layout(height='auto', width='auto'), style=ButtonStyle()), …"
      ]
     },
     "execution_count": 18,
     "metadata": {},
     "output_type": "execute_result"
    }
   ],
   "source": [
    "btn_layout = widgets.Layout(width=\"auto\", height=\"auto\")\n",
    "\n",
    "buttons = [widgets.Button(description=\"B-{}\".format(i), layout=btn_layout) for i in range(1,16)]\n",
    "\n",
    "widgets.GridBox(buttons, layout = widgets.Layout(grid_template_columns=\"150px 200px 250px 300px\",\n",
    "                                                 grid_template_rows=\"100px 120px auto 80px\",\n",
    "                                                 grid_gap=\"8px 2px\"\n",
    "                                                ))"
   ]
  },
  {
   "cell_type": "code",
   "execution_count": 19,
   "id": "a506ed1b",
   "metadata": {},
   "outputs": [
    {
     "data": {
      "application/vnd.jupyter.widget-view+json": {
       "model_id": "eef3b0d747fa4f8db88e9bfdf27a9bb5",
       "version_major": 2,
       "version_minor": 0
      },
      "text/plain": [
       "GridBox(children=(Button(description='B-1', layout=Layout(height='auto', width='auto'), style=ButtonStyle()), …"
      ]
     },
     "execution_count": 19,
     "metadata": {},
     "output_type": "execute_result"
    }
   ],
   "source": [
    "btn_layout = widgets.Layout(width=\"auto\", height=\"auto\")\n",
    "\n",
    "buttons = [widgets.Button(description=\"B-{}\".format(i), layout=btn_layout) for i in range(1,16)]\n",
    "\n",
    "widgets.GridBox(buttons, layout = widgets.Layout(\n",
    "                                                 width=\"75%\",\n",
    "                                                 grid_template_columns=\"10% 15% 20% 30%\",\n",
    "                                                 grid_template_rows=\"100px 120px auto 80px\",\n",
    "                                                 grid_gap=\"8px 2px\"\n",
    "                                                ))"
   ]
  },
  {
   "cell_type": "markdown",
   "id": "38fd0c09",
   "metadata": {},
   "source": [
    "### Important Layout Parameters for Grid Layout\n",
    "\n",
    "<img src=\"layout_attr_3.png\"/>"
   ]
  },
  {
   "cell_type": "markdown",
   "id": "89d5522b",
   "metadata": {},
   "source": [
    "## 5. Grid Spec Layout"
   ]
  },
  {
   "cell_type": "code",
   "execution_count": 20,
   "id": "6874d823",
   "metadata": {},
   "outputs": [
    {
     "data": {
      "application/vnd.jupyter.widget-view+json": {
       "model_id": "a5663fccc7084099ace3ab813de99f4c",
       "version_major": 2,
       "version_minor": 0
      },
      "text/plain": [
       "GridspecLayout(children=(Button(description='Button (0, 0)', layout=Layout(grid_area='widget001'), style=Butto…"
      ]
     },
     "execution_count": 20,
     "metadata": {},
     "output_type": "execute_result"
    }
   ],
   "source": [
    "grid = widgets.GridspecLayout(n_rows=3, n_columns=2)\n",
    "\n",
    "for i in range(3):\n",
    "    for j in range(2):\n",
    "        grid[i, j] = widgets.Button(description=\"Button (%d, %d)\"%(i,j))\n",
    "        \n",
    "grid"
   ]
  },
  {
   "cell_type": "code",
   "execution_count": 21,
   "id": "1832e253",
   "metadata": {},
   "outputs": [
    {
     "data": {
      "application/vnd.jupyter.widget-view+json": {
       "model_id": "e5a01a9c6a0b45719e1b3906999e651e",
       "version_major": 2,
       "version_minor": 0
      },
      "text/plain": [
       "GridspecLayout(children=(Button(description='Button (0, 0)', layout=Layout(grid_area='widget001'), style=Butto…"
      ]
     },
     "execution_count": 21,
     "metadata": {},
     "output_type": "execute_result"
    }
   ],
   "source": [
    "grid = widgets.GridspecLayout(n_rows=3, n_columns=3, width=\"50%\", grid_gap=\"10px 5px\")\n",
    "\n",
    "for i in range(3):\n",
    "    for j in range(3):\n",
    "        grid[i, j] = widgets.Button(description=\"Button (%d, %d)\"%(i,j))\n",
    "        \n",
    "grid"
   ]
  },
  {
   "cell_type": "code",
   "execution_count": 22,
   "id": "b1714a19",
   "metadata": {},
   "outputs": [
    {
     "data": {
      "application/vnd.jupyter.widget-view+json": {
       "model_id": "2bf4e342e4f74c02b14ef06ece341e3f",
       "version_major": 2,
       "version_minor": 0
      },
      "text/plain": [
       "GridspecLayout(children=(Button(description='Top', layout=Layout(grid_area='widget001', width='auto'), style=B…"
      ]
     },
     "execution_count": 22,
     "metadata": {},
     "output_type": "execute_result"
    }
   ],
   "source": [
    "grid = widgets.GridspecLayout(n_rows=4, n_columns=4, grid_gap=\"2px\")\n",
    "\n",
    "grid[0,:] = widgets.Button(description=\"Top\", layout=widgets.Layout(width=\"auto\"))\n",
    "\n",
    "grid[1:, 0] = widgets.Button(description=\"Left\", layout=widgets.Layout(width=\"auto\", height=\"auto\"))\n",
    "\n",
    "grid[1:3, 1] = widgets.Button(description=\"Center-1\", layout=widgets.Layout(width=\"auto\", height=\"auto\"))\n",
    "grid[1:3, 2] = widgets.Button(description=\"Center-2\", layout=widgets.Layout(width=\"auto\", height=\"auto\"))\n",
    "\n",
    "grid[1:3, -1] = widgets.Button(description=\"Right\", layout=widgets.Layout(width=\"auto\", height=\"auto\"))\n",
    "\n",
    "grid[3, 1:] = widgets.Button(description=\"Bottom\", layout=widgets.Layout(width=\"auto\", height=\"auto\"))\n",
    "\n",
    "grid"
   ]
  },
  {
   "cell_type": "markdown",
   "id": "b0471719",
   "metadata": {},
   "source": [
    "## 6. App Layout"
   ]
  },
  {
   "cell_type": "code",
   "execution_count": 23,
   "id": "c480fd64",
   "metadata": {},
   "outputs": [
    {
     "data": {
      "application/vnd.jupyter.widget-view+json": {
       "model_id": "8da1ca5d708b4e499ff3e38826c4045f",
       "version_major": 2,
       "version_minor": 0
      },
      "text/plain": [
       "AppLayout(children=(Button(description='Header', layout=Layout(grid_area='header', height='auto', width='auto'…"
      ]
     },
     "execution_count": 23,
     "metadata": {},
     "output_type": "execute_result"
    }
   ],
   "source": [
    "header = widgets.Button(description=\"Header\", layout=widgets.Layout(width=\"auto\", height=\"auto\"))\n",
    "left = widgets.Button(description=\"Left\", layout=widgets.Layout(width=\"auto\", height=\"auto\"))\n",
    "right = widgets.Button(description=\"Right\", layout=widgets.Layout(width=\"auto\", height=\"auto\"))\n",
    "center = widgets.Button(description=\"Center\", layout=widgets.Layout(width=\"auto\", height=\"auto\"))\n",
    "footer = widgets.Button(description=\"Footer\", layout=widgets.Layout(width=\"auto\", height=\"auto\"))\n",
    "\n",
    "widgets.AppLayout(header=header, left_sidebar=left, center=center, right_sidebar=right, footer=footer)"
   ]
  },
  {
   "cell_type": "code",
   "execution_count": 24,
   "id": "6c8ed1e4",
   "metadata": {},
   "outputs": [
    {
     "data": {
      "application/vnd.jupyter.widget-view+json": {
       "model_id": "2264eae440cf4d78a68c809ac911995c",
       "version_major": 2,
       "version_minor": 0
      },
      "text/plain": [
       "AppLayout(children=(Button(description='Header', layout=Layout(grid_area='header', height='auto', width='auto'…"
      ]
     },
     "execution_count": 24,
     "metadata": {},
     "output_type": "execute_result"
    }
   ],
   "source": [
    "widgets.AppLayout(header=header, left_sidebar=left, center=center, right_sidebar=right, footer=footer,\n",
    "                  width=\"75%\"\n",
    "                 )"
   ]
  },
  {
   "cell_type": "code",
   "execution_count": 25,
   "id": "bc445315",
   "metadata": {},
   "outputs": [
    {
     "data": {
      "application/vnd.jupyter.widget-view+json": {
       "model_id": "5a98bbba580c4f49ac296b14b6394d88",
       "version_major": 2,
       "version_minor": 0
      },
      "text/plain": [
       "AppLayout(children=(Button(description='Header', layout=Layout(grid_area='header', height='auto', width='auto'…"
      ]
     },
     "execution_count": 25,
     "metadata": {},
     "output_type": "execute_result"
    }
   ],
   "source": [
    "widgets.AppLayout(header=header, left_sidebar=left, right_sidebar=right, footer=footer,\n",
    "                  width=\"75%\"\n",
    "                 )"
   ]
  },
  {
   "cell_type": "code",
   "execution_count": 26,
   "id": "c665c89b",
   "metadata": {},
   "outputs": [
    {
     "data": {
      "application/vnd.jupyter.widget-view+json": {
       "model_id": "be3f70f3aa0b476aae8f38152fe1e9f2",
       "version_major": 2,
       "version_minor": 0
      },
      "text/plain": [
       "AppLayout(children=(Button(description='Header', layout=Layout(grid_area='header', height='auto', width='auto'…"
      ]
     },
     "execution_count": 26,
     "metadata": {},
     "output_type": "execute_result"
    }
   ],
   "source": [
    "widgets.AppLayout(header=header, left_sidebar=left, right_sidebar=right, footer=footer, merge=False,\n",
    "                  width=\"75%\"\n",
    "                 )"
   ]
  },
  {
   "cell_type": "markdown",
   "id": "12fb40f1",
   "metadata": {},
   "source": [
    "## 7. Two By Two Layout"
   ]
  },
  {
   "cell_type": "code",
   "execution_count": 27,
   "id": "f228f8f3",
   "metadata": {},
   "outputs": [
    {
     "data": {
      "application/vnd.jupyter.widget-view+json": {
       "model_id": "edba0c7d974c4876812e27429582791c",
       "version_major": 2,
       "version_minor": 0
      },
      "text/plain": [
       "TwoByTwoLayout(children=(Button(description='Top Left', layout=Layout(grid_area='top-left', height='auto', wid…"
      ]
     },
     "execution_count": 27,
     "metadata": {},
     "output_type": "execute_result"
    }
   ],
   "source": [
    "b1 = widgets.Button(description=\"Top Left\", layout=widgets.Layout(width=\"auto\", height=\"auto\"))\n",
    "b2 = widgets.Button(description=\"Top Right\", layout=widgets.Layout(width=\"auto\", height=\"auto\"))\n",
    "b3 = widgets.Button(description=\"Bottom Left\", layout=widgets.Layout(width=\"auto\", height=\"auto\"))\n",
    "b4 = widgets.Button(description=\"Bottom Right\", layout=widgets.Layout(width=\"auto\", height=\"auto\"))\n",
    "\n",
    "widgets.TwoByTwoLayout(top_left=b1, top_right=b2, bottom_left=b3, bottom_right=b4)"
   ]
  },
  {
   "cell_type": "code",
   "execution_count": 28,
   "id": "be4586d2",
   "metadata": {},
   "outputs": [
    {
     "data": {
      "application/vnd.jupyter.widget-view+json": {
       "model_id": "fe0e760e556b45e5980ade8c82dbd435",
       "version_major": 2,
       "version_minor": 0
      },
      "text/plain": [
       "TwoByTwoLayout(children=(Button(description='Top Left', layout=Layout(grid_area='top-left', height='auto', wid…"
      ]
     },
     "execution_count": 28,
     "metadata": {},
     "output_type": "execute_result"
    }
   ],
   "source": [
    "widgets.TwoByTwoLayout(top_left=b1, top_right=b2, bottom_right=b4)"
   ]
  },
  {
   "cell_type": "code",
   "execution_count": 29,
   "id": "65056b4d",
   "metadata": {},
   "outputs": [
    {
     "data": {
      "application/vnd.jupyter.widget-view+json": {
       "model_id": "ca5da66212ac4e3987d2c5e14547c0e3",
       "version_major": 2,
       "version_minor": 0
      },
      "text/plain": [
       "TwoByTwoLayout(children=(Button(description='Top Left', layout=Layout(grid_area='top-left', height='auto', wid…"
      ]
     },
     "execution_count": 29,
     "metadata": {},
     "output_type": "execute_result"
    }
   ],
   "source": [
    "widgets.TwoByTwoLayout(top_left=b1, top_right=b2, bottom_right=b4, merge=False)"
   ]
  },
  {
   "cell_type": "markdown",
   "id": "b6f57aeb",
   "metadata": {},
   "source": [
    "## Summary\n",
    "\n",
    "In this video tutorial, we explained different ways to layout widgets in ipywidgets to create interesting layout. Please feel free to let us know in the comments if you have any doubt.\n",
    "\n",
    "Visit **[CoderzColumn.com](https://coderzcolumn.com/tutorials/python/interactive-widgets-in-jupyter-notebook-using-ipywidgets)** for detailed tutorial on **ipywidgets**."
   ]
  }
 ],
 "metadata": {
  "kernelspec": {
   "display_name": "Python 3 (ipykernel)",
   "language": "python",
   "name": "python3"
  },
  "language_info": {
   "codemirror_mode": {
    "name": "ipython",
    "version": 3
   },
   "file_extension": ".py",
   "mimetype": "text/x-python",
   "name": "python",
   "nbconvert_exporter": "python",
   "pygments_lexer": "ipython3",
   "version": "3.11.3"
  }
 },
 "nbformat": 4,
 "nbformat_minor": 5
}
