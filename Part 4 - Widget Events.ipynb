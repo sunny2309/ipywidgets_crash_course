{
 "cells": [
  {
   "cell_type": "markdown",
   "metadata": {},
   "source": [
    "# ipywidgets Crash Course: Interactive UIs in Jupyter Notebooks\n",
    "\n",
    "## <span style=\"color:tomato;\">Part 4: Widget Events</span>\n",
    "\n",
    "1. **[Simple Examples]()**\n",
    "2. **[Multiple Callbacks of Single Widget]()**\n",
    "3. **[Button Event]()**\n",
    "4. **[Few Examples]()**\n",
    "\n",
    "### <span style=\"color:tomato;\">Installation</span>\n",
    "\n",
    "* **pip install ipywidgets**"
   ]
  },
  {
   "cell_type": "code",
   "execution_count": 1,
   "metadata": {},
   "outputs": [
    {
     "name": "stdout",
     "output_type": "stream",
     "text": [
      "8.0.6\n"
     ]
    }
   ],
   "source": [
    "import ipywidgets as widgets\n",
    "\n",
    "print(widgets.__version__)"
   ]
  },
  {
   "cell_type": "markdown",
   "metadata": {},
   "source": [
    "## 1. Simple Examples"
   ]
  },
  {
   "cell_type": "code",
   "execution_count": 2,
   "metadata": {},
   "outputs": [
    {
     "data": {
      "application/vnd.jupyter.widget-view+json": {
       "model_id": "96e7caf2921c418091bc0b021bfb4615",
       "version_major": 2,
       "version_minor": 0
      },
      "text/plain": [
       "IntSlider(value=5, description='Param1', max=10)"
      ]
     },
     "execution_count": 2,
     "metadata": {},
     "output_type": "execute_result"
    },
    {
     "name": "stdout",
     "output_type": "stream",
     "text": [
      "{'name': 'value', 'old': 5, 'new': 6, 'owner': IntSlider(value=6, description='Param1', max=10), 'type': 'change'}\n",
      "{'name': 'value', 'old': 6, 'new': 7, 'owner': IntSlider(value=7, description='Param1', max=10), 'type': 'change'}\n",
      "{'name': 'value', 'old': 6, 'new': 7, 'owner': IntSlider(value=7, description='Param1', max=10), 'type': 'change'}\n"
     ]
    }
   ],
   "source": [
    "w1 = widgets.IntSlider(description=\"Param1\", value=5, min=0, max=10)\n",
    "\n",
    "w1"
   ]
  },
  {
   "cell_type": "code",
   "execution_count": 3,
   "metadata": {},
   "outputs": [],
   "source": [
    "def callback(change):\n",
    "    print(change)\n",
    "    \n",
    "w1.observe(callback, names=\"value\")"
   ]
  },
  {
   "cell_type": "code",
   "execution_count": 4,
   "metadata": {},
   "outputs": [],
   "source": [
    "def callback(change):\n",
    "    print(change)\n",
    "    \n",
    "w1.observe(callback, names=[\"value\", \"min\"])"
   ]
  },
  {
   "cell_type": "code",
   "execution_count": 5,
   "metadata": {},
   "outputs": [
    {
     "name": "stdout",
     "output_type": "stream",
     "text": [
      "{'name': 'min', 'old': 0, 'new': -5, 'owner': IntSlider(value=7, description='Param1', max=10, min=-5), 'type': 'change'}\n"
     ]
    }
   ],
   "source": [
    "w1.min = -5"
   ]
  },
  {
   "cell_type": "code",
   "execution_count": 6,
   "metadata": {},
   "outputs": [
    {
     "data": {
      "application/vnd.jupyter.widget-view+json": {
       "model_id": "4dd684a870f04713829550c3048d6537",
       "version_major": 2,
       "version_minor": 0
      },
      "text/plain": [
       "IntSlider(value=5, description='Param1', max=10)"
      ]
     },
     "metadata": {},
     "output_type": "display_data"
    },
    {
     "data": {
      "application/vnd.jupyter.widget-view+json": {
       "model_id": "b7ee031b026e4d0a98d8a9f86fc4c00c",
       "version_major": 2,
       "version_minor": 0
      },
      "text/plain": [
       "Label(value='The Value of Slider is : ')"
      ]
     },
     "metadata": {},
     "output_type": "display_data"
    }
   ],
   "source": [
    "w1 = widgets.IntSlider(description=\"Param1\", value=5, min=0, max=10)\n",
    "w2 = widgets.Label(value=\"The Value of Slider is : \")\n",
    "\n",
    "def w1_callback(change):\n",
    "    w2.value = \"The Value of Slider is : {}\".format(change[\"new\"])\n",
    "\n",
    "w1.observe(w1_callback, names=\"value\")\n",
    "\n",
    "display(w1, w2)"
   ]
  },
  {
   "cell_type": "code",
   "execution_count": 7,
   "metadata": {},
   "outputs": [
    {
     "data": {
      "application/vnd.jupyter.widget-view+json": {
       "model_id": "7eb6a93747584e3cb775184a82c727b0",
       "version_major": 2,
       "version_minor": 0
      },
      "text/plain": [
       "IntSlider(value=5, description='Param1', max=10)"
      ]
     },
     "metadata": {},
     "output_type": "display_data"
    },
    {
     "data": {
      "application/vnd.jupyter.widget-view+json": {
       "model_id": "4b2c2c96fb01432eadaeb00aca22e7b8",
       "version_major": 2,
       "version_minor": 0
      },
      "text/plain": [
       "IntText(value=2, description='Param2')"
      ]
     },
     "metadata": {},
     "output_type": "display_data"
    }
   ],
   "source": [
    "w1 = widgets.IntSlider(description=\"Param1\", value=5, min=0, max=10)\n",
    "w2 = widgets.IntText(description=\"Param2\", value=2)\n",
    "\n",
    "def w1_callback(change):\n",
    "    w2.value = change[\"new\"]\n",
    "    \n",
    "w1.observe(w1_callback, names=\"value\")\n",
    "\n",
    "display(w1, w2)"
   ]
  },
  {
   "cell_type": "code",
   "execution_count": 8,
   "metadata": {},
   "outputs": [
    {
     "data": {
      "application/vnd.jupyter.widget-view+json": {
       "model_id": "996bac1888bb45c3a33adf8c955b8886",
       "version_major": 2,
       "version_minor": 0
      },
      "text/plain": [
       "IntSlider(value=5, description='Param1', max=10)"
      ]
     },
     "metadata": {},
     "output_type": "display_data"
    },
    {
     "data": {
      "application/vnd.jupyter.widget-view+json": {
       "model_id": "d95c732b639f4f03bc3f6e6e6c2c3899",
       "version_major": 2,
       "version_minor": 0
      },
      "text/plain": [
       "IntText(value=2, description='Param2')"
      ]
     },
     "metadata": {},
     "output_type": "display_data"
    }
   ],
   "source": [
    "w1 = widgets.IntSlider(description=\"Param1\", value=5, min=0, max=10)\n",
    "w2 = widgets.IntText(description=\"Param2\", value=2)\n",
    "\n",
    "def w1_callback(change):\n",
    "    w2.value = change[\"new\"]\n",
    "    \n",
    "w1.observe(w1_callback, names=\"value\")\n",
    "\n",
    "def w2_callback(change):\n",
    "    w1.value = change[\"new\"]\n",
    "    \n",
    "w2.observe(w2_callback, names=\"value\")\n",
    "\n",
    "display(w1, w2)"
   ]
  },
  {
   "cell_type": "code",
   "execution_count": 9,
   "metadata": {
    "scrolled": false
   },
   "outputs": [
    {
     "data": {
      "application/vnd.jupyter.widget-view+json": {
       "model_id": "38cc81abaac44660953f7e165575f7c1",
       "version_major": 2,
       "version_minor": 0
      },
      "text/plain": [
       "FloatSlider(value=2.5, continuous_update=False, description='m', max=5.0, min=-5.0, step=0.5)"
      ]
     },
     "metadata": {},
     "output_type": "display_data"
    },
    {
     "data": {
      "application/vnd.jupyter.widget-view+json": {
       "model_id": "dd5cc8c6a9b94d3ba4977ddc8a32c1c4",
       "version_major": 2,
       "version_minor": 0
      },
      "text/plain": [
       "FloatSlider(value=8.5, continuous_update=False, description='c', max=10.0, min=-5.0, step=0.5)"
      ]
     },
     "metadata": {},
     "output_type": "display_data"
    },
    {
     "data": {
      "application/vnd.jupyter.widget-view+json": {
       "model_id": "0d14bac53e7b4e0c817374c002b01701",
       "version_major": 2,
       "version_minor": 0
      },
      "text/plain": [
       "Output()"
      ]
     },
     "metadata": {},
     "output_type": "display_data"
    }
   ],
   "source": [
    "import numpy as np\n",
    "import matplotlib.pyplot as plt\n",
    "\n",
    "m = widgets.FloatSlider(value=2.5, min=-5, max=5, step=0.5, description=\"m\", continuous_update=False)\n",
    "c = widgets.FloatSlider(value=8.5, min=-5, max=10, step=0.5, description=\"c\", continuous_update=False)\n",
    "\n",
    "out = widgets.Output()\n",
    "\n",
    "@out.capture(clear_output=True)\n",
    "def create_line(change):\n",
    "    x = np.arange(100)\n",
    "    y = m.value * x + c.value\n",
    "\n",
    "    fig = plt.figure(figsize=(8,5))\n",
    "    plt.plot(x, y)\n",
    "    plt.show()\n",
    "        \n",
    "    \n",
    "m.observe(create_line, names=\"value\")\n",
    "c.observe(create_line, names=\"value\")\n",
    "\n",
    "display(m,c,out)"
   ]
  },
  {
   "cell_type": "markdown",
   "metadata": {},
   "source": [
    "## 2. Multiple Callbacks of Single Widget"
   ]
  },
  {
   "cell_type": "code",
   "execution_count": 10,
   "metadata": {},
   "outputs": [
    {
     "data": {
      "application/vnd.jupyter.widget-view+json": {
       "model_id": "aa4aa8e16ea84dc9b89c54c1ee2c74ee",
       "version_major": 2,
       "version_minor": 0
      },
      "text/plain": [
       "IntSlider(value=5, description='Param1', max=10)"
      ]
     },
     "metadata": {},
     "output_type": "display_data"
    },
    {
     "data": {
      "application/vnd.jupyter.widget-view+json": {
       "model_id": "ba869b6d7f2a4c22a91caaef2ea0cdb0",
       "version_major": 2,
       "version_minor": 0
      },
      "text/plain": [
       "IntText(value=2, description='Param2')"
      ]
     },
     "metadata": {},
     "output_type": "display_data"
    },
    {
     "data": {
      "application/vnd.jupyter.widget-view+json": {
       "model_id": "c2a21f8d5fc24178955ac8faa0762f07",
       "version_major": 2,
       "version_minor": 0
      },
      "text/plain": [
       "Label(value='')"
      ]
     },
     "metadata": {},
     "output_type": "display_data"
    }
   ],
   "source": [
    "w1 = widgets.IntSlider(description=\"Param1\", value=5, min=0, max=10)\n",
    "w2 = widgets.IntText(description=\"Param2\", value=2)\n",
    "w3 = widgets.Label(value=\"\")\n",
    "\n",
    "def callback1(change):\n",
    "    w2.value = w1.value\n",
    "    \n",
    "def callback2(change):\n",
    "    w3.value = \"The Value of {} is : {}\".format(change[\"owner\"].__class__.__name__, change[\"new\"])\n",
    "    \n",
    "\n",
    "w1.observe(callback1, \"value\")\n",
    "w1.observe(callback2, \"value\")\n",
    "    \n",
    "display(w1,w2,w3)"
   ]
  },
  {
   "cell_type": "markdown",
   "metadata": {},
   "source": [
    "## 3. Button Event"
   ]
  },
  {
   "cell_type": "code",
   "execution_count": 11,
   "metadata": {},
   "outputs": [
    {
     "data": {
      "application/vnd.jupyter.widget-view+json": {
       "model_id": "ee90376206454d388dd84f6c8f2ffcc5",
       "version_major": 2,
       "version_minor": 0
      },
      "text/plain": [
       "Button(description='Click Me', style=ButtonStyle())"
      ]
     },
     "execution_count": 11,
     "metadata": {},
     "output_type": "execute_result"
    }
   ],
   "source": [
    "button = widgets.Button(description=\"Click Me\")\n",
    "\n",
    "\n",
    "def button_clicked(b):\n",
    "    button.description = \"Clicked\" if button.description == \"Click Me\" else \"Click Me\"\n",
    "    button.button_style = \"success\" if button.description == \"Click Me\" else \"danger\"\n",
    "\n",
    "button.on_click(button_clicked)\n",
    "\n",
    "button"
   ]
  },
  {
   "cell_type": "markdown",
   "metadata": {},
   "source": [
    "## 4. Few Examples"
   ]
  },
  {
   "cell_type": "markdown",
   "metadata": {},
   "source": [
    "### 4.1 Check Box"
   ]
  },
  {
   "cell_type": "code",
   "execution_count": 12,
   "metadata": {},
   "outputs": [
    {
     "data": {
      "application/vnd.jupyter.widget-view+json": {
       "model_id": "be3c4959f5e344ce8ba9d9d8ea10babf",
       "version_major": 2,
       "version_minor": 0
      },
      "text/plain": [
       "Checkbox(value=False, description='Save Model?')"
      ]
     },
     "metadata": {},
     "output_type": "display_data"
    },
    {
     "data": {
      "application/vnd.jupyter.widget-view+json": {
       "model_id": "089b8e604416432d92b56640c4b0bc2d",
       "version_major": 2,
       "version_minor": 0
      },
      "text/plain": [
       "Label(value='')"
      ]
     },
     "metadata": {},
     "output_type": "display_data"
    }
   ],
   "source": [
    "w1 = widgets.Checkbox(description=\"Save Model?\")\n",
    "w2 = widgets.Label(value=\"\")\n",
    "\n",
    "def w1_callback(change):\n",
    "    w2.value = \"The Value of {} is : {}\".format(change[\"owner\"].__class__.__name__, change[\"new\"])\n",
    "\n",
    "w1.observe(w1_callback, names=\"value\")\n",
    "\n",
    "display(w1, w2)"
   ]
  },
  {
   "cell_type": "markdown",
   "metadata": {},
   "source": [
    "### 4.2 Toggle Button"
   ]
  },
  {
   "cell_type": "code",
   "execution_count": 13,
   "metadata": {},
   "outputs": [
    {
     "data": {
      "application/vnd.jupyter.widget-view+json": {
       "model_id": "c8e3a125de3947ad835ca14538eb5290",
       "version_major": 2,
       "version_minor": 0
      },
      "text/plain": [
       "ToggleButton(value=False, description='Save Model?')"
      ]
     },
     "metadata": {},
     "output_type": "display_data"
    },
    {
     "data": {
      "application/vnd.jupyter.widget-view+json": {
       "model_id": "2a90c6c5f39a4264b8353514c73f58f4",
       "version_major": 2,
       "version_minor": 0
      },
      "text/plain": [
       "Label(value='')"
      ]
     },
     "metadata": {},
     "output_type": "display_data"
    }
   ],
   "source": [
    "w1 = widgets.ToggleButton(description=\"Save Model?\")\n",
    "w2 = widgets.Label(value=\"\")\n",
    "\n",
    "def w1_callback(change):\n",
    "    w2.value = \"The Value of {} is : {}\".format(change[\"owner\"].__class__.__name__, change[\"new\"])\n",
    "\n",
    "w1.observe(w1_callback, names=\"value\")\n",
    "\n",
    "display(w1, w2)"
   ]
  },
  {
   "cell_type": "markdown",
   "metadata": {},
   "source": [
    "### 4.3 Toggle Buttons"
   ]
  },
  {
   "cell_type": "code",
   "execution_count": 14,
   "metadata": {},
   "outputs": [
    {
     "data": {
      "application/vnd.jupyter.widget-view+json": {
       "model_id": "b92d247edacf48ac82c0824cd2082c8d",
       "version_major": 2,
       "version_minor": 0
      },
      "text/plain": [
       "ToggleButtons(description='Color:', options=('Red', 'Green', 'Blue', 'Yellow'), value='Red')"
      ]
     },
     "metadata": {},
     "output_type": "display_data"
    },
    {
     "data": {
      "application/vnd.jupyter.widget-view+json": {
       "model_id": "46f4492fd04d43cd9f8a5a71ceac2df4",
       "version_major": 2,
       "version_minor": 0
      },
      "text/plain": [
       "Label(value='')"
      ]
     },
     "metadata": {},
     "output_type": "display_data"
    }
   ],
   "source": [
    "w1 = widgets.ToggleButtons(description=\"Color:\", options=[\"Red\", \"Green\", \"Blue\", \"Yellow\"])\n",
    "w2 = widgets.Label(value=\"\")\n",
    "\n",
    "def w1_callback(change):\n",
    "    w2.value = \"The Value of {} is : {}\".format(change[\"owner\"].__class__.__name__, change[\"new\"])\n",
    "\n",
    "w1.observe(w1_callback, names=\"value\")\n",
    "\n",
    "display(w1, w2)"
   ]
  },
  {
   "cell_type": "markdown",
   "metadata": {},
   "source": [
    "### 4.4 Color Picker"
   ]
  },
  {
   "cell_type": "code",
   "execution_count": 15,
   "metadata": {},
   "outputs": [
    {
     "data": {
      "application/vnd.jupyter.widget-view+json": {
       "model_id": "133784396e5749ffa720c1fe2633404b",
       "version_major": 2,
       "version_minor": 0
      },
      "text/plain": [
       "ColorPicker(value='black')"
      ]
     },
     "metadata": {},
     "output_type": "display_data"
    },
    {
     "data": {
      "application/vnd.jupyter.widget-view+json": {
       "model_id": "fff7e780ae7243bf840d97588ee0e29c",
       "version_major": 2,
       "version_minor": 0
      },
      "text/plain": [
       "Label(value='')"
      ]
     },
     "metadata": {},
     "output_type": "display_data"
    }
   ],
   "source": [
    "w1 = widgets.ColorPicker()\n",
    "w2 = widgets.Label(value=\"\")\n",
    "\n",
    "def w1_callback(change):\n",
    "    w2.value = \"The Value of {} is : {}\".format(change[\"owner\"].__class__.__name__, change[\"new\"])\n",
    "\n",
    "w1.observe(w1_callback, names=\"value\")\n",
    "\n",
    "display(w1, w2)"
   ]
  },
  {
   "cell_type": "markdown",
   "metadata": {},
   "source": [
    "### 4.5 Date Picker"
   ]
  },
  {
   "cell_type": "code",
   "execution_count": 16,
   "metadata": {},
   "outputs": [
    {
     "data": {
      "application/vnd.jupyter.widget-view+json": {
       "model_id": "188204cc90164a23ae8aba1ac1594ada",
       "version_major": 2,
       "version_minor": 0
      },
      "text/plain": [
       "DatePicker(value=None, step=1)"
      ]
     },
     "metadata": {},
     "output_type": "display_data"
    },
    {
     "data": {
      "application/vnd.jupyter.widget-view+json": {
       "model_id": "dd47baa14120444fb57a2e2510814c31",
       "version_major": 2,
       "version_minor": 0
      },
      "text/plain": [
       "Label(value='')"
      ]
     },
     "metadata": {},
     "output_type": "display_data"
    },
    {
     "name": "stdout",
     "output_type": "stream",
     "text": [
      "<class 'datetime.date'>\n"
     ]
    }
   ],
   "source": [
    "w1 = widgets.DatePicker()\n",
    "w2 = widgets.Label(value=\"\")\n",
    "\n",
    "def w1_callback(change):\n",
    "    print(type(change[\"new\"]))\n",
    "    w2.value = \"The Value of {} is : {}\".format(change[\"owner\"].__class__.__name__, change[\"new\"])\n",
    "\n",
    "w1.observe(w1_callback, names=\"value\")\n",
    "\n",
    "display(w1, w2)"
   ]
  },
  {
   "cell_type": "markdown",
   "metadata": {},
   "source": [
    "### 4.6 Time Picker"
   ]
  },
  {
   "cell_type": "code",
   "execution_count": 17,
   "metadata": {},
   "outputs": [
    {
     "data": {
      "application/vnd.jupyter.widget-view+json": {
       "model_id": "67f64fad938b49419c45afc450041c79",
       "version_major": 2,
       "version_minor": 0
      },
      "text/plain": [
       "TimePicker(value=None, step=60.0)"
      ]
     },
     "metadata": {},
     "output_type": "display_data"
    },
    {
     "data": {
      "application/vnd.jupyter.widget-view+json": {
       "model_id": "b45aae26607041be84b2441492926d11",
       "version_major": 2,
       "version_minor": 0
      },
      "text/plain": [
       "Label(value='')"
      ]
     },
     "metadata": {},
     "output_type": "display_data"
    },
    {
     "name": "stdout",
     "output_type": "stream",
     "text": [
      "<class 'datetime.time'>\n"
     ]
    }
   ],
   "source": [
    "w1 = widgets.TimePicker()\n",
    "w2 = widgets.Label(value=\"\")\n",
    "\n",
    "def w1_callback(change):\n",
    "    print(type(change[\"new\"]))\n",
    "    w2.value = \"The Value of {} is : {}\".format(change[\"owner\"].__class__.__name__, change[\"new\"])\n",
    "\n",
    "w1.observe(w1_callback, names=\"value\")\n",
    "\n",
    "display(w1, w2)"
   ]
  },
  {
   "cell_type": "markdown",
   "metadata": {},
   "source": [
    "### 4.7 Password Widget"
   ]
  },
  {
   "cell_type": "code",
   "execution_count": 18,
   "metadata": {},
   "outputs": [
    {
     "data": {
      "application/vnd.jupyter.widget-view+json": {
       "model_id": "3f472c06ae794af1b09af3454d26d53f",
       "version_major": 2,
       "version_minor": 0
      },
      "text/plain": [
       "Password(description='Password')"
      ]
     },
     "metadata": {},
     "output_type": "display_data"
    },
    {
     "data": {
      "application/vnd.jupyter.widget-view+json": {
       "model_id": "98ad653084644665bf2b334e738ac1f1",
       "version_major": 2,
       "version_minor": 0
      },
      "text/plain": [
       "Label(value='')"
      ]
     },
     "metadata": {},
     "output_type": "display_data"
    }
   ],
   "source": [
    "w1 = widgets.Password(description=\"Password\")\n",
    "w2 = widgets.Label(value=\"\")\n",
    "\n",
    "def w1_callback(change):\n",
    "    w2.value = \"The Value of {} is : {}\".format(change[\"owner\"].__class__.__name__, change[\"new\"])\n",
    "\n",
    "w1.observe(w1_callback, names=\"value\")\n",
    "\n",
    "display(w1, w2)"
   ]
  },
  {
   "cell_type": "markdown",
   "metadata": {},
   "source": [
    "### 4.8 Range Slider"
   ]
  },
  {
   "cell_type": "code",
   "execution_count": 19,
   "metadata": {},
   "outputs": [
    {
     "data": {
      "application/vnd.jupyter.widget-view+json": {
       "model_id": "c0e4c147306745909ed6ea5c47594a58",
       "version_major": 2,
       "version_minor": 0
      },
      "text/plain": [
       "IntRangeSlider(value=(2, 5), description='Select Range', max=10, min=-5)"
      ]
     },
     "metadata": {},
     "output_type": "display_data"
    },
    {
     "data": {
      "application/vnd.jupyter.widget-view+json": {
       "model_id": "6449080bcf974cf2b14290c1a7f0de15",
       "version_major": 2,
       "version_minor": 0
      },
      "text/plain": [
       "Label(value='')"
      ]
     },
     "metadata": {},
     "output_type": "display_data"
    }
   ],
   "source": [
    "w1 = widgets.IntRangeSlider(description=\"Select Range\", value=(2,5), min=-5, max=10)\n",
    "w2 = widgets.Label(value=\"\")\n",
    "\n",
    "def w1_callback(change):\n",
    "    w2.value = \"The Value of {} is : {}\".format(change[\"owner\"].__class__.__name__, change[\"new\"])\n",
    "\n",
    "w1.observe(w1_callback, names=\"value\")\n",
    "\n",
    "display(w1, w2)"
   ]
  },
  {
   "cell_type": "markdown",
   "metadata": {},
   "source": [
    "### 4.9 Multi Select"
   ]
  },
  {
   "cell_type": "code",
   "execution_count": 20,
   "metadata": {},
   "outputs": [
    {
     "data": {
      "application/vnd.jupyter.widget-view+json": {
       "model_id": "98483d81612a42798d9e07fd19b0cebe",
       "version_major": 2,
       "version_minor": 0
      },
      "text/plain": [
       "SelectMultiple(description='Multi Select', index=(0, 2), options=('Option1', 'Option2', 'Option3', 'Option4', …"
      ]
     },
     "metadata": {},
     "output_type": "display_data"
    },
    {
     "data": {
      "application/vnd.jupyter.widget-view+json": {
       "model_id": "54378eb12cdc4a16b990049bc34e7c72",
       "version_major": 2,
       "version_minor": 0
      },
      "text/plain": [
       "Label(value='')"
      ]
     },
     "metadata": {},
     "output_type": "display_data"
    }
   ],
   "source": [
    "w1 = widgets.SelectMultiple(options=[\"Option1\", \"Option2\", \"Option3\", \"Option4\", \"Option5\"], index=[0,2], \n",
    "                            description=\"Multi Select\")\n",
    "w2 = widgets.Label(value=\"\")\n",
    "\n",
    "def w1_callback(change):\n",
    "    w2.value = \"The Value of {} is : {}\".format(change[\"owner\"].__class__.__name__, change[\"new\"])\n",
    "\n",
    "w1.observe(w1_callback, names=\"value\")\n",
    "\n",
    "display(w1, w2)"
   ]
  },
  {
   "cell_type": "markdown",
   "metadata": {},
   "source": [
    "### 4.10 Combo Box"
   ]
  },
  {
   "cell_type": "code",
   "execution_count": 21,
   "metadata": {},
   "outputs": [
    {
     "data": {
      "application/vnd.jupyter.widget-view+json": {
       "model_id": "5661f047ece94549a5b1b89f6f678f16",
       "version_major": 2,
       "version_minor": 0
      },
      "text/plain": [
       "Combobox(value='', description='Color', options=('Orange', 'Red', 'Green', 'Blue'))"
      ]
     },
     "metadata": {},
     "output_type": "display_data"
    },
    {
     "data": {
      "application/vnd.jupyter.widget-view+json": {
       "model_id": "c60af23aa76543aab4e012b9403bce50",
       "version_major": 2,
       "version_minor": 0
      },
      "text/plain": [
       "Label(value='')"
      ]
     },
     "metadata": {},
     "output_type": "display_data"
    }
   ],
   "source": [
    "w1 = widgets.Combobox(options=[\"Orange\", \"Red\", \"Green\", \"Blue\"], description=\"Color\")\n",
    "w2 = widgets.Label(value=\"\")\n",
    "\n",
    "def w1_callback(change):\n",
    "    w2.value = \"The Value of {} is : {}\".format(change[\"owner\"].__class__.__name__, change[\"new\"])\n",
    "\n",
    "w1.observe(w1_callback, names=\"value\")\n",
    "\n",
    "display(w1, w2)"
   ]
  },
  {
   "cell_type": "markdown",
   "metadata": {},
   "source": [
    "## References\n",
    "\n",
    "* **[ipywidgets: An In-depth Guide](https://coderzcolumn.com/tutorials/python/interactive-widgets-in-jupyter-notebook-using-ipywidgets#2)**"
   ]
  }
 ],
 "metadata": {
  "kernelspec": {
   "display_name": "Python 3 (ipykernel)",
   "language": "python",
   "name": "python3"
  },
  "language_info": {
   "codemirror_mode": {
    "name": "ipython",
    "version": 3
   },
   "file_extension": ".py",
   "mimetype": "text/x-python",
   "name": "python",
   "nbconvert_exporter": "python",
   "pygments_lexer": "ipython3",
   "version": "3.11.3"
  }
 },
 "nbformat": 4,
 "nbformat_minor": 2
}
