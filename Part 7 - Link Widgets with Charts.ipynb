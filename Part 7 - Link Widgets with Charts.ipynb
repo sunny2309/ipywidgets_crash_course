{
 "cells": [
  {
   "cell_type": "markdown",
   "id": "485aad21",
   "metadata": {},
   "source": [
    "# ipywidgets Crash Course: Interactive UIs in Jupyter Notebooks\n",
    "\n",
    "## <span style=\"color:tomato;\">Part 7: Link Widgets with Charts</span>\n",
    "\n",
    "1. **Load Dataset**\n",
    "2. **Link Widgets with Matplotlib Charts**\n",
    "\n",
    "### <span style=\"color:tomato;\">Installation</span>\n",
    "\n",
    "* **pip install ipywidgets**"
   ]
  },
  {
   "cell_type": "code",
   "execution_count": 1,
   "id": "29521e2c",
   "metadata": {},
   "outputs": [
    {
     "name": "stdout",
     "output_type": "stream",
     "text": [
      "8.0.6\n"
     ]
    }
   ],
   "source": [
    "import ipywidgets as widgets\n",
    "\n",
    "print(widgets.__version__)"
   ]
  },
  {
   "cell_type": "code",
   "execution_count": 2,
   "id": "d9ec9640",
   "metadata": {},
   "outputs": [],
   "source": [
    "%matplotlib inline"
   ]
  },
  {
   "cell_type": "markdown",
   "id": "c78a3a33",
   "metadata": {},
   "source": [
    "## 1. Load Dataset"
   ]
  },
  {
   "cell_type": "code",
   "execution_count": 3,
   "id": "f71bfb1d",
   "metadata": {},
   "outputs": [
    {
     "data": {
      "text/html": [
       "<div>\n",
       "<style scoped>\n",
       "    .dataframe tbody tr th:only-of-type {\n",
       "        vertical-align: middle;\n",
       "    }\n",
       "\n",
       "    .dataframe tbody tr th {\n",
       "        vertical-align: top;\n",
       "    }\n",
       "\n",
       "    .dataframe thead th {\n",
       "        text-align: right;\n",
       "    }\n",
       "</style>\n",
       "<table border=\"1\" class=\"dataframe\">\n",
       "  <thead>\n",
       "    <tr style=\"text-align: right;\">\n",
       "      <th></th>\n",
       "      <th>alcohol</th>\n",
       "      <th>malic_acid</th>\n",
       "      <th>ash</th>\n",
       "      <th>alcalinity_of_ash</th>\n",
       "      <th>magnesium</th>\n",
       "      <th>total_phenols</th>\n",
       "      <th>flavanoids</th>\n",
       "      <th>nonflavanoid_phenols</th>\n",
       "      <th>proanthocyanins</th>\n",
       "      <th>color_intensity</th>\n",
       "      <th>hue</th>\n",
       "      <th>od280/od315_of_diluted_wines</th>\n",
       "      <th>proline</th>\n",
       "      <th>WineType</th>\n",
       "    </tr>\n",
       "  </thead>\n",
       "  <tbody>\n",
       "    <tr>\n",
       "      <th>0</th>\n",
       "      <td>14.23</td>\n",
       "      <td>1.71</td>\n",
       "      <td>2.43</td>\n",
       "      <td>15.6</td>\n",
       "      <td>127.0</td>\n",
       "      <td>2.80</td>\n",
       "      <td>3.06</td>\n",
       "      <td>0.28</td>\n",
       "      <td>2.29</td>\n",
       "      <td>5.64</td>\n",
       "      <td>1.04</td>\n",
       "      <td>3.92</td>\n",
       "      <td>1065.0</td>\n",
       "      <td>class_0</td>\n",
       "    </tr>\n",
       "    <tr>\n",
       "      <th>1</th>\n",
       "      <td>13.20</td>\n",
       "      <td>1.78</td>\n",
       "      <td>2.14</td>\n",
       "      <td>11.2</td>\n",
       "      <td>100.0</td>\n",
       "      <td>2.65</td>\n",
       "      <td>2.76</td>\n",
       "      <td>0.26</td>\n",
       "      <td>1.28</td>\n",
       "      <td>4.38</td>\n",
       "      <td>1.05</td>\n",
       "      <td>3.40</td>\n",
       "      <td>1050.0</td>\n",
       "      <td>class_0</td>\n",
       "    </tr>\n",
       "    <tr>\n",
       "      <th>2</th>\n",
       "      <td>13.16</td>\n",
       "      <td>2.36</td>\n",
       "      <td>2.67</td>\n",
       "      <td>18.6</td>\n",
       "      <td>101.0</td>\n",
       "      <td>2.80</td>\n",
       "      <td>3.24</td>\n",
       "      <td>0.30</td>\n",
       "      <td>2.81</td>\n",
       "      <td>5.68</td>\n",
       "      <td>1.03</td>\n",
       "      <td>3.17</td>\n",
       "      <td>1185.0</td>\n",
       "      <td>class_0</td>\n",
       "    </tr>\n",
       "    <tr>\n",
       "      <th>3</th>\n",
       "      <td>14.37</td>\n",
       "      <td>1.95</td>\n",
       "      <td>2.50</td>\n",
       "      <td>16.8</td>\n",
       "      <td>113.0</td>\n",
       "      <td>3.85</td>\n",
       "      <td>3.49</td>\n",
       "      <td>0.24</td>\n",
       "      <td>2.18</td>\n",
       "      <td>7.80</td>\n",
       "      <td>0.86</td>\n",
       "      <td>3.45</td>\n",
       "      <td>1480.0</td>\n",
       "      <td>class_0</td>\n",
       "    </tr>\n",
       "    <tr>\n",
       "      <th>4</th>\n",
       "      <td>13.24</td>\n",
       "      <td>2.59</td>\n",
       "      <td>2.87</td>\n",
       "      <td>21.0</td>\n",
       "      <td>118.0</td>\n",
       "      <td>2.80</td>\n",
       "      <td>2.69</td>\n",
       "      <td>0.39</td>\n",
       "      <td>1.82</td>\n",
       "      <td>4.32</td>\n",
       "      <td>1.04</td>\n",
       "      <td>2.93</td>\n",
       "      <td>735.0</td>\n",
       "      <td>class_0</td>\n",
       "    </tr>\n",
       "  </tbody>\n",
       "</table>\n",
       "</div>"
      ],
      "text/plain": [
       "   alcohol  malic_acid   ash  alcalinity_of_ash  magnesium  total_phenols  \\\n",
       "0    14.23        1.71  2.43               15.6      127.0           2.80   \n",
       "1    13.20        1.78  2.14               11.2      100.0           2.65   \n",
       "2    13.16        2.36  2.67               18.6      101.0           2.80   \n",
       "3    14.37        1.95  2.50               16.8      113.0           3.85   \n",
       "4    13.24        2.59  2.87               21.0      118.0           2.80   \n",
       "\n",
       "   flavanoids  nonflavanoid_phenols  proanthocyanins  color_intensity   hue  \\\n",
       "0        3.06                  0.28             2.29             5.64  1.04   \n",
       "1        2.76                  0.26             1.28             4.38  1.05   \n",
       "2        3.24                  0.30             2.81             5.68  1.03   \n",
       "3        3.49                  0.24             2.18             7.80  0.86   \n",
       "4        2.69                  0.39             1.82             4.32  1.04   \n",
       "\n",
       "   od280/od315_of_diluted_wines  proline WineType  \n",
       "0                          3.92   1065.0  class_0  \n",
       "1                          3.40   1050.0  class_0  \n",
       "2                          3.17   1185.0  class_0  \n",
       "3                          3.45   1480.0  class_0  \n",
       "4                          2.93    735.0  class_0  "
      ]
     },
     "execution_count": 3,
     "metadata": {},
     "output_type": "execute_result"
    }
   ],
   "source": [
    "import pandas as pd\n",
    "from sklearn.datasets import load_wine\n",
    "\n",
    "wine = load_wine()\n",
    "\n",
    "wine_df = pd.DataFrame(data=wine.data, columns=wine.feature_names)\n",
    "wine_df[\"WineType\"] = [wine.target_names[t] for t in wine.target]\n",
    "\n",
    "ingredients = wine.feature_names\n",
    "\n",
    "wine_df.head()"
   ]
  },
  {
   "cell_type": "markdown",
   "id": "889461d7",
   "metadata": {},
   "source": [
    "## 2. Link Widgets with Matplotlib Chart\n",
    "\n",
    "\n",
    "### 2.1 Way 1"
   ]
  },
  {
   "cell_type": "code",
   "execution_count": 4,
   "id": "5450e095",
   "metadata": {},
   "outputs": [],
   "source": [
    "import matplotlib.pyplot as plt\n",
    "\n",
    "color_map = {\"class_0\": \"tomato\", \"class_1\": \"dodgerblue\", \"class_2\": \"lime\"}\n",
    "\n",
    "def create_scatter_chart(ing1, ing2, color_encode):\n",
    "    with plt.style.context(\"fivethirtyeight\"):\n",
    "        fig = plt.figure(figsize=(8,5))\n",
    "\n",
    "        if color_encode:\n",
    "            for c_type in wine_df.WineType.unique():\n",
    "                plt.scatter(x=wine_df[wine_df.WineType==c_type][ing1], y=wine_df[wine_df.WineType==c_type][ing2], \n",
    "                            c=color_map[c_type], edgecolors=\"black\", s=70, label=c_type)\n",
    "            plt.legend(loc=\"best\")\n",
    "        else:\n",
    "            plt.scatter(x=wine_df[ing1], y=wine_df[ing2], c=\"dodgerblue\", edgecolors=\"black\", s=70)\n",
    "\n",
    "\n",
    "        plt.xlabel(ing1.capitalize())\n",
    "        plt.ylabel(ing2.capitalize())\n",
    "        plt.title(\"{} vs {}\".format(ing1[:10].capitalize(), ing2[:10].capitalize()), loc=\"left\", fontsize=15, fontweight=\"bold\", pad=10)\n",
    "        plt.show()"
   ]
  },
  {
   "cell_type": "code",
   "execution_count": 5,
   "id": "c722e38f",
   "metadata": {
    "scrolled": false
   },
   "outputs": [
    {
     "data": {
      "image/png": "[encoded data removed]",
      "text/plain": [
       "<Figure size 800x500 with 1 Axes>"
      ]
     },
     "metadata": {},
     "output_type": "display_data"
    }
   ],
   "source": [
    "create_scatter_chart(\"alcohol\", \"malic_acid\", True)"
   ]
  },
  {
   "cell_type": "code",
   "execution_count": 6,
   "id": "927cd74c",
   "metadata": {},
   "outputs": [],
   "source": [
    "drop1 = widgets.Dropdown(description=\"X-Axis\", options=ingredients, index=0)\n",
    "drop2 = widgets.Dropdown(description=\"Y-Axis\", options=ingredients, index=1)\n",
    "color_encode = widgets.Checkbox(description=\"Color_Encode\")"
   ]
  },
  {
   "cell_type": "code",
   "execution_count": 7,
   "id": "d5cbfaea",
   "metadata": {},
   "outputs": [],
   "source": [
    "scatter_chart = widgets.interactive_output(create_scatter_chart,\n",
    "                                           {\"ing1\": drop1, \"ing2\": drop2, \"color_encode\": color_encode})"
   ]
  },
  {
   "cell_type": "code",
   "execution_count": 8,
   "id": "31e0b039",
   "metadata": {
    "scrolled": false
   },
   "outputs": [
    {
     "data": {
      "application/vnd.jupyter.widget-view+json": {
       "model_id": "6318b8fb60c14fbd92e744514613e037",
       "version_major": 2,
       "version_minor": 0
      },
      "text/plain": [
       "VBox(children=(HBox(children=(Dropdown(description='X-Axis', options=('alcohol', 'malic_acid', 'ash', 'alcalin…"
      ]
     },
     "execution_count": 8,
     "metadata": {},
     "output_type": "execute_result"
    }
   ],
   "source": [
    "widgets.VBox([widgets.HBox([drop1, drop2]), color_encode, scatter_chart])"
   ]
  },
  {
   "cell_type": "markdown",
   "id": "b6dbd76e",
   "metadata": {},
   "source": [
    "### 2.2 Way 2"
   ]
  },
  {
   "cell_type": "code",
   "execution_count": 9,
   "id": "50791343",
   "metadata": {},
   "outputs": [],
   "source": [
    "drop1 = widgets.Dropdown(description=\"X-Axis\", options=ingredients, index=0)\n",
    "drop2 = widgets.Dropdown(description=\"Y-Axis\", options=ingredients, index=1)\n",
    "color_encode = widgets.Checkbox(description=\"Color_Encode\")\n",
    "\n",
    "scatter_chart = widgets.Output()\n",
    "\n",
    "@scatter_chart.capture(clear_output=True, wait=True)\n",
    "def update_chart(change):\n",
    "    create_scatter_chart(drop1.value, drop2.value, color_encode.value)\n",
    "\n",
    "drop1.observe(update_chart, names=\"value\")\n",
    "drop2.observe(update_chart, names=\"value\")\n",
    "color_encode.observe(update_chart, names=\"value\")"
   ]
  },
  {
   "cell_type": "code",
   "execution_count": 10,
   "id": "215dabec",
   "metadata": {
    "scrolled": false
   },
   "outputs": [
    {
     "data": {
      "application/vnd.jupyter.widget-view+json": {
       "model_id": "1a9f8e98eb7c43b6976e3b2d892aa6d5",
       "version_major": 2,
       "version_minor": 0
      },
      "text/plain": [
       "VBox(children=(HBox(children=(Dropdown(description='X-Axis', options=('alcohol', 'malic_acid', 'ash', 'alcalin…"
      ]
     },
     "execution_count": 10,
     "metadata": {},
     "output_type": "execute_result"
    }
   ],
   "source": [
    "widgets.VBox([widgets.HBox([drop1, drop2]), color_encode, scatter_chart])"
   ]
  },
  {
   "cell_type": "markdown",
   "id": "4bf5cc88",
   "metadata": {},
   "source": [
    "## Summary\n",
    "\n",
    "In today's video, I explained how to link widgets with **Matplotlib Charts** to create **interactive GUIs**. Please feel free to let me know your views in the comments section.\n",
    "\n",
    "Visit **https://coderzcolumn.com** for more **Python Tutorials**."
   ]
  }
 ],
 "metadata": {
  "kernelspec": {
   "display_name": "Python 3 (ipykernel)",
   "language": "python",
   "name": "python3"
  },
  "language_info": {
   "codemirror_mode": {
    "name": "ipython",
    "version": 3
   },
   "file_extension": ".py",
   "mimetype": "text/x-python",
   "name": "python",
   "nbconvert_exporter": "python",
   "pygments_lexer": "ipython3",
   "version": "3.11.3"
  }
 },
 "nbformat": 4,
 "nbformat_minor": 5
}
